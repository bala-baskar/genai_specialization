{
  "metadata": {
    "kernelspec": {
      "name": "python3",
      "display_name": "Python 3",
      "language": "python"
    },
    "language_info": {
      "name": "python",
      "version": "3.10.14",
      "mimetype": "text/x-python",
      "codemirror_mode": {
        "name": "ipython",
        "version": 3
      },
      "pygments_lexer": "ipython3",
      "nbconvert_exporter": "python",
      "file_extension": ".py"
    },
    "colab": {
      "provenance": [],
      "include_colab_link": true
    },
    "kaggle": {
      "accelerator": "none",
      "dataSources": [],
      "dockerImageVersionId": 30786,
      "isInternetEnabled": true,
      "language": "python",
      "sourceType": "notebook",
      "isGpuEnabled": false
    },
    "widgets": {
      "application/vnd.jupyter.widget-state+json": {
        "0aa603d5f421489c9cc2e0e0b82bf82b": {
          "model_module": "@jupyter-widgets/output",
          "model_name": "OutputModel",
          "model_module_version": "1.0.0",
          "state": {
            "_dom_classes": [],
            "_model_module": "@jupyter-widgets/output",
            "_model_module_version": "1.0.0",
            "_model_name": "OutputModel",
            "_view_count": null,
            "_view_module": "@jupyter-widgets/output",
            "_view_module_version": "1.0.0",
            "_view_name": "OutputView",
            "layout": "IPY_MODEL_07879e458dd34de383b22e50f5061fd7",
            "msg_id": "",
            "outputs": [
              {
                "output_type": "display_data",
                "data": {
                  "text/plain": "\u001b[35m 100%\u001b[0m \u001b[38;2;114;156;31m━━━━━━━━━━━━━━━━━━━━━━━━━━━━━━━━━━━━━━━━━━━━━━━━━━━━━━━━━━━━━━━━━━━━━━━\u001b[0m \u001b[32m16/16 \u001b[0m [ \u001b[33m0:00:06\u001b[0m < \u001b[36m0:00:00\u001b[0m , \u001b[31m2 it/s\u001b[0m ]\n",
                  "text/html": "<pre style=\"white-space:pre;overflow-x:auto;line-height:normal;font-family:Menlo,'DejaVu Sans Mono',consolas,'Courier New',monospace\"><span style=\"color: #800080; text-decoration-color: #800080\"> 100%</span> <span style=\"color: #729c1f; text-decoration-color: #729c1f\">━━━━━━━━━━━━━━━━━━━━━━━━━━━━━━━━━━━━━━━━━━━━━━━━━━━━━━━━━━━━━━━━━━━━━━━</span> <span style=\"color: #008000; text-decoration-color: #008000\">16/16 </span> [ <span style=\"color: #808000; text-decoration-color: #808000\">0:00:06</span> &lt; <span style=\"color: #008080; text-decoration-color: #008080\">0:00:00</span> , <span style=\"color: #800000; text-decoration-color: #800000\">2 it/s</span> ]\n</pre>\n"
                },
                "metadata": {}
              }
            ]
          }
        },
        "07879e458dd34de383b22e50f5061fd7": {
          "model_module": "@jupyter-widgets/base",
          "model_name": "LayoutModel",
          "model_module_version": "1.2.0",
          "state": {
            "_model_module": "@jupyter-widgets/base",
            "_model_module_version": "1.2.0",
            "_model_name": "LayoutModel",
            "_view_count": null,
            "_view_module": "@jupyter-widgets/base",
            "_view_module_version": "1.2.0",
            "_view_name": "LayoutView",
            "align_content": null,
            "align_items": null,
            "align_self": null,
            "border": null,
            "bottom": null,
            "display": null,
            "flex": null,
            "flex_flow": null,
            "grid_area": null,
            "grid_auto_columns": null,
            "grid_auto_flow": null,
            "grid_auto_rows": null,
            "grid_column": null,
            "grid_gap": null,
            "grid_row": null,
            "grid_template_areas": null,
            "grid_template_columns": null,
            "grid_template_rows": null,
            "height": null,
            "justify_content": null,
            "justify_items": null,
            "left": null,
            "margin": null,
            "max_height": null,
            "max_width": null,
            "min_height": null,
            "min_width": null,
            "object_fit": null,
            "object_position": null,
            "order": null,
            "overflow": null,
            "overflow_x": null,
            "overflow_y": null,
            "padding": null,
            "right": null,
            "top": null,
            "visibility": null,
            "width": null
          }
        },
        "ab85ba6a84a741ff816db7d8843f97c4": {
          "model_module": "@jupyter-widgets/output",
          "model_name": "OutputModel",
          "model_module_version": "1.0.0",
          "state": {
            "_dom_classes": [],
            "_model_module": "@jupyter-widgets/output",
            "_model_module_version": "1.0.0",
            "_model_name": "OutputModel",
            "_view_count": null,
            "_view_module": "@jupyter-widgets/output",
            "_view_module_version": "1.0.0",
            "_view_name": "OutputView",
            "layout": "IPY_MODEL_90158f3446f04d4e8d1ecce9255834d6",
            "msg_id": "",
            "outputs": [
              {
                "output_type": "display_data",
                "data": {
                  "text/plain": "\u001b[35m 100%\u001b[0m \u001b[38;2;114;156;31m━━━━━━━━━━━━━━━━━━━━━━━━━━━━━━━━━━━━━━━━━━━━━━━━━━━━━━━━━━━━━━━━━━━━━━━\u001b[0m \u001b[32m32/32 \u001b[0m [ \u001b[33m0:01:06\u001b[0m < \u001b[36m0:00:00\u001b[0m , \u001b[31m1 it/s\u001b[0m ]\n",
                  "text/html": "<pre style=\"white-space:pre;overflow-x:auto;line-height:normal;font-family:Menlo,'DejaVu Sans Mono',consolas,'Courier New',monospace\"><span style=\"color: #800080; text-decoration-color: #800080\"> 100%</span> <span style=\"color: #729c1f; text-decoration-color: #729c1f\">━━━━━━━━━━━━━━━━━━━━━━━━━━━━━━━━━━━━━━━━━━━━━━━━━━━━━━━━━━━━━━━━━━━━━━━</span> <span style=\"color: #008000; text-decoration-color: #008000\">32/32 </span> [ <span style=\"color: #808000; text-decoration-color: #808000\">0:01:06</span> &lt; <span style=\"color: #008080; text-decoration-color: #008080\">0:00:00</span> , <span style=\"color: #800000; text-decoration-color: #800000\">1 it/s</span> ]\n</pre>\n"
                },
                "metadata": {}
              }
            ]
          }
        },
        "90158f3446f04d4e8d1ecce9255834d6": {
          "model_module": "@jupyter-widgets/base",
          "model_name": "LayoutModel",
          "model_module_version": "1.2.0",
          "state": {
            "_model_module": "@jupyter-widgets/base",
            "_model_module_version": "1.2.0",
            "_model_name": "LayoutModel",
            "_view_count": null,
            "_view_module": "@jupyter-widgets/base",
            "_view_module_version": "1.2.0",
            "_view_name": "LayoutView",
            "align_content": null,
            "align_items": null,
            "align_self": null,
            "border": null,
            "bottom": null,
            "display": null,
            "flex": null,
            "flex_flow": null,
            "grid_area": null,
            "grid_auto_columns": null,
            "grid_auto_flow": null,
            "grid_auto_rows": null,
            "grid_column": null,
            "grid_gap": null,
            "grid_row": null,
            "grid_template_areas": null,
            "grid_template_columns": null,
            "grid_template_rows": null,
            "height": null,
            "justify_content": null,
            "justify_items": null,
            "left": null,
            "margin": null,
            "max_height": null,
            "max_width": null,
            "min_height": null,
            "min_width": null,
            "object_fit": null,
            "object_position": null,
            "order": null,
            "overflow": null,
            "overflow_x": null,
            "overflow_y": null,
            "padding": null,
            "right": null,
            "top": null,
            "visibility": null,
            "width": null
          }
        }
      }
    }
  },
  "nbformat_minor": 0,
  "nbformat": 4,
  "cells": [
    {
      "cell_type": "markdown",
      "metadata": {
        "id": "view-in-github",
        "colab_type": "text"
      },
      "source": [
        "<a href=\"https://colab.research.google.com/github/bala-baskar/genai_specialization/blob/main/kaggle_genai_course/codes/Day_4_Fine_tuning_a_custom_model.ipynb\" target=\"_parent\"><img src=\"https://colab.research.google.com/assets/colab-badge.svg\" alt=\"Open In Colab\"/></a>"
      ]
    },
    {
      "cell_type": "markdown",
      "source": [
        "##### Copyright 2025 Google LLC."
      ],
      "metadata": {
        "id": "b6e13eef3f5d"
      }
    },
    {
      "cell_type": "code",
      "source": [
        "# @title Licensed under the Apache License, Version 2.0 (the \"License\");\n",
        "# you may not use this file except in compliance with the License.\n",
        "# You may obtain a copy of the License at\n",
        "#\n",
        "# https://www.apache.org/licenses/LICENSE-2.0\n",
        "#\n",
        "# Unless required by applicable law or agreed to in writing, software\n",
        "# distributed under the License is distributed on an \"AS IS\" BASIS,\n",
        "# WITHOUT WARRANTIES OR CONDITIONS OF ANY KIND, either express or implied.\n",
        "# See the License for the specific language governing permissions and\n",
        "# limitations under the License."
      ],
      "metadata": {
        "cellView": "form",
        "id": "d6597b11df14",
        "jupyter": {
          "source_hidden": true
        },
        "trusted": true,
        "execution": {
          "iopub.status.busy": "2025-02-28T07:39:24.010656Z",
          "iopub.execute_input": "2025-02-28T07:39:24.011577Z",
          "iopub.status.idle": "2025-02-28T07:39:24.035703Z",
          "shell.execute_reply.started": "2025-02-28T07:39:24.011515Z",
          "shell.execute_reply": "2025-02-28T07:39:24.034263Z"
        }
      },
      "outputs": [],
      "execution_count": null
    },
    {
      "cell_type": "markdown",
      "source": [
        "# Day 4 - Fine tuning a custom model\n",
        "\n",
        "Welcome back to the Kaggle 5-day Generative AI course!\n",
        "\n",
        "In this notebook you will use the Gemini API to fine-tune a custom, task-specific model. Fine-tuning can be used for a variety of tasks from classic NLP problems like entity extraction or summarisation, to creative tasks like stylised generation. You will fine-tune a model to classify the category a piece of text (a newsgroup post) into the category it belongs to (the newsgroup name).\n",
        "\n",
        "This codelab walks you tuning a model with the API. [AI Studio](https://aistudio.google.com/app/tune) also supports creating new tuned models directly in the web UI, allowing you to quickly create and monitor models using data from Google Sheets, Drive or your own files.\n",
        "\n",
        "**Note**: We recommend doing this codelab first today. There may be a period of waiting while the model tunes, so if you start with this one, you can try the other codelab while you wait."
      ],
      "metadata": {
        "id": "4KDIFPAL2EnL"
      }
    },
    {
      "cell_type": "code",
      "source": [
        "# !pip uninstall -qqy jupyterlab  # Remove unused conflicting packages\n",
        "!pip install -U -q \"google-genai==1.7.0\""
      ],
      "metadata": {
        "id": "9wafTyEH1_xF",
        "trusted": true,
        "execution": {
          "iopub.status.busy": "2025-04-02T07:48:50.513748Z",
          "iopub.execute_input": "2025-04-02T07:48:50.51413Z",
          "iopub.status.idle": "2025-04-02T07:49:10.461862Z",
          "shell.execute_reply.started": "2025-04-02T07:48:50.514097Z",
          "shell.execute_reply": "2025-04-02T07:49:10.46006Z"
        },
        "colab": {
          "base_uri": "https://localhost:8080/"
        },
        "outputId": "73a9fab2-bfea-4207-9350-4627775e3ada"
      },
      "outputs": [
        {
          "output_type": "stream",
          "name": "stdout",
          "text": [
            "\u001b[?25l   \u001b[90m━━━━━━━━━━━━━━━━━━━━━━━━━━━━━━━━━━━━━━━━\u001b[0m \u001b[32m0.0/144.7 kB\u001b[0m \u001b[31m?\u001b[0m eta \u001b[36m-:--:--\u001b[0m\r\u001b[2K   \u001b[90m━━━━━━━━━━━━━━━━━━━━━━━━━━━━━━━━━━━━━━━━\u001b[0m \u001b[32m144.7/144.7 kB\u001b[0m \u001b[31m6.1 MB/s\u001b[0m eta \u001b[36m0:00:00\u001b[0m\n",
            "\u001b[?25h"
          ]
        }
      ],
      "execution_count": 1
    },
    {
      "cell_type": "code",
      "source": [
        "from google import genai\n",
        "from google.genai import types\n",
        "\n",
        "genai.__version__"
      ],
      "metadata": {
        "id": "T0CBG9xL2PvT",
        "trusted": true,
        "execution": {
          "iopub.status.busy": "2025-04-02T07:49:10.464654Z",
          "iopub.execute_input": "2025-04-02T07:49:10.465052Z",
          "iopub.status.idle": "2025-04-02T07:49:11.954087Z",
          "shell.execute_reply.started": "2025-04-02T07:49:10.465012Z",
          "shell.execute_reply": "2025-04-02T07:49:11.95277Z"
        },
        "colab": {
          "base_uri": "https://localhost:8080/",
          "height": 35
        },
        "outputId": "b0b9c50e-2ea4-4c84-872a-3dc573302b1f"
      },
      "outputs": [
        {
          "output_type": "execute_result",
          "data": {
            "text/plain": [
              "'1.7.0'"
            ],
            "application/vnd.google.colaboratory.intrinsic+json": {
              "type": "string"
            }
          },
          "metadata": {},
          "execution_count": 2
        }
      ],
      "execution_count": 2
    },
    {
      "cell_type": "markdown",
      "source": [
        "### Set up your API key\n",
        "\n",
        "To run the following cell, your API key must be stored it in a [Kaggle secret](https://www.kaggle.com/discussions/product-feedback/114053) named `GOOGLE_API_KEY`.\n",
        "\n",
        "If you don't already have an API key, you can grab one from [AI Studio](https://aistudio.google.com/app/apikey). You can find [detailed instructions in the docs](https://ai.google.dev/gemini-api/docs/api-key).\n",
        "\n",
        "To make the key available through Kaggle secrets, choose `Secrets` from the `Add-ons` menu and follow the instructions to add your key or enable it for this notebook."
      ],
      "metadata": {
        "id": "P4bYX2T72ScK"
      }
    },
    {
      "cell_type": "code",
      "source": [
        "from google.colab import userdata\n",
        "\n",
        "GOOGLE_API_KEY = userdata.get('GOOGLE_API_KEY')\n",
        "client = genai.Client(api_key=GOOGLE_API_KEY)"
      ],
      "metadata": {
        "id": "VuJPY3GK2SLZ",
        "trusted": true,
        "execution": {
          "iopub.status.busy": "2025-04-02T07:49:11.955554Z",
          "iopub.execute_input": "2025-04-02T07:49:11.956072Z",
          "iopub.status.idle": "2025-04-02T07:49:12.223295Z",
          "shell.execute_reply.started": "2025-04-02T07:49:11.956035Z",
          "shell.execute_reply": "2025-04-02T07:49:12.22195Z"
        }
      },
      "outputs": [],
      "execution_count": 3
    },
    {
      "cell_type": "markdown",
      "source": [
        "### Explore available models\n",
        "\n",
        "You will be using the [`TunedModel.create`](https://ai.google.dev/api/tuning#method:-tunedmodels.create) API method to start the fine-tuning job and create your custom model. Find a model that supports it through the [`models.list`](https://ai.google.dev/api/models#method:-models.list) endpoint. You can also find more information about tuning models in [the model tuning docs](https://ai.google.dev/gemini-api/docs/model-tuning/tutorial?lang=python)."
      ],
      "metadata": {
        "id": "CqVA5QFO6n4z"
      }
    },
    {
      "cell_type": "code",
      "source": [
        "for model in client.models.list():\n",
        "    if \"createTunedModel\" in model.supported_actions:\n",
        "        print(model.name)"
      ],
      "metadata": {
        "id": "coEacWAB6o0G",
        "trusted": true,
        "execution": {
          "iopub.status.busy": "2025-04-02T07:49:12.225628Z",
          "iopub.execute_input": "2025-04-02T07:49:12.225986Z",
          "iopub.status.idle": "2025-04-02T07:49:12.475683Z",
          "shell.execute_reply.started": "2025-04-02T07:49:12.225951Z",
          "shell.execute_reply": "2025-04-02T07:49:12.47424Z"
        },
        "colab": {
          "base_uri": "https://localhost:8080/"
        },
        "outputId": "63acd328-12fa-4c02-afff-3c1f802ea9f1"
      },
      "outputs": [
        {
          "output_type": "stream",
          "name": "stdout",
          "text": [
            "models/gemini-1.5-flash-001-tuning\n"
          ]
        }
      ],
      "execution_count": 4
    },
    {
      "cell_type": "markdown",
      "source": [
        "## Download the dataset\n",
        "\n",
        "In this activity, you will use the same newsgroups dataset that [you used to train a classifier in Keras](https://www.kaggle.com/code/markishere/day-2-classifying-embeddings-with-keras/). In this example you will use a fine-tuned Gemini model to achieve the same goal.\n",
        "\n",
        "The [20 Newsgroups Text Dataset](https://scikit-learn.org/0.19/datasets/twenty_newsgroups.html) contains 18,000 newsgroups posts on 20 topics divided into training and test sets."
      ],
      "metadata": {
        "id": "peFm0w_0c1CO"
      }
    },
    {
      "cell_type": "code",
      "source": [
        "from sklearn.datasets import fetch_20newsgroups\n",
        "\n",
        "newsgroups_train = fetch_20newsgroups(subset=\"train\")\n",
        "newsgroups_test = fetch_20newsgroups(subset=\"test\")\n",
        "\n",
        "# View list of class names for dataset\n",
        "newsgroups_train.target_names"
      ],
      "metadata": {
        "id": "bX_kpgnQ9b-Z",
        "trusted": true,
        "execution": {
          "iopub.status.busy": "2025-04-02T07:49:12.476866Z",
          "iopub.execute_input": "2025-04-02T07:49:12.477215Z",
          "iopub.status.idle": "2025-04-02T07:49:24.294123Z",
          "shell.execute_reply.started": "2025-04-02T07:49:12.477128Z",
          "shell.execute_reply": "2025-04-02T07:49:24.292962Z"
        },
        "colab": {
          "base_uri": "https://localhost:8080/"
        },
        "outputId": "b1242239-2be6-49ed-e48c-65820c9896a6"
      },
      "outputs": [
        {
          "output_type": "execute_result",
          "data": {
            "text/plain": [
              "['alt.atheism',\n",
              " 'comp.graphics',\n",
              " 'comp.os.ms-windows.misc',\n",
              " 'comp.sys.ibm.pc.hardware',\n",
              " 'comp.sys.mac.hardware',\n",
              " 'comp.windows.x',\n",
              " 'misc.forsale',\n",
              " 'rec.autos',\n",
              " 'rec.motorcycles',\n",
              " 'rec.sport.baseball',\n",
              " 'rec.sport.hockey',\n",
              " 'sci.crypt',\n",
              " 'sci.electronics',\n",
              " 'sci.med',\n",
              " 'sci.space',\n",
              " 'soc.religion.christian',\n",
              " 'talk.politics.guns',\n",
              " 'talk.politics.mideast',\n",
              " 'talk.politics.misc',\n",
              " 'talk.religion.misc']"
            ]
          },
          "metadata": {},
          "execution_count": 5
        }
      ],
      "execution_count": 5
    },
    {
      "cell_type": "markdown",
      "source": [
        "Here's what a single row looks like."
      ],
      "metadata": {
        "id": "ipafe6ptZFjt"
      }
    },
    {
      "cell_type": "code",
      "source": [
        "print(newsgroups_train.data[0])"
      ],
      "metadata": {
        "id": "EtEXcdT39hCB",
        "trusted": true,
        "execution": {
          "iopub.status.busy": "2025-04-02T07:49:24.295557Z",
          "iopub.execute_input": "2025-04-02T07:49:24.295965Z",
          "iopub.status.idle": "2025-04-02T07:49:24.301543Z",
          "shell.execute_reply.started": "2025-04-02T07:49:24.295933Z",
          "shell.execute_reply": "2025-04-02T07:49:24.300488Z"
        },
        "colab": {
          "base_uri": "https://localhost:8080/"
        },
        "outputId": "91fcb4e0-22dc-4a32-d322-ac336a0c19dc"
      },
      "outputs": [
        {
          "output_type": "stream",
          "name": "stdout",
          "text": [
            "From: lerxst@wam.umd.edu (where's my thing)\n",
            "Subject: WHAT car is this!?\n",
            "Nntp-Posting-Host: rac3.wam.umd.edu\n",
            "Organization: University of Maryland, College Park\n",
            "Lines: 15\n",
            "\n",
            " I was wondering if anyone out there could enlighten me on this car I saw\n",
            "the other day. It was a 2-door sports car, looked to be from the late 60s/\n",
            "early 70s. It was called a Bricklin. The doors were really small. In addition,\n",
            "the front bumper was separate from the rest of the body. This is \n",
            "all I know. If anyone can tellme a model name, engine specs, years\n",
            "of production, where this car is made, history, or whatever info you\n",
            "have on this funky looking car, please e-mail.\n",
            "\n",
            "Thanks,\n",
            "- IL\n",
            "   ---- brought to you by your neighborhood Lerxst ----\n",
            "\n",
            "\n",
            "\n",
            "\n",
            "\n"
          ]
        }
      ],
      "execution_count": 6
    },
    {
      "cell_type": "markdown",
      "source": [
        "## Prepare the dataset\n",
        "\n",
        "You'll use the same pre-processing code you used for the custom model on day 2. This pre-processing removes personal information, which can be used to \"shortcut\" to known users of a forum, and formats the text to appear a bit more like regular text and less like a newsgroup post (e.g. by removing the mail headers). This normalisation allows the model to generalise to regular text and not over-depend on specific fields. If your input data is always going to be newsgroup posts, it may be helpful to leave this structure in place if they provide genuine signals."
      ],
      "metadata": {
        "id": "03lDs1O4ZQ0-"
      }
    },
    {
      "cell_type": "code",
      "source": [
        "import email\n",
        "import re\n",
        "\n",
        "import pandas as pd\n",
        "\n",
        "\n",
        "def preprocess_newsgroup_row(data):\n",
        "    # Extract only the subject and body\n",
        "    msg = email.message_from_string(data)\n",
        "    text = f\"{msg['Subject']}\\n\\n{msg.get_payload()}\"\n",
        "    # Strip any remaining email addresses\n",
        "    text = re.sub(r\"[\\w\\.-]+@[\\w\\.-]+\", \"\", text)\n",
        "    # Truncate the text to fit within the input limits\n",
        "    text = text[:40000]\n",
        "\n",
        "    return text\n",
        "\n",
        "\n",
        "def preprocess_newsgroup_data(newsgroup_dataset):\n",
        "    # Put data points into dataframe\n",
        "    df = pd.DataFrame(\n",
        "        {\"Text\": newsgroup_dataset.data, \"Label\": newsgroup_dataset.target}\n",
        "    )\n",
        "    # Clean up the text\n",
        "    df[\"Text\"] = df[\"Text\"].apply(preprocess_newsgroup_row)\n",
        "    # Match label to target name index\n",
        "    df[\"Class Name\"] = df[\"Label\"].map(lambda l: newsgroup_dataset.target_names[l])\n",
        "\n",
        "    return df"
      ],
      "metadata": {
        "id": "IoNYTxpoZgB0",
        "trusted": true,
        "execution": {
          "iopub.status.busy": "2025-04-02T07:49:24.302711Z",
          "iopub.execute_input": "2025-04-02T07:49:24.303116Z",
          "iopub.status.idle": "2025-04-02T07:49:24.673312Z",
          "shell.execute_reply.started": "2025-04-02T07:49:24.30307Z",
          "shell.execute_reply": "2025-04-02T07:49:24.671991Z"
        }
      },
      "outputs": [],
      "execution_count": 7
    },
    {
      "cell_type": "code",
      "source": [
        "# Apply preprocessing to training and test datasets\n",
        "df_train = preprocess_newsgroup_data(newsgroups_train)\n",
        "df_test = preprocess_newsgroup_data(newsgroups_test)\n",
        "\n",
        "df_train.head()"
      ],
      "metadata": {
        "id": "kvOsUSRWaW4g",
        "trusted": true,
        "execution": {
          "iopub.status.busy": "2025-04-02T07:49:43.572509Z",
          "iopub.execute_input": "2025-04-02T07:49:43.573622Z",
          "iopub.status.idle": "2025-04-02T07:49:47.447228Z",
          "shell.execute_reply.started": "2025-04-02T07:49:43.573563Z",
          "shell.execute_reply": "2025-04-02T07:49:47.445992Z"
        },
        "colab": {
          "base_uri": "https://localhost:8080/",
          "height": 204
        },
        "outputId": "475146e5-2ea7-465d-b4e2-afd8ebc417f2"
      },
      "outputs": [
        {
          "output_type": "execute_result",
          "data": {
            "text/plain": [
              "                                                Text  Label  \\\n",
              "0  WHAT car is this!?\\n\\n I was wondering if anyo...      7   \n",
              "1  SI Clock Poll - Final Call\\n\\nA fair number of...      4   \n",
              "2  PB questions...\\n\\nwell folks, my mac plus fin...      4   \n",
              "3  Re: Weitek P9000 ?\\n\\nRobert J.C. Kyanko () wr...      1   \n",
              "4  Re: Shuttle Launch Question\\n\\nFrom article <>...     14   \n",
              "\n",
              "              Class Name  \n",
              "0              rec.autos  \n",
              "1  comp.sys.mac.hardware  \n",
              "2  comp.sys.mac.hardware  \n",
              "3          comp.graphics  \n",
              "4              sci.space  "
            ],
            "text/html": [
              "\n",
              "  <div id=\"df-5ffd9f89-e21f-4f07-977e-a07973abfbdc\" class=\"colab-df-container\">\n",
              "    <div>\n",
              "<style scoped>\n",
              "    .dataframe tbody tr th:only-of-type {\n",
              "        vertical-align: middle;\n",
              "    }\n",
              "\n",
              "    .dataframe tbody tr th {\n",
              "        vertical-align: top;\n",
              "    }\n",
              "\n",
              "    .dataframe thead th {\n",
              "        text-align: right;\n",
              "    }\n",
              "</style>\n",
              "<table border=\"1\" class=\"dataframe\">\n",
              "  <thead>\n",
              "    <tr style=\"text-align: right;\">\n",
              "      <th></th>\n",
              "      <th>Text</th>\n",
              "      <th>Label</th>\n",
              "      <th>Class Name</th>\n",
              "    </tr>\n",
              "  </thead>\n",
              "  <tbody>\n",
              "    <tr>\n",
              "      <th>0</th>\n",
              "      <td>WHAT car is this!?\\n\\n I was wondering if anyo...</td>\n",
              "      <td>7</td>\n",
              "      <td>rec.autos</td>\n",
              "    </tr>\n",
              "    <tr>\n",
              "      <th>1</th>\n",
              "      <td>SI Clock Poll - Final Call\\n\\nA fair number of...</td>\n",
              "      <td>4</td>\n",
              "      <td>comp.sys.mac.hardware</td>\n",
              "    </tr>\n",
              "    <tr>\n",
              "      <th>2</th>\n",
              "      <td>PB questions...\\n\\nwell folks, my mac plus fin...</td>\n",
              "      <td>4</td>\n",
              "      <td>comp.sys.mac.hardware</td>\n",
              "    </tr>\n",
              "    <tr>\n",
              "      <th>3</th>\n",
              "      <td>Re: Weitek P9000 ?\\n\\nRobert J.C. Kyanko () wr...</td>\n",
              "      <td>1</td>\n",
              "      <td>comp.graphics</td>\n",
              "    </tr>\n",
              "    <tr>\n",
              "      <th>4</th>\n",
              "      <td>Re: Shuttle Launch Question\\n\\nFrom article &lt;&gt;...</td>\n",
              "      <td>14</td>\n",
              "      <td>sci.space</td>\n",
              "    </tr>\n",
              "  </tbody>\n",
              "</table>\n",
              "</div>\n",
              "    <div class=\"colab-df-buttons\">\n",
              "\n",
              "  <div class=\"colab-df-container\">\n",
              "    <button class=\"colab-df-convert\" onclick=\"convertToInteractive('df-5ffd9f89-e21f-4f07-977e-a07973abfbdc')\"\n",
              "            title=\"Convert this dataframe to an interactive table.\"\n",
              "            style=\"display:none;\">\n",
              "\n",
              "  <svg xmlns=\"http://www.w3.org/2000/svg\" height=\"24px\" viewBox=\"0 -960 960 960\">\n",
              "    <path d=\"M120-120v-720h720v720H120Zm60-500h600v-160H180v160Zm220 220h160v-160H400v160Zm0 220h160v-160H400v160ZM180-400h160v-160H180v160Zm440 0h160v-160H620v160ZM180-180h160v-160H180v160Zm440 0h160v-160H620v160Z\"/>\n",
              "  </svg>\n",
              "    </button>\n",
              "\n",
              "  <style>\n",
              "    .colab-df-container {\n",
              "      display:flex;\n",
              "      gap: 12px;\n",
              "    }\n",
              "\n",
              "    .colab-df-convert {\n",
              "      background-color: #E8F0FE;\n",
              "      border: none;\n",
              "      border-radius: 50%;\n",
              "      cursor: pointer;\n",
              "      display: none;\n",
              "      fill: #1967D2;\n",
              "      height: 32px;\n",
              "      padding: 0 0 0 0;\n",
              "      width: 32px;\n",
              "    }\n",
              "\n",
              "    .colab-df-convert:hover {\n",
              "      background-color: #E2EBFA;\n",
              "      box-shadow: 0px 1px 2px rgba(60, 64, 67, 0.3), 0px 1px 3px 1px rgba(60, 64, 67, 0.15);\n",
              "      fill: #174EA6;\n",
              "    }\n",
              "\n",
              "    .colab-df-buttons div {\n",
              "      margin-bottom: 4px;\n",
              "    }\n",
              "\n",
              "    [theme=dark] .colab-df-convert {\n",
              "      background-color: #3B4455;\n",
              "      fill: #D2E3FC;\n",
              "    }\n",
              "\n",
              "    [theme=dark] .colab-df-convert:hover {\n",
              "      background-color: #434B5C;\n",
              "      box-shadow: 0px 1px 3px 1px rgba(0, 0, 0, 0.15);\n",
              "      filter: drop-shadow(0px 1px 2px rgba(0, 0, 0, 0.3));\n",
              "      fill: #FFFFFF;\n",
              "    }\n",
              "  </style>\n",
              "\n",
              "    <script>\n",
              "      const buttonEl =\n",
              "        document.querySelector('#df-5ffd9f89-e21f-4f07-977e-a07973abfbdc button.colab-df-convert');\n",
              "      buttonEl.style.display =\n",
              "        google.colab.kernel.accessAllowed ? 'block' : 'none';\n",
              "\n",
              "      async function convertToInteractive(key) {\n",
              "        const element = document.querySelector('#df-5ffd9f89-e21f-4f07-977e-a07973abfbdc');\n",
              "        const dataTable =\n",
              "          await google.colab.kernel.invokeFunction('convertToInteractive',\n",
              "                                                    [key], {});\n",
              "        if (!dataTable) return;\n",
              "\n",
              "        const docLinkHtml = 'Like what you see? Visit the ' +\n",
              "          '<a target=\"_blank\" href=https://colab.research.google.com/notebooks/data_table.ipynb>data table notebook</a>'\n",
              "          + ' to learn more about interactive tables.';\n",
              "        element.innerHTML = '';\n",
              "        dataTable['output_type'] = 'display_data';\n",
              "        await google.colab.output.renderOutput(dataTable, element);\n",
              "        const docLink = document.createElement('div');\n",
              "        docLink.innerHTML = docLinkHtml;\n",
              "        element.appendChild(docLink);\n",
              "      }\n",
              "    </script>\n",
              "  </div>\n",
              "\n",
              "\n",
              "<div id=\"df-6db809d7-bc61-4fda-9bcd-a8f743820bae\">\n",
              "  <button class=\"colab-df-quickchart\" onclick=\"quickchart('df-6db809d7-bc61-4fda-9bcd-a8f743820bae')\"\n",
              "            title=\"Suggest charts\"\n",
              "            style=\"display:none;\">\n",
              "\n",
              "<svg xmlns=\"http://www.w3.org/2000/svg\" height=\"24px\"viewBox=\"0 0 24 24\"\n",
              "     width=\"24px\">\n",
              "    <g>\n",
              "        <path d=\"M19 3H5c-1.1 0-2 .9-2 2v14c0 1.1.9 2 2 2h14c1.1 0 2-.9 2-2V5c0-1.1-.9-2-2-2zM9 17H7v-7h2v7zm4 0h-2V7h2v10zm4 0h-2v-4h2v4z\"/>\n",
              "    </g>\n",
              "</svg>\n",
              "  </button>\n",
              "\n",
              "<style>\n",
              "  .colab-df-quickchart {\n",
              "      --bg-color: #E8F0FE;\n",
              "      --fill-color: #1967D2;\n",
              "      --hover-bg-color: #E2EBFA;\n",
              "      --hover-fill-color: #174EA6;\n",
              "      --disabled-fill-color: #AAA;\n",
              "      --disabled-bg-color: #DDD;\n",
              "  }\n",
              "\n",
              "  [theme=dark] .colab-df-quickchart {\n",
              "      --bg-color: #3B4455;\n",
              "      --fill-color: #D2E3FC;\n",
              "      --hover-bg-color: #434B5C;\n",
              "      --hover-fill-color: #FFFFFF;\n",
              "      --disabled-bg-color: #3B4455;\n",
              "      --disabled-fill-color: #666;\n",
              "  }\n",
              "\n",
              "  .colab-df-quickchart {\n",
              "    background-color: var(--bg-color);\n",
              "    border: none;\n",
              "    border-radius: 50%;\n",
              "    cursor: pointer;\n",
              "    display: none;\n",
              "    fill: var(--fill-color);\n",
              "    height: 32px;\n",
              "    padding: 0;\n",
              "    width: 32px;\n",
              "  }\n",
              "\n",
              "  .colab-df-quickchart:hover {\n",
              "    background-color: var(--hover-bg-color);\n",
              "    box-shadow: 0 1px 2px rgba(60, 64, 67, 0.3), 0 1px 3px 1px rgba(60, 64, 67, 0.15);\n",
              "    fill: var(--button-hover-fill-color);\n",
              "  }\n",
              "\n",
              "  .colab-df-quickchart-complete:disabled,\n",
              "  .colab-df-quickchart-complete:disabled:hover {\n",
              "    background-color: var(--disabled-bg-color);\n",
              "    fill: var(--disabled-fill-color);\n",
              "    box-shadow: none;\n",
              "  }\n",
              "\n",
              "  .colab-df-spinner {\n",
              "    border: 2px solid var(--fill-color);\n",
              "    border-color: transparent;\n",
              "    border-bottom-color: var(--fill-color);\n",
              "    animation:\n",
              "      spin 1s steps(1) infinite;\n",
              "  }\n",
              "\n",
              "  @keyframes spin {\n",
              "    0% {\n",
              "      border-color: transparent;\n",
              "      border-bottom-color: var(--fill-color);\n",
              "      border-left-color: var(--fill-color);\n",
              "    }\n",
              "    20% {\n",
              "      border-color: transparent;\n",
              "      border-left-color: var(--fill-color);\n",
              "      border-top-color: var(--fill-color);\n",
              "    }\n",
              "    30% {\n",
              "      border-color: transparent;\n",
              "      border-left-color: var(--fill-color);\n",
              "      border-top-color: var(--fill-color);\n",
              "      border-right-color: var(--fill-color);\n",
              "    }\n",
              "    40% {\n",
              "      border-color: transparent;\n",
              "      border-right-color: var(--fill-color);\n",
              "      border-top-color: var(--fill-color);\n",
              "    }\n",
              "    60% {\n",
              "      border-color: transparent;\n",
              "      border-right-color: var(--fill-color);\n",
              "    }\n",
              "    80% {\n",
              "      border-color: transparent;\n",
              "      border-right-color: var(--fill-color);\n",
              "      border-bottom-color: var(--fill-color);\n",
              "    }\n",
              "    90% {\n",
              "      border-color: transparent;\n",
              "      border-bottom-color: var(--fill-color);\n",
              "    }\n",
              "  }\n",
              "</style>\n",
              "\n",
              "  <script>\n",
              "    async function quickchart(key) {\n",
              "      const quickchartButtonEl =\n",
              "        document.querySelector('#' + key + ' button');\n",
              "      quickchartButtonEl.disabled = true;  // To prevent multiple clicks.\n",
              "      quickchartButtonEl.classList.add('colab-df-spinner');\n",
              "      try {\n",
              "        const charts = await google.colab.kernel.invokeFunction(\n",
              "            'suggestCharts', [key], {});\n",
              "      } catch (error) {\n",
              "        console.error('Error during call to suggestCharts:', error);\n",
              "      }\n",
              "      quickchartButtonEl.classList.remove('colab-df-spinner');\n",
              "      quickchartButtonEl.classList.add('colab-df-quickchart-complete');\n",
              "    }\n",
              "    (() => {\n",
              "      let quickchartButtonEl =\n",
              "        document.querySelector('#df-6db809d7-bc61-4fda-9bcd-a8f743820bae button');\n",
              "      quickchartButtonEl.style.display =\n",
              "        google.colab.kernel.accessAllowed ? 'block' : 'none';\n",
              "    })();\n",
              "  </script>\n",
              "</div>\n",
              "\n",
              "    </div>\n",
              "  </div>\n"
            ],
            "application/vnd.google.colaboratory.intrinsic+json": {
              "type": "dataframe",
              "variable_name": "df_train",
              "summary": "{\n  \"name\": \"df_train\",\n  \"rows\": 11314,\n  \"fields\": [\n    {\n      \"column\": \"Text\",\n      \"properties\": {\n        \"dtype\": \"string\",\n        \"num_unique_values\": 11308,\n        \"samples\": [\n          \"Re: History question\\n\\nIn article <>  (Paul Johnson) writes:\\n>\\n>I recall reading of a phonograph which used mechanical amplification.\\n>Compressed air was squirted out of a valve which was controlled by the\\n>pickup.  The result was noisy and distinctly lo-fi, but much louder\\n>than a conventional phonograph.  It tended to wear the disks out\\n>pretty quickly though.\\n\\nThis was the Pathe you are thinking of, although there were other imitators.\\nIt didn't wear the disks any more than conventional acoustic designs, but\\nit did have a high noise level due to the continual hiss of escaping air.\\nThere are a lot of them still operating, and they are pretty ingenious.\\n\\nThere was a pneumatic amplifier designed by Alexander Graham Bell, as well,\\nbut I don't know if it was ever constructed.\\n--scott\\n\",\n          \"Emulator pods\\n\\nA surplus-dealing buddy of mine came up with two emulator pods:\\n\\n\\tHP64220C (for HP 64100 development station). 8086 target\\n\\tprocessor. DIP head. Does not include board that plugs into\\n\\tthe 64100.\\n\\n\\tApplied Microsystems 80C186/188 pod, LCC head.\\n\\nIf you have an interest in either, let me know. They look to\\nbe in excellent condition. He doesn't know what to do with them, which\\nmay mean that they'll be cheap.\\n\\n-- \\n--------------------------------------------------------------------\\n       Dave Medin\\t\\t\\tPhone:\\t(205) 730-3169 (w)\\n    SSD--Networking\\t\\t\\t\\t(205) 837-1174 (h)\\n    Intergraph Corp.\\n       M/S GD3004 \\t\\tInternet: \\n  Huntsville, AL 35894\\t\\tUUCP:  ...uunet!ingr!b30!catbyte!dtmedin\\n\\n   ******* Everywhere You Look (at least around my office) *******\\n\\n * The opinions expressed here are mine (or those of my machine)\\n\",\n          \"Re: VGA 640x400 graphics mode\\n\\n writes in article <>:\\n> \\n> Greetings!\\n> \\n> Does anybody know if it is possible to set VGA graphics mode to 640x400\\n> instead of 640x480?  Any info is appreciated!\\n\\nSome VESA bios's support this mode (0x100).  And *any* VGA should be able to\\nsupport this (640x480 by 256 colors) since it only requires 256,000 bytes.\\nMy 8514/a VESA TSR supports this; it's the only VESA mode by card can support\\ndue to 8514/a restrictions. (A WD/Paradise)\\n\\n--\\nI am not responsible for anything I do or say -- I'm just an opinion.\\n             Robert J.C. Kyanko ()\\n\"\n        ],\n        \"semantic_type\": \"\",\n        \"description\": \"\"\n      }\n    },\n    {\n      \"column\": \"Label\",\n      \"properties\": {\n        \"dtype\": \"number\",\n        \"std\": 5,\n        \"min\": 0,\n        \"max\": 19,\n        \"num_unique_values\": 20,\n        \"samples\": [\n          7,\n          17,\n          9\n        ],\n        \"semantic_type\": \"\",\n        \"description\": \"\"\n      }\n    },\n    {\n      \"column\": \"Class Name\",\n      \"properties\": {\n        \"dtype\": \"category\",\n        \"num_unique_values\": 20,\n        \"samples\": [\n          \"rec.autos\",\n          \"talk.politics.mideast\",\n          \"rec.sport.baseball\"\n        ],\n        \"semantic_type\": \"\",\n        \"description\": \"\"\n      }\n    }\n  ]\n}"
            }
          },
          "metadata": {},
          "execution_count": 8
        }
      ],
      "execution_count": 8
    },
    {
      "cell_type": "markdown",
      "source": [
        "Now sample the data. You will keep 50 rows for each category for training. Note that this is even fewer than the Keras example, as this technique (parameter-efficient fine-tuning, or PEFT) updates a relatively small number of parameters and does not require training a new model or updating the large model."
      ],
      "metadata": {
        "id": "XSKcj5WtadaR"
      }
    },
    {
      "cell_type": "code",
      "source": [
        "def sample_data(df, num_samples, classes_to_keep):\n",
        "    # Sample rows, selecting num_samples of each Label.\n",
        "    df = (\n",
        "        df.groupby(\"Label\")[df.columns]\n",
        "        .apply(lambda x: x.sample(num_samples))\n",
        "        .reset_index(drop=True)\n",
        "    )\n",
        "\n",
        "    df = df[df[\"Class Name\"].str.contains(classes_to_keep)]\n",
        "    df[\"Class Name\"] = df[\"Class Name\"].astype(\"category\")\n",
        "\n",
        "    return df\n",
        "\n",
        "\n",
        "TRAIN_NUM_SAMPLES = 50\n",
        "TEST_NUM_SAMPLES = 10\n",
        "# Keep rec.* and sci.*\n",
        "CLASSES_TO_KEEP = \"^rec|^sci\"\n",
        "\n",
        "df_train = sample_data(df_train, TRAIN_NUM_SAMPLES, CLASSES_TO_KEEP)\n",
        "df_test = sample_data(df_test, TEST_NUM_SAMPLES, CLASSES_TO_KEEP)"
      ],
      "metadata": {
        "id": "0t9Xu6X5akkt",
        "trusted": true,
        "execution": {
          "iopub.status.busy": "2025-04-02T07:49:47.44871Z",
          "iopub.execute_input": "2025-04-02T07:49:47.448998Z",
          "iopub.status.idle": "2025-04-02T07:49:47.504263Z",
          "shell.execute_reply.started": "2025-04-02T07:49:47.448972Z",
          "shell.execute_reply": "2025-04-02T07:49:47.502994Z"
        }
      },
      "outputs": [],
      "execution_count": 9
    },
    {
      "cell_type": "markdown",
      "source": [
        "## Evaluate baseline performance\n",
        "\n",
        "Before you start tuning a model, it's good practice to perform an evaluation on the available models to ensure you can measure how much the tuning helps.\n",
        "\n",
        "First identify a single sample row to use for visual inspection."
      ],
      "metadata": {
        "id": "wiEE8hr2IHdf"
      }
    },
    {
      "cell_type": "code",
      "source": [
        "sample_idx = 0\n",
        "sample_row = preprocess_newsgroup_row(newsgroups_test.data[sample_idx])\n",
        "sample_label = newsgroups_test.target_names[newsgroups_test.target[sample_idx]]\n",
        "\n",
        "print(sample_row)\n",
        "print('---')\n",
        "print('Label:', sample_label)"
      ],
      "metadata": {
        "trusted": true,
        "execution": {
          "iopub.status.busy": "2025-04-02T07:49:52.104893Z",
          "iopub.execute_input": "2025-04-02T07:49:52.105294Z",
          "iopub.status.idle": "2025-04-02T07:49:52.112083Z",
          "shell.execute_reply.started": "2025-04-02T07:49:52.105259Z",
          "shell.execute_reply": "2025-04-02T07:49:52.110865Z"
        },
        "id": "dV9HbLwSIHdg",
        "colab": {
          "base_uri": "https://localhost:8080/"
        },
        "outputId": "05f5abb6-ad4f-46f4-e3b7-751092ec6ecb"
      },
      "outputs": [
        {
          "output_type": "stream",
          "name": "stdout",
          "text": [
            "Need info on 88-89 Bonneville\n",
            "\n",
            "\n",
            " I am a little confused on all of the models of the 88-89 bonnevilles.\n",
            "I have heard of the LE SE LSE SSE SSEI. Could someone tell me the\n",
            "differences are far as features or performance. I am also curious to\n",
            "know what the book value is for prefereably the 89 model. And how much\n",
            "less than book value can you usually get them for. In other words how\n",
            "much are they in demand this time of year. I have heard that the mid-spring\n",
            "early summer is the best time to buy.\n",
            "\n",
            "\t\t\tNeil Gandler\n",
            "\n",
            "---\n",
            "Label: rec.autos\n"
          ]
        }
      ],
      "execution_count": 10
    },
    {
      "cell_type": "markdown",
      "source": [
        "Passing the text directly in as a prompt does not yield the desired results. The model will attempt to respond to the message."
      ],
      "metadata": {
        "id": "Cc4koK3rIHdg"
      }
    },
    {
      "cell_type": "code",
      "source": [
        "response = client.models.generate_content(\n",
        "    model=\"gemini-1.5-flash-001\", contents=sample_row)\n",
        "print(response.text)"
      ],
      "metadata": {
        "trusted": true,
        "execution": {
          "iopub.status.busy": "2025-04-02T07:49:54.456192Z",
          "iopub.execute_input": "2025-04-02T07:49:54.457192Z",
          "iopub.status.idle": "2025-04-02T07:49:58.006099Z",
          "shell.execute_reply.started": "2025-04-02T07:49:54.457136Z",
          "shell.execute_reply": "2025-04-02T07:49:58.005024Z"
        },
        "id": "KtJqGrSUIHdg",
        "colab": {
          "base_uri": "https://localhost:8080/"
        },
        "outputId": "15605d04-c84b-4d91-8658-6ca9573b32b1"
      },
      "outputs": [
        {
          "output_type": "stream",
          "name": "stdout",
          "text": [
            "You're right, the 88-89 Bonneville lineup was a bit confusing with all the different trims. Here's a breakdown:\n",
            "\n",
            "**Bonneville Models (1988-1989)**\n",
            "\n",
            "* **Base Bonneville:** This was the standard model with a 3.8L V6 engine and a 3-speed automatic transmission. It offered basic features like cloth upholstery, AM/FM radio, and air conditioning. \n",
            "* **LE (Luxury Edition):** This trim added luxury features like power seats, windows, and locks, as well as a more premium interior with vinyl upholstery. It still used the 3.8L V6.\n",
            "* **SE (Special Edition):** This version focused more on sporty aesthetics with a more aggressive front end, unique wheels, and sport suspension. It used the same 3.8L V6.\n",
            "* **LSE (Luxury Special Edition):** This trim combined the luxury of the LE with the sporty styling of the SE.\n",
            "* **SSE (Sport Sedan Edition):** This was the high-performance version. It came with a 3.8L V6 turbocharged engine, producing more power and torque. It also featured stiffer suspension, unique wheels, and a more aggressive body kit. \n",
            "* **SSEi (Sport Sedan Edition, Injection):** This version was similar to the SSE but had a fuel-injected version of the 3.8L V6 turbocharged engine.\n",
            "\n",
            "**Book Value and Market Demand:**\n",
            "\n",
            "* **Book Value:** Determining the book value of a 1989 Bonneville can be tricky.  Sites like Kelley Blue Book (KBB) or Edmunds can provide estimated values, but these vary greatly depending on the model's condition, mileage, and any special features.\n",
            "* **Market Demand:**  Bonnevilles from this era are generally not in high demand, especially considering their age and the availability of newer, more fuel-efficient cars. You may find that a seller is willing to accept lower than book value to move the car.\n",
            "\n",
            "**Best Time to Buy:**\n",
            "\n",
            "* **Spring/Early Summer:**  Your intuition is correct. Spring and early summer tend to be good times to purchase used cars as sellers often try to move inventory before the summer driving season. \n",
            "\n",
            "**Key Considerations:**\n",
            "\n",
            "* **Condition:** The condition of the car is paramount. Look for a vehicle with a clean title, low mileage, and well-maintained documentation. Have a trusted mechanic inspect the car before buying.\n",
            "* **Engine:** The 3.8L V6 is generally reliable but prone to some common issues. Research these issues before buying and check for signs of engine trouble.\n",
            "* **Parts Availability:** While some parts may still be available, older cars can be more difficult to maintain. Be prepared for potential sourcing challenges.\n",
            "\n",
            "**Overall:**\n",
            "\n",
            "While the 1989 Bonneville might not be the most sought-after classic car, it can still be a fun and affordable option for someone looking for a reliable and spacious cruiser. Remember to do your research, inspect the car carefully, and be prepared to negotiate a fair price. \n",
            "\n"
          ]
        }
      ],
      "execution_count": 11
    },
    {
      "cell_type": "markdown",
      "source": [
        "You can use the prompt engineering techniques you have learned this week to induce the model to perform the desired task. Try some of your own ideas and see what is effective, or check out the following cells for different approaches. Note that they have different levels of effectiveness!"
      ],
      "metadata": {
        "id": "AsqXYDokIHdh"
      }
    },
    {
      "cell_type": "code",
      "source": [
        "# Ask the model directly in a zero-shot prompt.\n",
        "\n",
        "prompt = \"From what newsgroup does the following message originate?\"\n",
        "baseline_response = client.models.generate_content(\n",
        "    model=\"gemini-1.5-flash-001\",\n",
        "    contents=[prompt, sample_row])\n",
        "print(baseline_response.text)"
      ],
      "metadata": {
        "trusted": true,
        "execution": {
          "iopub.status.busy": "2025-04-02T07:50:05.256079Z",
          "iopub.execute_input": "2025-04-02T07:50:05.256628Z",
          "iopub.status.idle": "2025-04-02T07:50:06.077581Z",
          "shell.execute_reply.started": "2025-04-02T07:50:05.256575Z",
          "shell.execute_reply": "2025-04-02T07:50:06.075933Z"
        },
        "id": "-aCzDaxYIHdh",
        "colab": {
          "base_uri": "https://localhost:8080/"
        },
        "outputId": "1ea57533-8608-4505-9160-dc9adb378419"
      },
      "outputs": [
        {
          "output_type": "stream",
          "name": "stdout",
          "text": [
            "This message most likely originates from a **Buick-specific newsgroup**. \n",
            "\n",
            "Here's why:\n",
            "\n",
            "* **Topic:** The message focuses on specific details about the 1988-1989 Buick Bonneville, a model of car.\n",
            "* **Terminology:**  The message mentions trim levels (LE, SE, LSE, SSE, SSEi) which are specific to Buick vehicles.\n",
            "* **Community:** The message suggests a community of people interested in Bonnevilles and the best time to buy one, indicating a focused group. \n",
            "\n",
            "Common newsgroups for Buick discussions include:\n",
            "\n",
            "* **alt.autos.buick**\n",
            "* **rec.autos.buick**\n",
            "\n",
            "These newsgroups are likely where someone looking for information on the Bonneville would post a message like this. \n",
            "\n"
          ]
        }
      ],
      "execution_count": 12
    },
    {
      "cell_type": "markdown",
      "source": [
        "This technique still produces quite a verbose response. You could try and parse out the relevant text, or refine the prompt even further."
      ],
      "metadata": {
        "id": "kOFHirN5IHdh"
      }
    },
    {
      "cell_type": "code",
      "source": [
        "from google.api_core import retry\n",
        "\n",
        "# You can use a system instruction to do more direct prompting, and get a\n",
        "# more succinct answer.\n",
        "\n",
        "system_instruct = \"\"\"\n",
        "You are a classification service. You will be passed input that represents\n",
        "a newsgroup post and you must respond with the newsgroup from which the post\n",
        "originates.\n",
        "\"\"\"\n",
        "\n",
        "# Define a helper to retry when per-minute quota is reached.\n",
        "is_retriable = lambda e: (isinstance(e, genai.errors.APIError) and e.code in {429, 503})\n",
        "\n",
        "# If you want to evaluate your own technique, replace this body of this function\n",
        "# with your model, prompt and other code and return the predicted answer.\n",
        "@retry.Retry(predicate=is_retriable)\n",
        "def predict_label(post: str) -> str:\n",
        "    response = client.models.generate_content(\n",
        "        model=\"gemini-1.5-flash-001\",\n",
        "        config=types.GenerateContentConfig(\n",
        "            system_instruction=system_instruct),\n",
        "        contents=post)\n",
        "\n",
        "    rc = response.candidates[0]\n",
        "\n",
        "    # Any errors, filters, recitation, etc we can mark as a general error\n",
        "    if rc.finish_reason.name != \"STOP\":\n",
        "        return \"(error)\"\n",
        "    else:\n",
        "        # Clean up the response.\n",
        "        return response.text.strip()\n",
        "\n",
        "\n",
        "prediction = predict_label(sample_row)\n",
        "\n",
        "print(prediction)\n",
        "print()\n",
        "print(\"Correct!\" if prediction == sample_label else \"Incorrect.\")"
      ],
      "metadata": {
        "trusted": true,
        "execution": {
          "iopub.status.busy": "2025-04-02T07:50:19.474289Z",
          "iopub.execute_input": "2025-04-02T07:50:19.474737Z",
          "iopub.status.idle": "2025-04-02T07:50:20.185012Z",
          "shell.execute_reply.started": "2025-04-02T07:50:19.474696Z",
          "shell.execute_reply": "2025-04-02T07:50:20.183642Z"
        },
        "id": "1hmXrHCQIHdh",
        "colab": {
          "base_uri": "https://localhost:8080/"
        },
        "outputId": "40fb81f5-b556-425e-f55b-809e0141a58f"
      },
      "outputs": [
        {
          "output_type": "stream",
          "name": "stdout",
          "text": [
            "rec.autos.misc\n",
            "\n",
            "Incorrect.\n"
          ]
        }
      ],
      "execution_count": 13
    },
    {
      "cell_type": "markdown",
      "source": [
        "Now run a short evaluation using the function defined above. The test set is further sampled to ensure the experiment runs smoothly on the API's free tier. In practice you would evaluate over the whole set."
      ],
      "metadata": {
        "id": "NCGfkaX_IHdi"
      }
    },
    {
      "cell_type": "code",
      "source": [
        "import tqdm\n",
        "from tqdm.rich import tqdm as tqdmr\n",
        "import warnings\n",
        "\n",
        "# Enable tqdm features on Pandas.\n",
        "tqdmr.pandas()\n",
        "\n",
        "# But suppress the experimental warning\n",
        "warnings.filterwarnings(\"ignore\", category=tqdm.TqdmExperimentalWarning)\n",
        "\n",
        "\n",
        "# Further sample the test data to be mindful of the free-tier quota.\n",
        "df_baseline_eval = sample_data(df_test, 2, '.*')\n",
        "\n",
        "# Make predictions using the sampled data.\n",
        "df_baseline_eval['Prediction'] = df_baseline_eval['Text'].progress_apply(predict_label)\n",
        "\n",
        "# And calculate the accuracy.\n",
        "accuracy = (df_baseline_eval[\"Class Name\"] == df_baseline_eval[\"Prediction\"]).sum() / len(df_baseline_eval)\n",
        "print(f\"Accuracy: {accuracy:.2%}\")"
      ],
      "metadata": {
        "trusted": true,
        "execution": {
          "iopub.status.busy": "2025-04-02T07:50:36.20491Z",
          "iopub.execute_input": "2025-04-02T07:50:36.205338Z",
          "iopub.status.idle": "2025-04-02T07:51:06.125368Z",
          "shell.execute_reply.started": "2025-04-02T07:50:36.205304Z",
          "shell.execute_reply": "2025-04-02T07:51:06.124235Z"
        },
        "id": "Cb-KElG-IHdi",
        "colab": {
          "base_uri": "https://localhost:8080/",
          "height": 50,
          "referenced_widgets": [
            "0aa603d5f421489c9cc2e0e0b82bf82b",
            "07879e458dd34de383b22e50f5061fd7"
          ]
        },
        "outputId": "1791c0fc-1812-4299-cc2c-66bde93be234"
      },
      "outputs": [
        {
          "output_type": "display_data",
          "data": {
            "text/plain": [
              "Output()"
            ],
            "application/vnd.jupyter.widget-view+json": {
              "version_major": 2,
              "version_minor": 0,
              "model_id": "0aa603d5f421489c9cc2e0e0b82bf82b"
            }
          },
          "metadata": {}
        },
        {
          "output_type": "display_data",
          "data": {
            "text/plain": [],
            "text/html": [
              "<pre style=\"white-space:pre;overflow-x:auto;line-height:normal;font-family:Menlo,'DejaVu Sans Mono',consolas,'Courier New',monospace\"></pre>\n"
            ]
          },
          "metadata": {}
        },
        {
          "output_type": "stream",
          "name": "stdout",
          "text": [
            "Accuracy: 18.75%\n"
          ]
        }
      ],
      "execution_count": 14
    },
    {
      "cell_type": "markdown",
      "source": [
        "Now take a look at the dataframe to compare the predictions with the labels."
      ],
      "metadata": {
        "id": "GKrTupoZIHdi"
      }
    },
    {
      "cell_type": "code",
      "source": [
        "df_baseline_eval"
      ],
      "metadata": {
        "trusted": true,
        "execution": {
          "iopub.status.busy": "2025-04-02T07:51:06.13034Z",
          "iopub.execute_input": "2025-04-02T07:51:06.130826Z",
          "iopub.status.idle": "2025-04-02T07:51:06.144977Z",
          "shell.execute_reply.started": "2025-04-02T07:51:06.130772Z",
          "shell.execute_reply": "2025-04-02T07:51:06.143833Z"
        },
        "id": "nc1yZc-qIHdj",
        "colab": {
          "base_uri": "https://localhost:8080/",
          "height": 545
        },
        "outputId": "9dae51af-b064-4252-cd12-6a5ac310b18e"
      },
      "outputs": [
        {
          "output_type": "execute_result",
          "data": {
            "text/plain": [
              "                                                 Text  Label  \\\n",
              "0   REVIEW: 1989 Ford Taurus SHO\\n\\nReview of 1989...      7   \n",
              "1   Re: BMW 528i\\n\\nIn article <>,  (Shazad Barlas...      7   \n",
              "2   Re: Need parts/info for 1963 Maicoletta scoote...      8   \n",
              "3   Re: BMW heated grips\\n\\nMark Bergman () wrote:...      8   \n",
              "4   cubbies\\n\\n    Is there a Chicago Cubs mailing...      9   \n",
              "5   Dennis Martinez: What's up!?\\n\\nI know there's...      9   \n",
              "6   Re: Goalie masks\\n\\nIn article <>  (Valerie S....     10   \n",
              "7   Re: Ranger Fans?????\\n\\n\\nIn article <>,  (Bre...     10   \n",
              "8   Re: Tempest\\n\\n (Kirill Shklovsky) writes:\\n\\n...     11   \n",
              "9   Re: Screw the people, crypto is for hard-core ...     11   \n",
              "10  VGA circuit\\n\\nI've come across a circuit from...     12   \n",
              "11  Wanting 3479P's...\\n\\n \\n        If anyone wou...     12   \n",
              "12  Re: Quack-Quack (was Re: Candida(yeast) Bloom,...     13   \n",
              "13  Epilepsy and video games\\n\\nThere have been a ...     13   \n",
              "14  Re: HST Servicing Mission Scheduled for 11 Day...     14   \n",
              "15  Re: Space spinn offs\\n\\nI just wanted to point...     14   \n",
              "\n",
              "            Class Name                    Prediction  \n",
              "0            rec.autos                     rec.autos  \n",
              "1            rec.autos                 rec.autos.bmw  \n",
              "2      rec.motorcycles               rec.motorcycles  \n",
              "3      rec.motorcycles               rec.motorcycles  \n",
              "4   rec.sport.baseball  rec.sports.baseball.mlb.cubs  \n",
              "5   rec.sport.baseball           rec.sports.baseball  \n",
              "6     rec.sport.hockey             rec.sports.hockey  \n",
              "7     rec.sport.hockey             rec.sports.hockey  \n",
              "8            sci.crypt                       (error)  \n",
              "9            sci.crypt            comp.security.unix  \n",
              "10     sci.electronics                comp.sys.amiga  \n",
              "11     sci.electronics             rec.radio.amateur  \n",
              "12             sci.med                    alt.health  \n",
              "13             sci.med                    comp.risks  \n",
              "14           sci.space                space.missions  \n",
              "15           sci.space                       (error)  "
            ],
            "text/html": [
              "\n",
              "  <div id=\"df-d03abc53-9311-4633-9c1d-e58d637a7d60\" class=\"colab-df-container\">\n",
              "    <div>\n",
              "<style scoped>\n",
              "    .dataframe tbody tr th:only-of-type {\n",
              "        vertical-align: middle;\n",
              "    }\n",
              "\n",
              "    .dataframe tbody tr th {\n",
              "        vertical-align: top;\n",
              "    }\n",
              "\n",
              "    .dataframe thead th {\n",
              "        text-align: right;\n",
              "    }\n",
              "</style>\n",
              "<table border=\"1\" class=\"dataframe\">\n",
              "  <thead>\n",
              "    <tr style=\"text-align: right;\">\n",
              "      <th></th>\n",
              "      <th>Text</th>\n",
              "      <th>Label</th>\n",
              "      <th>Class Name</th>\n",
              "      <th>Prediction</th>\n",
              "    </tr>\n",
              "  </thead>\n",
              "  <tbody>\n",
              "    <tr>\n",
              "      <th>0</th>\n",
              "      <td>REVIEW: 1989 Ford Taurus SHO\\n\\nReview of 1989...</td>\n",
              "      <td>7</td>\n",
              "      <td>rec.autos</td>\n",
              "      <td>rec.autos</td>\n",
              "    </tr>\n",
              "    <tr>\n",
              "      <th>1</th>\n",
              "      <td>Re: BMW 528i\\n\\nIn article &lt;&gt;,  (Shazad Barlas...</td>\n",
              "      <td>7</td>\n",
              "      <td>rec.autos</td>\n",
              "      <td>rec.autos.bmw</td>\n",
              "    </tr>\n",
              "    <tr>\n",
              "      <th>2</th>\n",
              "      <td>Re: Need parts/info for 1963 Maicoletta scoote...</td>\n",
              "      <td>8</td>\n",
              "      <td>rec.motorcycles</td>\n",
              "      <td>rec.motorcycles</td>\n",
              "    </tr>\n",
              "    <tr>\n",
              "      <th>3</th>\n",
              "      <td>Re: BMW heated grips\\n\\nMark Bergman () wrote:...</td>\n",
              "      <td>8</td>\n",
              "      <td>rec.motorcycles</td>\n",
              "      <td>rec.motorcycles</td>\n",
              "    </tr>\n",
              "    <tr>\n",
              "      <th>4</th>\n",
              "      <td>cubbies\\n\\n    Is there a Chicago Cubs mailing...</td>\n",
              "      <td>9</td>\n",
              "      <td>rec.sport.baseball</td>\n",
              "      <td>rec.sports.baseball.mlb.cubs</td>\n",
              "    </tr>\n",
              "    <tr>\n",
              "      <th>5</th>\n",
              "      <td>Dennis Martinez: What's up!?\\n\\nI know there's...</td>\n",
              "      <td>9</td>\n",
              "      <td>rec.sport.baseball</td>\n",
              "      <td>rec.sports.baseball</td>\n",
              "    </tr>\n",
              "    <tr>\n",
              "      <th>6</th>\n",
              "      <td>Re: Goalie masks\\n\\nIn article &lt;&gt;  (Valerie S....</td>\n",
              "      <td>10</td>\n",
              "      <td>rec.sport.hockey</td>\n",
              "      <td>rec.sports.hockey</td>\n",
              "    </tr>\n",
              "    <tr>\n",
              "      <th>7</th>\n",
              "      <td>Re: Ranger Fans?????\\n\\n\\nIn article &lt;&gt;,  (Bre...</td>\n",
              "      <td>10</td>\n",
              "      <td>rec.sport.hockey</td>\n",
              "      <td>rec.sports.hockey</td>\n",
              "    </tr>\n",
              "    <tr>\n",
              "      <th>8</th>\n",
              "      <td>Re: Tempest\\n\\n (Kirill Shklovsky) writes:\\n\\n...</td>\n",
              "      <td>11</td>\n",
              "      <td>sci.crypt</td>\n",
              "      <td>(error)</td>\n",
              "    </tr>\n",
              "    <tr>\n",
              "      <th>9</th>\n",
              "      <td>Re: Screw the people, crypto is for hard-core ...</td>\n",
              "      <td>11</td>\n",
              "      <td>sci.crypt</td>\n",
              "      <td>comp.security.unix</td>\n",
              "    </tr>\n",
              "    <tr>\n",
              "      <th>10</th>\n",
              "      <td>VGA circuit\\n\\nI've come across a circuit from...</td>\n",
              "      <td>12</td>\n",
              "      <td>sci.electronics</td>\n",
              "      <td>comp.sys.amiga</td>\n",
              "    </tr>\n",
              "    <tr>\n",
              "      <th>11</th>\n",
              "      <td>Wanting 3479P's...\\n\\n \\n        If anyone wou...</td>\n",
              "      <td>12</td>\n",
              "      <td>sci.electronics</td>\n",
              "      <td>rec.radio.amateur</td>\n",
              "    </tr>\n",
              "    <tr>\n",
              "      <th>12</th>\n",
              "      <td>Re: Quack-Quack (was Re: Candida(yeast) Bloom,...</td>\n",
              "      <td>13</td>\n",
              "      <td>sci.med</td>\n",
              "      <td>alt.health</td>\n",
              "    </tr>\n",
              "    <tr>\n",
              "      <th>13</th>\n",
              "      <td>Epilepsy and video games\\n\\nThere have been a ...</td>\n",
              "      <td>13</td>\n",
              "      <td>sci.med</td>\n",
              "      <td>comp.risks</td>\n",
              "    </tr>\n",
              "    <tr>\n",
              "      <th>14</th>\n",
              "      <td>Re: HST Servicing Mission Scheduled for 11 Day...</td>\n",
              "      <td>14</td>\n",
              "      <td>sci.space</td>\n",
              "      <td>space.missions</td>\n",
              "    </tr>\n",
              "    <tr>\n",
              "      <th>15</th>\n",
              "      <td>Re: Space spinn offs\\n\\nI just wanted to point...</td>\n",
              "      <td>14</td>\n",
              "      <td>sci.space</td>\n",
              "      <td>(error)</td>\n",
              "    </tr>\n",
              "  </tbody>\n",
              "</table>\n",
              "</div>\n",
              "    <div class=\"colab-df-buttons\">\n",
              "\n",
              "  <div class=\"colab-df-container\">\n",
              "    <button class=\"colab-df-convert\" onclick=\"convertToInteractive('df-d03abc53-9311-4633-9c1d-e58d637a7d60')\"\n",
              "            title=\"Convert this dataframe to an interactive table.\"\n",
              "            style=\"display:none;\">\n",
              "\n",
              "  <svg xmlns=\"http://www.w3.org/2000/svg\" height=\"24px\" viewBox=\"0 -960 960 960\">\n",
              "    <path d=\"M120-120v-720h720v720H120Zm60-500h600v-160H180v160Zm220 220h160v-160H400v160Zm0 220h160v-160H400v160ZM180-400h160v-160H180v160Zm440 0h160v-160H620v160ZM180-180h160v-160H180v160Zm440 0h160v-160H620v160Z\"/>\n",
              "  </svg>\n",
              "    </button>\n",
              "\n",
              "  <style>\n",
              "    .colab-df-container {\n",
              "      display:flex;\n",
              "      gap: 12px;\n",
              "    }\n",
              "\n",
              "    .colab-df-convert {\n",
              "      background-color: #E8F0FE;\n",
              "      border: none;\n",
              "      border-radius: 50%;\n",
              "      cursor: pointer;\n",
              "      display: none;\n",
              "      fill: #1967D2;\n",
              "      height: 32px;\n",
              "      padding: 0 0 0 0;\n",
              "      width: 32px;\n",
              "    }\n",
              "\n",
              "    .colab-df-convert:hover {\n",
              "      background-color: #E2EBFA;\n",
              "      box-shadow: 0px 1px 2px rgba(60, 64, 67, 0.3), 0px 1px 3px 1px rgba(60, 64, 67, 0.15);\n",
              "      fill: #174EA6;\n",
              "    }\n",
              "\n",
              "    .colab-df-buttons div {\n",
              "      margin-bottom: 4px;\n",
              "    }\n",
              "\n",
              "    [theme=dark] .colab-df-convert {\n",
              "      background-color: #3B4455;\n",
              "      fill: #D2E3FC;\n",
              "    }\n",
              "\n",
              "    [theme=dark] .colab-df-convert:hover {\n",
              "      background-color: #434B5C;\n",
              "      box-shadow: 0px 1px 3px 1px rgba(0, 0, 0, 0.15);\n",
              "      filter: drop-shadow(0px 1px 2px rgba(0, 0, 0, 0.3));\n",
              "      fill: #FFFFFF;\n",
              "    }\n",
              "  </style>\n",
              "\n",
              "    <script>\n",
              "      const buttonEl =\n",
              "        document.querySelector('#df-d03abc53-9311-4633-9c1d-e58d637a7d60 button.colab-df-convert');\n",
              "      buttonEl.style.display =\n",
              "        google.colab.kernel.accessAllowed ? 'block' : 'none';\n",
              "\n",
              "      async function convertToInteractive(key) {\n",
              "        const element = document.querySelector('#df-d03abc53-9311-4633-9c1d-e58d637a7d60');\n",
              "        const dataTable =\n",
              "          await google.colab.kernel.invokeFunction('convertToInteractive',\n",
              "                                                    [key], {});\n",
              "        if (!dataTable) return;\n",
              "\n",
              "        const docLinkHtml = 'Like what you see? Visit the ' +\n",
              "          '<a target=\"_blank\" href=https://colab.research.google.com/notebooks/data_table.ipynb>data table notebook</a>'\n",
              "          + ' to learn more about interactive tables.';\n",
              "        element.innerHTML = '';\n",
              "        dataTable['output_type'] = 'display_data';\n",
              "        await google.colab.output.renderOutput(dataTable, element);\n",
              "        const docLink = document.createElement('div');\n",
              "        docLink.innerHTML = docLinkHtml;\n",
              "        element.appendChild(docLink);\n",
              "      }\n",
              "    </script>\n",
              "  </div>\n",
              "\n",
              "\n",
              "<div id=\"df-1e53cfa6-709f-4c89-8920-0ea0d2e80955\">\n",
              "  <button class=\"colab-df-quickchart\" onclick=\"quickchart('df-1e53cfa6-709f-4c89-8920-0ea0d2e80955')\"\n",
              "            title=\"Suggest charts\"\n",
              "            style=\"display:none;\">\n",
              "\n",
              "<svg xmlns=\"http://www.w3.org/2000/svg\" height=\"24px\"viewBox=\"0 0 24 24\"\n",
              "     width=\"24px\">\n",
              "    <g>\n",
              "        <path d=\"M19 3H5c-1.1 0-2 .9-2 2v14c0 1.1.9 2 2 2h14c1.1 0 2-.9 2-2V5c0-1.1-.9-2-2-2zM9 17H7v-7h2v7zm4 0h-2V7h2v10zm4 0h-2v-4h2v4z\"/>\n",
              "    </g>\n",
              "</svg>\n",
              "  </button>\n",
              "\n",
              "<style>\n",
              "  .colab-df-quickchart {\n",
              "      --bg-color: #E8F0FE;\n",
              "      --fill-color: #1967D2;\n",
              "      --hover-bg-color: #E2EBFA;\n",
              "      --hover-fill-color: #174EA6;\n",
              "      --disabled-fill-color: #AAA;\n",
              "      --disabled-bg-color: #DDD;\n",
              "  }\n",
              "\n",
              "  [theme=dark] .colab-df-quickchart {\n",
              "      --bg-color: #3B4455;\n",
              "      --fill-color: #D2E3FC;\n",
              "      --hover-bg-color: #434B5C;\n",
              "      --hover-fill-color: #FFFFFF;\n",
              "      --disabled-bg-color: #3B4455;\n",
              "      --disabled-fill-color: #666;\n",
              "  }\n",
              "\n",
              "  .colab-df-quickchart {\n",
              "    background-color: var(--bg-color);\n",
              "    border: none;\n",
              "    border-radius: 50%;\n",
              "    cursor: pointer;\n",
              "    display: none;\n",
              "    fill: var(--fill-color);\n",
              "    height: 32px;\n",
              "    padding: 0;\n",
              "    width: 32px;\n",
              "  }\n",
              "\n",
              "  .colab-df-quickchart:hover {\n",
              "    background-color: var(--hover-bg-color);\n",
              "    box-shadow: 0 1px 2px rgba(60, 64, 67, 0.3), 0 1px 3px 1px rgba(60, 64, 67, 0.15);\n",
              "    fill: var(--button-hover-fill-color);\n",
              "  }\n",
              "\n",
              "  .colab-df-quickchart-complete:disabled,\n",
              "  .colab-df-quickchart-complete:disabled:hover {\n",
              "    background-color: var(--disabled-bg-color);\n",
              "    fill: var(--disabled-fill-color);\n",
              "    box-shadow: none;\n",
              "  }\n",
              "\n",
              "  .colab-df-spinner {\n",
              "    border: 2px solid var(--fill-color);\n",
              "    border-color: transparent;\n",
              "    border-bottom-color: var(--fill-color);\n",
              "    animation:\n",
              "      spin 1s steps(1) infinite;\n",
              "  }\n",
              "\n",
              "  @keyframes spin {\n",
              "    0% {\n",
              "      border-color: transparent;\n",
              "      border-bottom-color: var(--fill-color);\n",
              "      border-left-color: var(--fill-color);\n",
              "    }\n",
              "    20% {\n",
              "      border-color: transparent;\n",
              "      border-left-color: var(--fill-color);\n",
              "      border-top-color: var(--fill-color);\n",
              "    }\n",
              "    30% {\n",
              "      border-color: transparent;\n",
              "      border-left-color: var(--fill-color);\n",
              "      border-top-color: var(--fill-color);\n",
              "      border-right-color: var(--fill-color);\n",
              "    }\n",
              "    40% {\n",
              "      border-color: transparent;\n",
              "      border-right-color: var(--fill-color);\n",
              "      border-top-color: var(--fill-color);\n",
              "    }\n",
              "    60% {\n",
              "      border-color: transparent;\n",
              "      border-right-color: var(--fill-color);\n",
              "    }\n",
              "    80% {\n",
              "      border-color: transparent;\n",
              "      border-right-color: var(--fill-color);\n",
              "      border-bottom-color: var(--fill-color);\n",
              "    }\n",
              "    90% {\n",
              "      border-color: transparent;\n",
              "      border-bottom-color: var(--fill-color);\n",
              "    }\n",
              "  }\n",
              "</style>\n",
              "\n",
              "  <script>\n",
              "    async function quickchart(key) {\n",
              "      const quickchartButtonEl =\n",
              "        document.querySelector('#' + key + ' button');\n",
              "      quickchartButtonEl.disabled = true;  // To prevent multiple clicks.\n",
              "      quickchartButtonEl.classList.add('colab-df-spinner');\n",
              "      try {\n",
              "        const charts = await google.colab.kernel.invokeFunction(\n",
              "            'suggestCharts', [key], {});\n",
              "      } catch (error) {\n",
              "        console.error('Error during call to suggestCharts:', error);\n",
              "      }\n",
              "      quickchartButtonEl.classList.remove('colab-df-spinner');\n",
              "      quickchartButtonEl.classList.add('colab-df-quickchart-complete');\n",
              "    }\n",
              "    (() => {\n",
              "      let quickchartButtonEl =\n",
              "        document.querySelector('#df-1e53cfa6-709f-4c89-8920-0ea0d2e80955 button');\n",
              "      quickchartButtonEl.style.display =\n",
              "        google.colab.kernel.accessAllowed ? 'block' : 'none';\n",
              "    })();\n",
              "  </script>\n",
              "</div>\n",
              "\n",
              "  <div id=\"id_6dd1359d-2ae1-425c-8f30-a8753df38648\">\n",
              "    <style>\n",
              "      .colab-df-generate {\n",
              "        background-color: #E8F0FE;\n",
              "        border: none;\n",
              "        border-radius: 50%;\n",
              "        cursor: pointer;\n",
              "        display: none;\n",
              "        fill: #1967D2;\n",
              "        height: 32px;\n",
              "        padding: 0 0 0 0;\n",
              "        width: 32px;\n",
              "      }\n",
              "\n",
              "      .colab-df-generate:hover {\n",
              "        background-color: #E2EBFA;\n",
              "        box-shadow: 0px 1px 2px rgba(60, 64, 67, 0.3), 0px 1px 3px 1px rgba(60, 64, 67, 0.15);\n",
              "        fill: #174EA6;\n",
              "      }\n",
              "\n",
              "      [theme=dark] .colab-df-generate {\n",
              "        background-color: #3B4455;\n",
              "        fill: #D2E3FC;\n",
              "      }\n",
              "\n",
              "      [theme=dark] .colab-df-generate:hover {\n",
              "        background-color: #434B5C;\n",
              "        box-shadow: 0px 1px 3px 1px rgba(0, 0, 0, 0.15);\n",
              "        filter: drop-shadow(0px 1px 2px rgba(0, 0, 0, 0.3));\n",
              "        fill: #FFFFFF;\n",
              "      }\n",
              "    </style>\n",
              "    <button class=\"colab-df-generate\" onclick=\"generateWithVariable('df_baseline_eval')\"\n",
              "            title=\"Generate code using this dataframe.\"\n",
              "            style=\"display:none;\">\n",
              "\n",
              "  <svg xmlns=\"http://www.w3.org/2000/svg\" height=\"24px\"viewBox=\"0 0 24 24\"\n",
              "       width=\"24px\">\n",
              "    <path d=\"M7,19H8.4L18.45,9,17,7.55,7,17.6ZM5,21V16.75L18.45,3.32a2,2,0,0,1,2.83,0l1.4,1.43a1.91,1.91,0,0,1,.58,1.4,1.91,1.91,0,0,1-.58,1.4L9.25,21ZM18.45,9,17,7.55Zm-12,3A5.31,5.31,0,0,0,4.9,8.1,5.31,5.31,0,0,0,1,6.5,5.31,5.31,0,0,0,4.9,4.9,5.31,5.31,0,0,0,6.5,1,5.31,5.31,0,0,0,8.1,4.9,5.31,5.31,0,0,0,12,6.5,5.46,5.46,0,0,0,6.5,12Z\"/>\n",
              "  </svg>\n",
              "    </button>\n",
              "    <script>\n",
              "      (() => {\n",
              "      const buttonEl =\n",
              "        document.querySelector('#id_6dd1359d-2ae1-425c-8f30-a8753df38648 button.colab-df-generate');\n",
              "      buttonEl.style.display =\n",
              "        google.colab.kernel.accessAllowed ? 'block' : 'none';\n",
              "\n",
              "      buttonEl.onclick = () => {\n",
              "        google.colab.notebook.generateWithVariable('df_baseline_eval');\n",
              "      }\n",
              "      })();\n",
              "    </script>\n",
              "  </div>\n",
              "\n",
              "    </div>\n",
              "  </div>\n"
            ],
            "application/vnd.google.colaboratory.intrinsic+json": {
              "type": "dataframe",
              "variable_name": "df_baseline_eval",
              "summary": "{\n  \"name\": \"df_baseline_eval\",\n  \"rows\": 16,\n  \"fields\": [\n    {\n      \"column\": \"Text\",\n      \"properties\": {\n        \"dtype\": \"string\",\n        \"num_unique_values\": 16,\n        \"samples\": [\n          \"REVIEW: 1989 Ford Taurus SHO\\n\\nReview of 1989 Ford Taurus SHO -- By Gene Kim\\n=============================================\\n\\nBackground:\\n\\n    Last week, I bought a 1989 Ford Taurus SHO, moving up from driving\\na 1987 Toyota Celica ST and a 1975 Oldsmobile Cutlass.  I have been\\ninterested in buying a SHO for about five months and have been combing\\nthe classifieds in Denver and Chicago every week.  I bought a\\nremarkably clean maroon/red SHO with 92K miles on it for $6800.\\nAs far as I can tell, this is about $2000 under Blue Book and I still\\nhave another 8000 miles before the Extended Service Plan runs out.\\n\\n    As one should with any pre-1991 SHOs, I made sure that the car was\\nalready refit with the upgraded clutch and pressure plate, as well as\\nhaving been recalled for upgraded rotors and seatbelt attachments.\\nHowever, my SHO does not have the newer rod shifter -- I understand I\\ncan get this for $230 from any Ford service center.  In addition, the\\ncar received the full tune-up at 60K miles, receiving new platinum\\nplugs and valve adjustment.\\n\\n    For a car with 92K miles on it, the car was virtually immaculate.\\nThe clearcoat paint job was devoid of any large chips or dents,\\nalthough the front air-dam/molding was covered with lots of small\\nscratches -- not surprising since most of the miles were spent on the\\nhighway.\\n\\n    Having driven a smaller two-door coupe for so long, I was a bit\\nconcerned about whether I could get used to driving a larger car.  To\\nmy surprise, the size of the car doesn't bother me at all -- it seems\\njust as nimble as my Celica!  (No comparisons with my Oldsmobile.  :-)\\nVisibility from the driver's seat is excellent, helped mostly by of\\nthe small the quarter-windows, aft of the back-seat door windows and\\nin front of the C-pillar and rear window.  Parallel parking is a bit\\nmore difficult, but other than that, I love the size.\\n\\n    In fact, I'm starting to appreciate the large trunk as I pack up\\nfor a 14-hour drive to Washington, DC for the summer.  More on the\\nride later in this review.\\n\\n\\nEngine:\\n    \\n    As with anyone even slightly interested in SHOs, I was very\\ninterested in the 24-valve 3.0L Yamaha \\\"Shogun\\\" engine.  I was not\\ndisappointed.  Base performance of the engine under 4000 rpms is\\ngood.  You can even do reasonable launches from second gear, although\\nI don't make a practice of this.  The engine revs smoothly and eagerly\\n-- tooling around town does not require many shifts.  This is good\\nsince the shifter is definitely one of the weakest points of the car.\\n(More on this later.)\\n\\n    While the performance of the engine under 4000 rpms may be\\nunremarkable, it undergoes a Jekyll/Hyde transformation once you hit\\nhigher revs.  At 4500 rpms, a butterfly valve opens and you can\\nliterally hear and feel the geometry of the engine changing as twelve\\nmore valves open up.  The engine soars to its 7000 rpm redline, and\\nyou are treated to, in my opinion, the sweetest sounding V6 around.\\nThe engine inexplicably sounds OVERJOYED to be at 6500 rpm!\\n\\n    I've noticed that when I drive around town, I constantly watch the\\ntach to see how far below 4000 rpm I am.  To go from 2000 rpm to 4000,\\nyou may have to punch the accelerator -- while torque is more than\\nadequate, it doesn't come fully online until those other 12 valves\\nare used.\\n\\n\\nTransmission:\\n\\n    When _Car and Driver_ first reviewed the car in 1988, they\\nmarvelled at how Ford had put such a wimpy clutch and balky shifter\\ninto the car.  I remember driving a friend's parent's SHO in 1990, and\\nremember thinking about whether I had the leg strength to drive the\\ncar in traffic -- the clutch was that stiff.  That was back then.\\n\\n    The entire clutch assembly on my SHO has been replaced under a\\nFord recall in 1991.  The clutch on the SHO feels no stiffer than the\\none on my Toyota Celica.  In fact, the friction point seems a bit\\nlarger and more forgiving.\\n\\n    When playing with the shifter with the car parked, the shifter\\nfelt very reasonable.  The 1-2 and 3-4 gates were where you'd expect\\nit to be, and the shifting action was smooth.  On the road, it's\\nmuch the same -- but you have to shift SLOWLY!  Make no mistake, it's\\na clumsy shifter.\\n\\n    When hurrying shifts, like when I was initially trying to impress\\nfriends, I consistently miss the 1-2 shift, often grope clumsily for\\nthe 2-3 shift, and sometimes even muff the 3-4 shift.  I find this\\npretty amazing in a car like this.\\n\\n    It also took me several days to realize that you get the smoothest\\nshifts when you take your time.  Seems obvious, but compared to my\\nToyota and my friend's Honda, this seems atrocious and clumsy.\\nSomeone on rec.autos noted that CRXs should blow SHOs off-the-line\\nbecause of the incredibly clumsy shifter.\\n\\n    I now shift much more sedately, and the shifter seems more\\nreasonable.  When you play within these bounds, the shifter works\\nsmoothly with no surprises.  I don't know whether the rod shifter\\nupgrade would help at all.\\n\\n    Along these same lines, I initially had trouble shifting gears\\nsmoothly.  Again, slowing down the shifts and taking more care to\\nmatch revs when letting out the clutch helped immensely.  This took\\nseveral days for me to get the hang of.  (I think some of my problems\\nwere because I've never had a car with enough power to balk at bad\\nshifts in higher gears.)\\n\\n    Occasionally, I have trouble shifting into reverse.  The shifter\\nrefuses to enter the gate, and I often grind the synchros trying to \\nget it into gear.  I'll be watching this carefully in the next couple\\nof months.\\n\\n    A quirk:  When I upshift and the engine drops back to 1000-2500\\nrpm, I hear a whirring and then a grinding noise coming from the the\\nengine compartment.  Not terribly loud, but the passenger can\\ndefinitely hear it.  I asked about it when I was looking at the car,\\nas do all my passengers.  Apparently, this is a definitely a \\\"SHO\\nsound\\\" and is the gearbox -- apparently called \\\"gear rollover\\\".\\nReplies to my queries on rec.autos are at the end of this review.\\n\\n\\nExterior:\\n\\n    As I mentioned before, I am astounded by how well the body of this\\nSHO has stood up.  Paint chipping on the front bumper and grille are\\nvirtually non-existent.  Looking at how older Tauri sometimes\\ndon't age so gracefully, I wonder what the guys at Ford did\\ndifferently to the SHO bodies.\\n\\n    The body, in my opinion, is extremely attractive with matching\\ncolor body moldings than the stock Tauri.  For some odd reason, the\\nSHO seems different enough from vanilla Tauri to get stares at\\nstoplights -- of course, this could be my overactive imagination.\\n:-)  SHOs get fog lights, a more open grille, a completely\\nmonochromatic exterior, and a deeper ground skirt in the back with\\n\\\"SHO\\\" stenciled in relief.  I've seen a couple SHOs whose owners have\\ncolored these in with florescent colors or in black.  Yuck.\\n\\n    I don't think the car is flashy.  I like it that way.  I feel\\nalmost anonymous with all those Tauri out there, but different and\\ndistinctive enough to those of us who care.  :-)\\n\\n\\nInterior:\\n\\n    The interior is what really makes me feel like I don't deserve the\\ncar.  The seats are grey leather, the steering wheel and shifter are\\ncovered with black leather, and the entire instrument panel is done in\\na black/grey/metallic scheme.  \\n\\n    The instrumentation is stock Taurus, except for the 140 mph speedo\\nand 8000 rpm tach.  You get a center console with two cupholders, a\\nlarge compartment under the radio (great for a CD player), an armrest\\nthat contains yet another compartment, three appropriately sized coin\\nholders for tollways (I think), and a compartment for holding\\ncassette tapes.  There's map-holders in the doors, and an oddly small\\nglove compartment.\\n\\n    I spilled a whole can of Coke in the cupholder and was delighted\\nto find that the entire rubber holder can be removed and washed in a\\nsink.  Hey, I'm really impressed with the ergonomics and\\nthoughtfulness that went into its design.  And it's a 1989, before the\\ninterior was upgraded!\\n\\n    The backseat is bigger than any car I've had.  Why do they need so\\nmuch space?  :-)  (No smart-ass comments, please.  :-)\\n\\n    The driver and passenger seat have lumbar and side bolsters.  From\\nwhat I hear, it's not uncommon for the side bolsters to show wear.\\nMine is no exception.  The left side bolster on the driver's has\\ncracked and I'm not convinced the right bolster is inflating all the\\nway.\\n\\n    A big surprise for me:  I forgot that SHOs don't have a normal\\nhand parking brake.  Instead, they have the regular parking brake that\\nyou press with your left foot.  Too bad.  Again, I'm getting used to\\nit, but it seems a bit anachronistic to me.\\n\\n\\nRide:\\n\\n    The suspension is nice and stiff.  Too stiff?  It's stiffer than\\nany car I've had.  A friend's new 1993 Toyota Celica ST seems tauter\\nand is still able to soak up bumps better.  The SHO seems stiffer with\\nless ability to soak up bumps.  Driving over railroad tracks is a\\nnoisy and jarring affair.  On the other hand, taking turns feels\\nwonderful because the body is so rigid and doesn't flex at all -- I\\nlistened for that before I bought the car.\\n\\n    On the highway, the ride is great.  When I drove the car from\\nChicago back to Purdue, I had trouble keeping under 85 mph, let alone\\nfrom trying to see what 100 mph really feels like.  It's a relatively\\nquiet ride, but the sunroof rattles.  I've tried to find out what\\nexactly makes all the noise up there, but it seems to be the window\\nthat rests on the rails.  No easy way to get rid of it, I think.\\n\\n    Over the past three days, I've oscillated between thinking the\\nsuspension is wonderful and perfect and thinking that the ride is way\\ntoo rough.  (Not for me, mind you.  But I wonder whether I would\\nadvise my dad to buy one for himself.)  But, I've discovered, as with\\nthe shifter, if you take your time with shifts, you'll have no reason\\nto complain.  Let me explain...\\n\\n    The ride is worst when turning and applying lots of power to the\\nwheels.  I feel the wheels scrabbling for traction and torque steer\\nmaking the car skitter left and right.  After I understood this, I\\navoid the limits of traction -- and I'm a happy camper again.\\n\\n    It's not body rigidity, but the composure of the car.\\n\\n    As if matching the suspension, the steering feel is quite heavy.\\nMy first impression of driving my SHO was how hard you had to turn the\\nwheel at highway speeds.  It tracks straight as an arrow, but when\\ndriving around a parking lot, the high-effort steering didn't seem so\\nuseful.  However, it's reasonable, but it doesn't communicate the road\\nto the driver as well as a 1993 Ford Probe GT.  IMHO, it's much better\\nthan the steering on my Celica ST.\\n\\n    I wonder how bad this car is during winter?\\n\\n\\nMiscellaneous notes:\\n\\n    GRIPES:\\n\\n    The rattles from the sunroof is intermittent -- some days it rattles\\n        loudly, other days I look up wondering where all the noise went.\\n\\n    Activating the sunroof is sometimes very noisy -- loud squealing as\\n\\tit retracts on its rails.  I wonder if there is a quick fix for this.\\n\\tAgain, other days it completely disappears.  (Function of humidity?)\\n\\n    Once I made the connection between the sometimes awful feeling suspension\\n\\tand torque steer, I've never complained about ride.\\n\\n    I wish the seats had more support under the thighs.  Also, I wish the\\n\\tside bolsters would close more tightly.  \\n\\n    I hear that tires for this car can get really expensive.  I\\n\\tcurrently have Goodyear GT+4s that cost the previous owner $500\\n\\tfor four.\\n\\n    I used to hate the Ford stereo systems -- whose idea was it\\n\\tto use a volume *paddle*?  Now, to my amazement, I don't\\n\\treally mind...  and sometimes think it's an okay idea!!!\\n\\tPretty ridiculous, though.\\n\\n    Getting up to 4000 rpm sometimes seems to be a chore.  But,\\n\\tthis is no big deal.  There is more than enough torque\\n\\tdown low.\\n\\n    I often goof up the shifting when driving with friends.  It\\n\\ttook me a couple of days before I could really shift\\n\\tsmoothly from 2nd to 3rd gear.  (Hard to believe, isn't it?)\\n\\n    My car has almost 93,000 miles on it.  My parents noted that\\n\\tit is almost impossible to find a low-mileage SHO. \\n\\tAstute observation, IMHO.  I wonder how long I can make\\n\\tmy SHO last -- I just bought a book titled \\\"Drive It Forever\\\"\\n\\tfor tips in this department.  :-)\\n\\n    The goofy parking brake pedal still throws me for a loop.  I once\\n\\tparked the car in gear, and then accidentally let out the clutch\\n\\tafter I started it.  The car jolted forward, and bounced off\\n\\tthe car in front of me -- no paint damage at all, but starting the car \\n\\tis a whole new ritual for me with that fangled pedal!  Also, I began \\n\\tto wonder how strong that brake really is.  (Today, I backed out of \\n\\tparking spot today and started to drive away before I noticed \\n\\tthe glowing brake light.  Oops.)\\n\\n    The driver's power window creaks when closed all the way.  The same\\n    \\tthing happens in my parents 1989 Mercury Sable.  Oddly, all the\\n\\tother windows work smoothly.\\n\\n\\n    LIKES:\\n\\n    I'm liking the interior amenities more and more each day.  The\\n    \\tcupholders are great.\\n\\n    I didn't expect to use the keyless entry buttons so much, but\\n\\tit really is handy.  You can lock all the doors by\\n\\tpressing the 7/8 and 9/10 buttons together!  Neat!  And\\n\\tyou can never lock yourself out of the car.\\n\\n    I really feel like I don't deserve this car.  I really can't\\n\\tbelieve that I could afford it.  I got this car ten years \\n\\tahead of schedule.  :-)\\n\\n    I love this car so much that I've been telling my parents to\\n\\tlook into buying one.  I love this car so much that I\\n\\twrote this 13K file -- I meant to write a couple of lines\\n\\tand ended up with this.  \\n\\n    If there were a J.D. Powers Survey for used car owners, I would have\\n\\tan opportunity to express my incredible satisfaction of owning this \\n\\tcar.  I don't like thinking about getting another car, but at this\\n\\tpoint in time, I'm sure I'd buy another SHO.  For under $7000, you\\n\\tcan't beat it.  (Next time with an airbag and ABS, though.)\\n\\n    Insurance-wise, this car is also a big win.  I pay the same premiums\\n\\tas on my 1987 Toyota Celica -- despite that it has nearly twice\\n\\tthe horsepower.  \\n\\n\\n\\nOther Odds and Ends:\\n\\n    Much to my amazement, there is no SHO mailing list anywhere.\\nMaybe because the _SHO Registry_ publication has filled this void.  I\\nhaven't joined yet, but I've noticed that queries about SHOs still\\nappear on rec.autos about once a month.  Owners of SHOs are always\\nquick to respond, and are very vocal fans of the cars.  (Maybe some\\nof the most vocal on rec.autos.  :-)\\n\\n    I've put together the responses to my questions about the cars, as\\nwell as other posts with useful information on these cars.  I'll be \\nposting this in the form of a FAQ soon.  \\n\\n    If anyone is interested in starting a mailing list, please speak up!\\nI don't know if I have the resources here at Purdue to start one, but \\nmaybe someone out there does.\\n\\n\\nGene Kim\\n()\\n\\n\\n\",\n          \"Re: BMW 528i\\n\\nIn article <>,  (Shazad Barlas) writes:\\n>In article <>  writes:\\n>>The radio does not work untill the car warms up and you honk the horn (!)\\n>\\n>Hahaa!!!!!! hahahah!! hahahahahahaaaaa! I cant stop - its killing me!! \\n>hahah!!! \\n>\\n\\nI was dead serious when I posted it. I actually have an attempt of explanation\\nto this phenomenon, but I'll keep you guessing. I still want responces, \\nof which I got exactly 0.\\nMike.S\\n\",\n          \"Dennis Martinez: What's up!?\\n\\nI know there's been a lot of talk about Jack Morris' horrible start,\\nbut what about Dennis Martinez.  Last I checked he's 0-3 with 6+ ERA.\\nIs the ageless wonder finally showing his age?  Does he usually start\\noff the season so slowly?  I know he plans to start tonight.   I hope\\nhe comes around....\\n\\nI would appreciate any feedback concerning outlook on rest of Dennis\\nMartinez's season...\\n\\nThanks in advance,\\n\\nMike\\n\"\n        ],\n        \"semantic_type\": \"\",\n        \"description\": \"\"\n      }\n    },\n    {\n      \"column\": \"Label\",\n      \"properties\": {\n        \"dtype\": \"number\",\n        \"std\": 2,\n        \"min\": 7,\n        \"max\": 14,\n        \"num_unique_values\": 8,\n        \"samples\": [\n          8,\n          12,\n          7\n        ],\n        \"semantic_type\": \"\",\n        \"description\": \"\"\n      }\n    },\n    {\n      \"column\": \"Class Name\",\n      \"properties\": {\n        \"dtype\": \"category\",\n        \"num_unique_values\": 8,\n        \"samples\": [\n          \"rec.motorcycles\",\n          \"sci.electronics\",\n          \"rec.autos\"\n        ],\n        \"semantic_type\": \"\",\n        \"description\": \"\"\n      }\n    },\n    {\n      \"column\": \"Prediction\",\n      \"properties\": {\n        \"dtype\": \"string\",\n        \"num_unique_values\": 13,\n        \"samples\": [\n          \"comp.risks\",\n          \"rec.radio.amateur\",\n          \"rec.autos\"\n        ],\n        \"semantic_type\": \"\",\n        \"description\": \"\"\n      }\n    }\n  ]\n}"
            }
          },
          "metadata": {},
          "execution_count": 15
        }
      ],
      "execution_count": 15
    },
    {
      "cell_type": "markdown",
      "source": [
        "## Tune a custom model\n",
        "\n",
        "In this example you'll use tuning to create a model that requires no prompting or system instructions and outputs succinct text from the classes you provide in the training data.\n",
        "\n",
        "The data contains both input text (the processed posts) and output text (the category, or newsgroup), that you can use to start tuning a model.\n",
        "\n",
        "When calling `tune()`, you can specify model tuning hyperparameters too:\n",
        " - `epoch_count`: defines how many times to loop through the data,\n",
        " - `batch_size`: defines how many rows to process in a single step, and\n",
        " - `learning_rate`: defines the scaling factor for updating model weights at each step.\n",
        "\n",
        "You can also choose to omit them and use the defaults. [Learn more](https://developers.google.com/machine-learning/crash-course/linear-regression/hyperparameters) about these parameters and how they work. For this example these parameters were selected by running some tuning jobs and selecting parameters that converged efficiently.\n",
        "\n",
        "This example will start a new tuning job, but only if one does not already exist. This allows you to leave this codelab and come back later - re-running this step will find your last model."
      ],
      "metadata": {
        "id": "Ok7ugrLzcghX"
      }
    },
    {
      "cell_type": "code",
      "source": [
        "from collections.abc import Iterable\n",
        "import random\n",
        "\n",
        "\n",
        "# Convert the data frame into a dataset suitable for tuning.\n",
        "input_data = {'examples':\n",
        "    df_train[['Text', 'Class Name']]\n",
        "      .rename(columns={'Text': 'textInput', 'Class Name': 'output'})\n",
        "      .to_dict(orient='records')\n",
        " }\n",
        "\n",
        "# If you are re-running this lab, add your model_id here.\n",
        "model_id = None\n",
        "\n",
        "# Or try and find a recent tuning job.\n",
        "if not model_id:\n",
        "  queued_model = None\n",
        "  # Newest models first.\n",
        "  for m in reversed(client.tunings.list()):\n",
        "    # Only look at newsgroup classification models.\n",
        "    if m.name.startswith('tunedModels/newsgroup-classification-model'):\n",
        "      # If there is a completed model, use the first (newest) one.\n",
        "      if m.state.name == 'JOB_STATE_SUCCEEDED':\n",
        "        model_id = m.name\n",
        "        print('Found existing tuned model to reuse.')\n",
        "        break\n",
        "\n",
        "      elif m.state.name == 'JOB_STATE_RUNNING' and not queued_model:\n",
        "        # If there's a model still queued, remember the most recent one.\n",
        "        queued_model = m.name\n",
        "  else:\n",
        "    if queued_model:\n",
        "      model_id = queued_model\n",
        "      print('Found queued model, still waiting.')\n",
        "\n",
        "\n",
        "# Upload the training data and queue the tuning job.\n",
        "if not model_id:\n",
        "    tuning_op = client.tunings.tune(\n",
        "        base_model=\"models/gemini-1.5-flash-001-tuning\",\n",
        "        training_dataset=input_data,\n",
        "        config=types.CreateTuningJobConfig(\n",
        "            tuned_model_display_name=\"Newsgroup classification model\",\n",
        "            batch_size=16,\n",
        "            epoch_count=2,\n",
        "        ),\n",
        "    )\n",
        "\n",
        "    print(tuning_op.state)\n",
        "    model_id = tuning_op.name\n",
        "\n",
        "print(model_id)"
      ],
      "metadata": {
        "id": "pWOZlspfY8dV",
        "trusted": true,
        "execution": {
          "iopub.status.busy": "2025-04-02T07:55:53.141652Z",
          "iopub.execute_input": "2025-04-02T07:55:53.142071Z",
          "iopub.status.idle": "2025-04-02T07:55:55.004654Z",
          "shell.execute_reply.started": "2025-04-02T07:55:53.142034Z",
          "shell.execute_reply": "2025-04-02T07:55:55.003495Z"
        },
        "colab": {
          "base_uri": "https://localhost:8080/"
        },
        "outputId": "f35c11b7-5dfe-4fdf-c148-2593f1549e3a"
      },
      "outputs": [
        {
          "output_type": "stream",
          "name": "stderr",
          "text": [
            "<ipython-input-16-02db592a4bac>:39: ExperimentalWarning: The SDK's tuning implementation is experimental, and may change in future versions.\n",
            "  tuning_op = client.tunings.tune(\n"
          ]
        },
        {
          "output_type": "stream",
          "name": "stdout",
          "text": [
            "JobState.JOB_STATE_QUEUED\n",
            "tunedModels/newsgroup-classification-model-eg646rcl2\n"
          ]
        }
      ],
      "execution_count": 16
    },
    {
      "cell_type": "markdown",
      "source": [
        "This has created a tuning job that will run in the background. To inspect the progress of the tuning job, run this cell to plot the current status and loss curve. Once the status reaches `ACTIVE`, tuning is complete and the model is ready to use.\n",
        "\n",
        "Tuning jobs are queued, so it may look like no training steps have been taken initially but it will progress. Tuning can take anywhere from a few minutes to multiple hours, depending on factors like your dataset size and how busy the tuning infrastrature is. Why not treat yourself to a nice cup of tea while you wait, or come and say \"Hi!\" in the group [Discord](https://discord.com/invite/kaggle).\n",
        "\n",
        "It is safe to stop this cell at any point. It will not stop the tuning job.\n",
        "\n",
        "**IMPORTANT**: Due to the high volume of users doing this course, tuning jobs may be queued for many hours. Take a note of your tuned model ID above (`tunedModels/...`) so you can come back to it tomorrow. In the meantime, check out the [Search grounding](https://www.kaggle.com/code/markishere/day-4-google-search-grounding/) codelab. If you want to try tuning a local LLM, check out [the fine-tuning guides for tuning a Gemma model](https://ai.google.dev/gemma/docs/tune)."
      ],
      "metadata": {
        "id": "NQ3YZ2MBubCY"
      }
    },
    {
      "cell_type": "code",
      "source": [
        "import datetime\n",
        "import time\n",
        "\n",
        "\n",
        "MAX_WAIT = datetime.timedelta(minutes=10)\n",
        "\n",
        "while not (tuned_model := client.tunings.get(name=model_id)).has_ended:\n",
        "\n",
        "    print(tuned_model.state)\n",
        "    time.sleep(60)\n",
        "\n",
        "    # Don't wait too long. Use a public model if this is going to take a while.\n",
        "    if datetime.datetime.now(datetime.timezone.utc) - tuned_model.create_time > MAX_WAIT:\n",
        "        print(\"Taking a shortcut, using a previously prepared model.\")\n",
        "        model_id = \"tunedModels/newsgroup-classification-model-ltenbi1b\"\n",
        "        tuned_model = client.tunings.get(name=model_id)\n",
        "        break\n",
        "\n",
        "\n",
        "print(f\"Done! The model state is: {tuned_model.state.name}\")\n",
        "\n",
        "if not tuned_model.has_succeeded and tuned_model.error:\n",
        "    print(\"Error:\", tuned_model.error)"
      ],
      "metadata": {
        "id": "c4ef5f13692d",
        "trusted": true,
        "execution": {
          "iopub.status.busy": "2025-04-02T08:11:13.878313Z",
          "iopub.execute_input": "2025-04-02T08:11:13.878725Z",
          "iopub.status.idle": "2025-04-02T08:11:15.417549Z",
          "shell.execute_reply.started": "2025-04-02T08:11:13.878693Z",
          "shell.execute_reply": "2025-04-02T08:11:15.416441Z"
        },
        "colab": {
          "base_uri": "https://localhost:8080/"
        },
        "outputId": "43444564-5026-468a-b5e0-bb171702bb5e"
      },
      "outputs": [
        {
          "output_type": "stream",
          "name": "stdout",
          "text": [
            "JobState.JOB_STATE_RUNNING\n",
            "JobState.JOB_STATE_RUNNING\n",
            "JobState.JOB_STATE_RUNNING\n",
            "JobState.JOB_STATE_RUNNING\n",
            "Done! The model state is: JOB_STATE_SUCCEEDED\n"
          ]
        }
      ],
      "execution_count": 17
    },
    {
      "cell_type": "markdown",
      "source": [
        "## Use the new model\n",
        "\n",
        "Now that you have a tuned model, try it out with custom data. You use the same API as a normal Gemini API interaction, but you specify your new model as the model name, which will start with `tunedModels/`."
      ],
      "metadata": {
        "id": "9-qiIdK4u80z"
      }
    },
    {
      "cell_type": "code",
      "source": [
        "new_text = \"\"\"\n",
        "First-timer looking to get out of here.\n",
        "\n",
        "Hi, I'm writing about my interest in travelling to the outer limits!\n",
        "\n",
        "What kind of craft can I buy? What is easiest to access from this 3rd rock?\n",
        "\n",
        "Let me know how to do that please.\n",
        "\"\"\"\n",
        "\n",
        "response = client.models.generate_content(\n",
        "    model=model_id, contents=new_text)\n",
        "\n",
        "print(response.text)"
      ],
      "metadata": {
        "id": "hyO2-MXLvM6a",
        "trusted": true,
        "execution": {
          "iopub.status.busy": "2025-04-02T08:11:24.915979Z",
          "iopub.execute_input": "2025-04-02T08:11:24.91659Z",
          "iopub.status.idle": "2025-04-02T08:11:27.566345Z",
          "shell.execute_reply.started": "2025-04-02T08:11:24.91654Z",
          "shell.execute_reply": "2025-04-02T08:11:27.564861Z"
        },
        "colab": {
          "base_uri": "https://localhost:8080/"
        },
        "outputId": "147df48d-23bd-45cb-d066-df79f5fcd151"
      },
      "outputs": [
        {
          "output_type": "stream",
          "name": "stdout",
          "text": [
            "sci.space\n"
          ]
        }
      ],
      "execution_count": 18
    },
    {
      "cell_type": "markdown",
      "source": [
        "### Evaluation\n",
        "\n",
        "You can see that the model outputs labels that correspond to those in the training data, and without any system instructions or prompting, which is already a great improvement. Now see how well it performs on the test set.\n",
        "\n",
        "Note that there is no parallelism in this example; classifying the test sub-set will take a few minutes."
      ],
      "metadata": {
        "id": "xajLek9DySH_"
      }
    },
    {
      "cell_type": "code",
      "source": [
        "@retry.Retry(predicate=is_retriable)\n",
        "def classify_text(text: str) -> str:\n",
        "    \"\"\"Classify the provided text into a known newsgroup.\"\"\"\n",
        "    response = client.models.generate_content(\n",
        "        model=model_id, contents=text)\n",
        "    rc = response.candidates[0]\n",
        "\n",
        "    # Any errors, filters, recitation, etc we can mark as a general error\n",
        "    if rc.finish_reason.name != \"STOP\":\n",
        "        return \"(error)\"\n",
        "    else:\n",
        "        return rc.content.parts[0].text\n",
        "\n",
        "\n",
        "# The sampling here is just to minimise your quota usage. If you can, you should\n",
        "# evaluate the whole test set with `df_model_eval = df_test.copy()`.\n",
        "df_model_eval = sample_data(df_test, 4, '.*')\n",
        "\n",
        "df_model_eval[\"Prediction\"] = df_model_eval[\"Text\"].progress_apply(classify_text)\n",
        "\n",
        "accuracy = (df_model_eval[\"Class Name\"] == df_model_eval[\"Prediction\"]).sum() / len(df_model_eval)\n",
        "print(f\"Accuracy: {accuracy:.2%}\")"
      ],
      "metadata": {
        "id": "6T2Y3ZApvbMw",
        "trusted": true,
        "execution": {
          "iopub.status.busy": "2025-04-02T08:11:29.712728Z",
          "iopub.execute_input": "2025-04-02T08:11:29.713129Z",
          "iopub.status.idle": "2025-04-02T08:14:02.348228Z",
          "shell.execute_reply.started": "2025-04-02T08:11:29.713082Z",
          "shell.execute_reply": "2025-04-02T08:14:02.347128Z"
        },
        "colab": {
          "base_uri": "https://localhost:8080/",
          "height": 50,
          "referenced_widgets": [
            "ab85ba6a84a741ff816db7d8843f97c4",
            "90158f3446f04d4e8d1ecce9255834d6"
          ]
        },
        "outputId": "2c520e57-0fde-476f-d674-e5a8e8e0941f"
      },
      "outputs": [
        {
          "output_type": "display_data",
          "data": {
            "text/plain": [
              "Output()"
            ],
            "application/vnd.jupyter.widget-view+json": {
              "version_major": 2,
              "version_minor": 0,
              "model_id": "ab85ba6a84a741ff816db7d8843f97c4"
            }
          },
          "metadata": {}
        },
        {
          "output_type": "display_data",
          "data": {
            "text/plain": [],
            "text/html": [
              "<pre style=\"white-space:pre;overflow-x:auto;line-height:normal;font-family:Menlo,'DejaVu Sans Mono',consolas,'Courier New',monospace\"></pre>\n"
            ]
          },
          "metadata": {}
        },
        {
          "output_type": "stream",
          "name": "stdout",
          "text": [
            "Accuracy: 93.75%\n"
          ]
        }
      ],
      "execution_count": 19
    },
    {
      "cell_type": "markdown",
      "source": [
        "## Compare token usage\n",
        "\n",
        "AI Studio and the Gemini API provide model tuning at no cost, however normal limits and charges apply for *use* of a tuned model.\n",
        "\n",
        "The size of the input prompt and other generation config like system instructions, as well as the number of generated output tokens, all contribute to the overall cost of a request."
      ],
      "metadata": {
        "id": "Q5QV9e8IIHdn"
      }
    },
    {
      "cell_type": "code",
      "source": [
        "# Calculate the *input* cost of the baseline model with system instructions.\n",
        "sysint_tokens = client.models.count_tokens(\n",
        "    model='gemini-1.5-flash-001', contents=[system_instruct, sample_row]\n",
        ").total_tokens\n",
        "print(f'System instructed baseline model: {sysint_tokens} (input)')\n",
        "\n",
        "# Calculate the input cost of the tuned model.\n",
        "tuned_tokens = client.models.count_tokens(model=tuned_model.base_model, contents=sample_row).total_tokens\n",
        "print(f'Tuned model: {tuned_tokens} (input)')\n",
        "\n",
        "savings = (sysint_tokens - tuned_tokens) / tuned_tokens\n",
        "print(f'Token savings: {savings:.2%}')  # Note that this is only n=1."
      ],
      "metadata": {
        "trusted": true,
        "execution": {
          "iopub.status.busy": "2025-04-02T08:14:02.35288Z",
          "iopub.execute_input": "2025-04-02T08:14:02.353306Z",
          "iopub.status.idle": "2025-04-02T08:14:02.612742Z",
          "shell.execute_reply.started": "2025-04-02T08:14:02.353257Z",
          "shell.execute_reply": "2025-04-02T08:14:02.611517Z"
        },
        "id": "S9LiyApZIHdo",
        "colab": {
          "base_uri": "https://localhost:8080/"
        },
        "outputId": "92487ad7-e09e-4149-9293-9778b09df1e1"
      },
      "outputs": [
        {
          "output_type": "stream",
          "name": "stdout",
          "text": [
            "System instructed baseline model: 172 (input)\n",
            "Tuned model: 136 (input)\n",
            "Token savings: 26.47%\n"
          ]
        }
      ],
      "execution_count": 20
    },
    {
      "cell_type": "markdown",
      "source": [
        "The earlier verbose model also produced more output tokens than needed for this task."
      ],
      "metadata": {
        "id": "ODjQaI5JIHdp"
      }
    },
    {
      "cell_type": "code",
      "source": [
        "baseline_token_output = baseline_response.usage_metadata.candidates_token_count\n",
        "print('Baseline (verbose) output tokens:', baseline_token_output)\n",
        "\n",
        "tuned_model_output = client.models.generate_content(\n",
        "    model=model_id, contents=sample_row)\n",
        "tuned_tokens_output = tuned_model_output.usage_metadata.candidates_token_count\n",
        "print('Tuned output tokens:', tuned_tokens_output)"
      ],
      "metadata": {
        "trusted": true,
        "execution": {
          "iopub.status.busy": "2025-04-02T08:14:02.614741Z",
          "iopub.execute_input": "2025-04-02T08:14:02.615096Z",
          "iopub.status.idle": "2025-04-02T08:14:03.532486Z",
          "shell.execute_reply.started": "2025-04-02T08:14:02.615061Z",
          "shell.execute_reply": "2025-04-02T08:14:03.531188Z"
        },
        "id": "nKY4l9S5IHdp",
        "colab": {
          "base_uri": "https://localhost:8080/"
        },
        "outputId": "a35ad211-41bb-4efd-e652-1c5f68a38798"
      },
      "outputs": [
        {
          "output_type": "stream",
          "name": "stdout",
          "text": [
            "Baseline (verbose) output tokens: 164\n",
            "Tuned output tokens: 3\n"
          ]
        }
      ],
      "execution_count": 21
    },
    {
      "cell_type": "markdown",
      "source": [
        "## Next steps\n",
        "\n",
        "Now that you have tuned a classification model, try some other tasks, like tuning a model to respond with a specific tone or style using hand-written examples (or even generated examples!). Kaggle hosts [a number of datasets](https://www.kaggle.com/datasets) you can try out.\n",
        "\n",
        "Learn about [when supervised fine-tuning is most effective](https://cloud.google.com/blog/products/ai-machine-learning/supervised-fine-tuning-for-gemini-llm).\n",
        "\n",
        "And check out the [fine-tuning tutorial](https://ai.google.dev/gemini-api/docs/model-tuning/tutorial?hl=en&lang=python) for another example that shows a tuned model extending beyond the training data to new, unseen inputs.\n",
        "\n",
        "*- [Mark McD](https://linktr.ee/markmcd)*"
      ],
      "metadata": {
        "id": "6c1204a5d0ab"
      }
    }
  ]
}