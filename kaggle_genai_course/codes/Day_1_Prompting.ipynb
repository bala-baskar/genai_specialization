{
  "metadata": {
    "kernelspec": {
      "name": "python3",
      "display_name": "Python 3",
      "language": "python"
    },
    "language_info": {
      "name": "python",
      "version": "3.10.14",
      "mimetype": "text/x-python",
      "codemirror_mode": {
        "name": "ipython",
        "version": 3
      },
      "pygments_lexer": "ipython3",
      "nbconvert_exporter": "python",
      "file_extension": ".py"
    },
    "colab": {
      "provenance": [],
      "include_colab_link": true
    },
    "kaggle": {
      "accelerator": "none",
      "dataSources": [],
      "dockerImageVersionId": 30786,
      "isInternetEnabled": true,
      "language": "python",
      "sourceType": "notebook",
      "isGpuEnabled": false
    }
  },
  "nbformat_minor": 0,
  "nbformat": 4,
  "cells": [
    {
      "cell_type": "markdown",
      "metadata": {
        "id": "view-in-github",
        "colab_type": "text"
      },
      "source": [
        "<a href=\"https://colab.research.google.com/github/bala-baskar/genai_specialization/blob/main/kaggle_genai_course/codes/Day_1_Prompting.ipynb\" target=\"_parent\"><img src=\"https://colab.research.google.com/assets/colab-badge.svg\" alt=\"Open In Colab\"/></a>"
      ]
    },
    {
      "cell_type": "markdown",
      "source": [
        "##### Copyright 2025 Google LLC."
      ],
      "metadata": {
        "id": "jkxRSYjzA1oX"
      }
    },
    {
      "cell_type": "code",
      "source": [
        "# @title Licensed under the Apache License, Version 2.0 (the \"License\");\n",
        "# you may not use this file except in compliance with the License.\n",
        "# You may obtain a copy of the License at\n",
        "#\n",
        "# https://www.apache.org/licenses/LICENSE-2.0\n",
        "#\n",
        "# Unless required by applicable law or agreed to in writing, software\n",
        "# distributed under the License is distributed on an \"AS IS\" BASIS,\n",
        "# WITHOUT WARRANTIES OR CONDITIONS OF ANY KIND, either express or implied.\n",
        "# See the License for the specific language governing permissions and\n",
        "# limitations under the License."
      ],
      "metadata": {
        "cellView": "form",
        "id": "5u5OZ2ShA3BA",
        "jupyter": {
          "source_hidden": true
        },
        "trusted": true,
        "execution": {
          "iopub.status.busy": "2025-03-31T10:03:40.865029Z",
          "iopub.execute_input": "2025-03-31T10:03:40.865454Z",
          "iopub.status.idle": "2025-03-31T10:03:40.871949Z",
          "shell.execute_reply.started": "2025-03-31T10:03:40.865391Z",
          "shell.execute_reply": "2025-03-31T10:03:40.870628Z"
        }
      },
      "outputs": [],
      "execution_count": null
    },
    {
      "cell_type": "markdown",
      "source": [
        "# Day 1 - Prompting\n",
        "\n",
        "Welcome to the Kaggle 5-day Generative AI course!\n",
        "\n",
        "This notebook will show you how to get started with the Gemini API and walk you through some of the example prompts and techniques that you can also read about in the Prompting whitepaper. You don't need to read the whitepaper to use this notebook, but the papers will give you some theoretical context and background to complement this interactive notebook.\n",
        "\n",
        "\n",
        "## Before you begin\n",
        "\n",
        "In this notebook, you'll start exploring prompting using the Python SDK and AI Studio. For some inspiration, you might enjoy exploring some apps that have been built using the Gemini family of models. Here are a few that we like, and we think you will too.\n",
        "\n",
        "* [TextFX](https://textfx.withgoogle.com/) is a suite of AI-powered tools for rappers, made in collaboration with Lupe Fiasco,\n",
        "* [SQL Talk](https://sql-talk-r5gdynozbq-uc.a.run.app/) shows how you can talk directly to a database using the Gemini API,\n",
        "* [NotebookLM](https://notebooklm.google/) uses Gemini models to build your own personal AI research assistant.\n",
        "\n",
        "\n",
        "## For help\n",
        "\n",
        "**Common issues are covered in the [FAQ and troubleshooting guide](https://www.kaggle.com/code/markishere/day-0-troubleshooting-and-faqs).**\n",
        "\n",
        "## New for Gemini 2.0!\n",
        "\n",
        "This course material was first launched in November 2024. The AI and LLM space is moving incredibly fast, so we have made some updates to use the latest models and capabilities.\n",
        "\n",
        "* These codelabs have been updated to use the Gemini 2.0 family of models.\n",
        "* The Python SDK has been updated from `google-generativeai` to the new, unified [`google-genai`](https://pypi.org/project/google-genai) SDK.\n",
        "  * This new SDK works with both the developer Gemini API as well as Google Cloud Vertex AI, and switching is [as simple as changing some fields](https://pypi.org/project/google-genai/#:~:text=.Client%28%29-,API%20Selection,-By%20default%2C%20the).\n",
        "* New model capabilities have been added to the relevant codelabs, such as \"thinking mode\" in this lab.\n",
        "* Day 1 includes a new [Evaluation codelab](https://www.kaggle.com/code/markishere/day-1-evaluation-and-structured-output)."
      ],
      "metadata": {
        "id": "csNPnkuCobmG"
      }
    },
    {
      "cell_type": "markdown",
      "source": [
        "### Install the SDK"
      ],
      "metadata": {
        "id": "UAjUV3BsvFXQ"
      }
    },
    {
      "cell_type": "code",
      "source": [
        "!pip uninstall -qqy jupyterlab  # Remove unused packages from Kaggle's base image that conflict"
      ],
      "metadata": {
        "id": "NzwzJFU9LqkJ",
        "trusted": true,
        "execution": {
          "iopub.status.busy": "2025-04-13T04:17:15.143986Z",
          "iopub.execute_input": "2025-04-13T04:17:15.144383Z",
          "iopub.status.idle": "2025-04-13T04:17:32.663751Z",
          "shell.execute_reply.started": "2025-04-13T04:17:15.144332Z",
          "shell.execute_reply": "2025-04-13T04:17:32.6625Z"
        }
      },
      "outputs": [],
      "execution_count": null
    },
    {
      "cell_type": "markdown",
      "source": [
        "Import the SDK and some helpers for rendering the output."
      ],
      "metadata": {
        "id": "M3BZz1Jfb-CJ"
      }
    },
    {
      "cell_type": "code",
      "source": [
        "!pip install -U -q \"google-genai==1.7.0\""
      ],
      "metadata": {
        "id": "84cKnFEccTcY",
        "colab": {
          "base_uri": "https://localhost:8080/"
        },
        "outputId": "7738bd58-d97a-476b-c630-8ce6a49e99b7"
      },
      "execution_count": 1,
      "outputs": [
        {
          "output_type": "stream",
          "name": "stdout",
          "text": [
            "\u001b[?25l   \u001b[90m━━━━━━━━━━━━━━━━━━━━━━━━━━━━━━━━━━━━━━━━\u001b[0m \u001b[32m0.0/144.7 kB\u001b[0m \u001b[31m?\u001b[0m eta \u001b[36m-:--:--\u001b[0m\r\u001b[2K   \u001b[91m━━━━━━━━━━━━━━━━━━━━━━━━━━━━━━━━━━━━━━━\u001b[0m\u001b[91m╸\u001b[0m \u001b[32m143.4/144.7 kB\u001b[0m \u001b[31m6.8 MB/s\u001b[0m eta \u001b[36m0:00:01\u001b[0m\r\u001b[2K   \u001b[90m━━━━━━━━━━━━━━━━━━━━━━━━━━━━━━━━━━━━━━━━\u001b[0m \u001b[32m144.7/144.7 kB\u001b[0m \u001b[31m3.7 MB/s\u001b[0m eta \u001b[36m0:00:00\u001b[0m\n",
            "\u001b[?25h"
          ]
        }
      ]
    },
    {
      "cell_type": "code",
      "source": [
        "from google import genai\n",
        "from google.genai import types\n",
        "\n",
        "from IPython.display import HTML, Markdown, display"
      ],
      "metadata": {
        "id": "5DwxYIRavMST",
        "trusted": true,
        "execution": {
          "iopub.status.busy": "2025-04-13T04:17:35.835874Z",
          "iopub.execute_input": "2025-04-13T04:17:35.836962Z",
          "iopub.status.idle": "2025-04-13T04:17:37.110079Z",
          "shell.execute_reply.started": "2025-04-13T04:17:35.836904Z",
          "shell.execute_reply": "2025-04-13T04:17:37.109207Z"
        }
      },
      "outputs": [],
      "execution_count": 2
    },
    {
      "cell_type": "markdown",
      "source": [
        "Set up a retry helper. This allows you to \"Run all\" without worrying about per-minute quota."
      ],
      "metadata": {
        "id": "5MXo6P-mb-CK"
      }
    },
    {
      "cell_type": "code",
      "source": [
        "from google.api_core import retry\n",
        "\n",
        "is_retriable = lambda e: (isinstance(e, genai.errors.APIError) and e.code in {429, 503})\n",
        "\n",
        "genai.models.Models.generate_content = retry.Retry(\n",
        "    predicate=is_retriable)(genai.models.Models.generate_content)"
      ],
      "metadata": {
        "trusted": true,
        "execution": {
          "iopub.status.busy": "2025-04-13T04:17:40.819934Z",
          "iopub.execute_input": "2025-04-13T04:17:40.820463Z",
          "iopub.status.idle": "2025-04-13T04:17:40.987488Z",
          "shell.execute_reply.started": "2025-04-13T04:17:40.820426Z",
          "shell.execute_reply": "2025-04-13T04:17:40.986558Z"
        },
        "id": "rhgug1YZb-CK"
      },
      "outputs": [],
      "execution_count": 3
    },
    {
      "cell_type": "markdown",
      "source": [
        "### Set up your API key\n",
        "\n",
        "To run the following cell, your API key must be stored it in a [Kaggle secret](https://www.kaggle.com/discussions/product-feedback/114053) named `GOOGLE_API_KEY`.\n",
        "\n",
        "If you don't already have an API key, you can grab one from [AI Studio](https://aistudio.google.com/app/apikey). You can find [detailed instructions in the docs](https://ai.google.dev/gemini-api/docs/api-key).\n",
        "\n",
        "To make the key available through Kaggle secrets, choose `Secrets` from the `Add-ons` menu and follow the instructions to add your key or enable it for this notebook."
      ],
      "metadata": {
        "id": "DNEt2BCOvOJ1"
      }
    },
    {
      "cell_type": "code",
      "source": [
        "from google.colab import userdata\n",
        "GOOGLE_API_KEY = userdata.get('GOOGLE_API_KEY')"
      ],
      "metadata": {
        "id": "SHl0bkPCvayd",
        "trusted": true,
        "execution": {
          "iopub.status.busy": "2025-04-13T04:17:44.647318Z",
          "iopub.execute_input": "2025-04-13T04:17:44.64784Z",
          "iopub.status.idle": "2025-04-13T04:17:44.736712Z",
          "shell.execute_reply.started": "2025-04-13T04:17:44.647802Z",
          "shell.execute_reply": "2025-04-13T04:17:44.735682Z"
        }
      },
      "outputs": [],
      "execution_count": 5
    },
    {
      "cell_type": "markdown",
      "source": [
        "### Run your first prompt\n",
        "\n",
        "In this step, you will test that your API key is set up correctly by making a request.\n",
        "\n",
        "The Python SDK uses a [`Client` object](https://googleapis.github.io/python-genai/genai.html#genai.client.Client) to make requests to the API. The client lets you control which back-end to use (between the Gemini API and Vertex AI) and handles authentication (the API key).\n",
        "\n",
        "The `gemini-2.0-flash` model has been selected here.\n",
        "\n",
        "**Note**: If you see a `TransportError` on this step, you may need to **🔁 Factory reset** the notebook one time."
      ],
      "metadata": {
        "id": "H_YXCYIKvyZJ"
      }
    },
    {
      "cell_type": "code",
      "source": [
        "client = genai.Client(api_key=GOOGLE_API_KEY)\n",
        "\n",
        "response = client.models.generate_content(\n",
        "    model=\"gemini-2.0-flash\",\n",
        "    contents=\"Explain AI to me like I'm a kid.\")\n",
        "\n",
        "print(response.text)"
      ],
      "metadata": {
        "id": "BV1o0PmcvyJF",
        "trusted": true,
        "execution": {
          "iopub.status.busy": "2025-04-13T04:17:49.670581Z",
          "iopub.execute_input": "2025-04-13T04:17:49.671402Z",
          "iopub.status.idle": "2025-04-13T04:17:52.06603Z",
          "shell.execute_reply.started": "2025-04-13T04:17:49.67136Z",
          "shell.execute_reply": "2025-04-13T04:17:52.064952Z"
        },
        "outputId": "05f1703a-66d3-4d2d-9524-5807c49e4a28",
        "colab": {
          "base_uri": "https://localhost:8080/"
        }
      },
      "outputs": [
        {
          "output_type": "stream",
          "name": "stdout",
          "text": [
            "Imagine you have a really, really smart parrot! This parrot can learn from all the things it sees and hears.\n",
            "\n",
            "**AI is like that parrot's really, really smart brain.**\n",
            "\n",
            "Instead of feathers, AI lives inside computers and robots.\n",
            "\n",
            "Here's how it works:\n",
            "\n",
            "*   **Learning:** You teach the AI by showing it lots of examples. For instance, if you want the AI to recognize cats, you show it tons of pictures of cats.\n",
            "*   **Patterns:** The AI looks for patterns in those examples. It sees that cats have pointy ears, whiskers, and furry tails.\n",
            "*   **Thinking:** When the AI sees a new picture, it uses the patterns it learned to guess if it's a cat.\n",
            "*   **Improving:** The AI gets better the more examples you show it. If it guesses wrong, you tell it, and it learns from its mistake!\n",
            "\n",
            "**So, what can AI do?**\n",
            "\n",
            "*   **Play games:** Some AIs can beat the best human players at chess or video games.\n",
            "*   **Help you with homework:** It can answer questions and help you find information.\n",
            "*   **Recognize faces:** AI can tell who someone is in a picture.\n",
            "*   **Drive cars:** Some cars can drive themselves using AI.\n",
            "*   **Make music:** AIs can even compose their own songs!\n",
            "\n",
            "**Is AI magic?**\n",
            "\n",
            "No, it's not magic! It's just really clever programming. People write instructions (like a recipe) for the computer to follow so it can learn and do these amazing things.\n",
            "\n",
            "**AI is still growing!**\n",
            "\n",
            "Scientists are working hard to make AI even smarter and more helpful. Maybe one day, you'll help build the next amazing AI!\n",
            "\n"
          ]
        }
      ],
      "execution_count": 6
    },
    {
      "cell_type": "markdown",
      "source": [
        "The response often comes back in markdown format, which you can render directly in this notebook."
      ],
      "metadata": {
        "id": "f60ed9d8ae41"
      }
    },
    {
      "cell_type": "code",
      "source": [
        "Markdown(response.text)"
      ],
      "metadata": {
        "id": "c933e5e460a5",
        "trusted": true,
        "execution": {
          "iopub.status.busy": "2025-04-13T04:17:56.641543Z",
          "iopub.execute_input": "2025-04-13T04:17:56.641949Z",
          "iopub.status.idle": "2025-04-13T04:17:56.649545Z",
          "shell.execute_reply.started": "2025-04-13T04:17:56.641911Z",
          "shell.execute_reply": "2025-04-13T04:17:56.648559Z"
        },
        "outputId": "a8fa2b82-fcdb-43c3-e818-8870b8ce29eb",
        "colab": {
          "base_uri": "https://localhost:8080/",
          "height": 395
        }
      },
      "outputs": [
        {
          "output_type": "execute_result",
          "data": {
            "text/plain": [
              "<IPython.core.display.Markdown object>"
            ],
            "text/markdown": "Imagine you have a really, really smart parrot! This parrot can learn from all the things it sees and hears.\n\n**AI is like that parrot's really, really smart brain.**\n\nInstead of feathers, AI lives inside computers and robots.\n\nHere's how it works:\n\n*   **Learning:** You teach the AI by showing it lots of examples. For instance, if you want the AI to recognize cats, you show it tons of pictures of cats.\n*   **Patterns:** The AI looks for patterns in those examples. It sees that cats have pointy ears, whiskers, and furry tails.\n*   **Thinking:** When the AI sees a new picture, it uses the patterns it learned to guess if it's a cat.\n*   **Improving:** The AI gets better the more examples you show it. If it guesses wrong, you tell it, and it learns from its mistake!\n\n**So, what can AI do?**\n\n*   **Play games:** Some AIs can beat the best human players at chess or video games.\n*   **Help you with homework:** It can answer questions and help you find information.\n*   **Recognize faces:** AI can tell who someone is in a picture.\n*   **Drive cars:** Some cars can drive themselves using AI.\n*   **Make music:** AIs can even compose their own songs!\n\n**Is AI magic?**\n\nNo, it's not magic! It's just really clever programming. People write instructions (like a recipe) for the computer to follow so it can learn and do these amazing things.\n\n**AI is still growing!**\n\nScientists are working hard to make AI even smarter and more helpful. Maybe one day, you'll help build the next amazing AI!\n"
          },
          "metadata": {},
          "execution_count": 7
        }
      ],
      "execution_count": 7
    },
    {
      "cell_type": "markdown",
      "source": [
        "### Start a chat\n",
        "\n",
        "The previous example uses a single-turn, text-in/text-out structure, but you can also set up a multi-turn chat structure too."
      ],
      "metadata": {
        "id": "byx0pT9ZMW2Q"
      }
    },
    {
      "cell_type": "code",
      "source": [
        "chat = client.chats.create(model='gemini-2.0-flash', history=[])\n",
        "response = chat.send_message('Hello! My name is Zlork.')\n",
        "print(response.text)"
      ],
      "metadata": {
        "id": "lV_S5ZL5MidD",
        "trusted": true,
        "execution": {
          "iopub.status.busy": "2025-04-12T06:58:01.200099Z",
          "iopub.execute_input": "2025-04-12T06:58:01.200827Z",
          "iopub.status.idle": "2025-04-12T06:58:01.740897Z",
          "shell.execute_reply.started": "2025-04-12T06:58:01.200786Z",
          "shell.execute_reply": "2025-04-12T06:58:01.739887Z"
        },
        "outputId": "618adf92-e4a4-4a65-b26f-c0786bf7c3ea",
        "colab": {
          "base_uri": "https://localhost:8080/"
        }
      },
      "outputs": [
        {
          "output_type": "stream",
          "name": "stdout",
          "text": [
            "Hello Zlork! It's nice to meet you. How can I help you today?\n",
            "\n"
          ]
        }
      ],
      "execution_count": 8
    },
    {
      "cell_type": "code",
      "source": [
        "response = chat.send_message('Can you tell me something interesting about dinosaurs?')\n",
        "print(response.text)"
      ],
      "metadata": {
        "id": "7b0372c3c64a",
        "trusted": true,
        "execution": {
          "iopub.status.busy": "2025-04-12T06:58:07.498086Z",
          "iopub.execute_input": "2025-04-12T06:58:07.498871Z",
          "iopub.status.idle": "2025-04-12T06:58:08.709603Z",
          "shell.execute_reply.started": "2025-04-12T06:58:07.498834Z",
          "shell.execute_reply": "2025-04-12T06:58:08.708537Z"
        },
        "outputId": "574df86e-39b1-4d70-b20c-0218e8c6ac58",
        "colab": {
          "base_uri": "https://localhost:8080/"
        }
      },
      "outputs": [
        {
          "output_type": "stream",
          "name": "stdout",
          "text": [
            "Okay, here's a cool dinosaur fact for you:\n",
            "\n",
            "While most people think of dinosaurs as gigantic reptiles, they're actually more closely related to **birds** than they are to lizards or crocodiles! In fact, birds *are* technically living dinosaurs, descended from a group of theropod dinosaurs. Scientists have found fossil evidence like feathers, wishbones, and even brooding behavior in dinosaur fossils, further solidifying this connection. So next time you see a pigeon, remember you're looking at a distant relative of the mighty Tyrannosaurus Rex!\n",
            "\n"
          ]
        }
      ],
      "execution_count": 9
    },
    {
      "cell_type": "markdown",
      "source": [
        "While you have the `chat` object alive, the conversation state\n",
        "persists. Confirm that by asking if it knows the user's name."
      ],
      "metadata": {
        "id": "LxQ4MxSMb-CQ"
      }
    },
    {
      "cell_type": "code",
      "source": [
        "response = chat.send_message('Do you remember what my name is?')\n",
        "print(response.text)"
      ],
      "metadata": {
        "id": "d3f9591392a7",
        "trusted": true,
        "execution": {
          "iopub.status.busy": "2025-04-12T06:58:16.564263Z",
          "iopub.execute_input": "2025-04-12T06:58:16.56525Z",
          "iopub.status.idle": "2025-04-12T06:58:17.066595Z",
          "shell.execute_reply.started": "2025-04-12T06:58:16.565206Z",
          "shell.execute_reply": "2025-04-12T06:58:17.065595Z"
        },
        "outputId": "9e4857f3-1f12-47b4-834a-266465e6fecd",
        "colab": {
          "base_uri": "https://localhost:8080/"
        }
      },
      "outputs": [
        {
          "output_type": "stream",
          "name": "stdout",
          "text": [
            "Yes, your name is Zlork.\n",
            "\n"
          ]
        }
      ],
      "execution_count": 10
    },
    {
      "cell_type": "markdown",
      "source": [
        "### Choose a model\n",
        "\n",
        "The Gemini API provides access to a number of models from the Gemini model family. Read about the available models and their capabilities on the [model overview page](https://ai.google.dev/gemini-api/docs/models/gemini).\n",
        "\n",
        "In this step you'll use the API to list all of the available models."
      ],
      "metadata": {
        "id": "2KAjpr1200sW"
      }
    },
    {
      "cell_type": "code",
      "source": [
        "for model in client.models.list():\n",
        "  print(model.name)"
      ],
      "metadata": {
        "id": "uUUZa2uq2jDm",
        "trusted": true,
        "execution": {
          "iopub.status.busy": "2025-04-12T06:58:39.491763Z",
          "iopub.execute_input": "2025-04-12T06:58:39.492158Z",
          "iopub.status.idle": "2025-04-12T06:58:39.716152Z",
          "shell.execute_reply.started": "2025-04-12T06:58:39.492122Z",
          "shell.execute_reply": "2025-04-12T06:58:39.715083Z"
        },
        "outputId": "1c64fd46-aaf4-41e7-a292-ff04b5930aa9",
        "colab": {
          "base_uri": "https://localhost:8080/"
        }
      },
      "outputs": [
        {
          "output_type": "stream",
          "name": "stdout",
          "text": [
            "models/chat-bison-001\n",
            "models/text-bison-001\n",
            "models/embedding-gecko-001\n",
            "models/gemini-1.0-pro-vision-latest\n",
            "models/gemini-pro-vision\n",
            "models/gemini-1.5-pro-latest\n",
            "models/gemini-1.5-pro-001\n",
            "models/gemini-1.5-pro-002\n",
            "models/gemini-1.5-pro\n",
            "models/gemini-1.5-flash-latest\n",
            "models/gemini-1.5-flash-001\n",
            "models/gemini-1.5-flash-001-tuning\n",
            "models/gemini-1.5-flash\n",
            "models/gemini-1.5-flash-002\n",
            "models/gemini-1.5-flash-8b\n",
            "models/gemini-1.5-flash-8b-001\n",
            "models/gemini-1.5-flash-8b-latest\n",
            "models/gemini-1.5-flash-8b-exp-0827\n",
            "models/gemini-1.5-flash-8b-exp-0924\n",
            "models/gemini-2.5-pro-exp-03-25\n",
            "models/gemini-2.5-pro-preview-03-25\n",
            "models/gemini-2.0-flash-exp\n",
            "models/gemini-2.0-flash\n",
            "models/gemini-2.0-flash-001\n",
            "models/gemini-2.0-flash-exp-image-generation\n",
            "models/gemini-2.0-flash-lite-001\n",
            "models/gemini-2.0-flash-lite\n",
            "models/gemini-2.0-flash-lite-preview-02-05\n",
            "models/gemini-2.0-flash-lite-preview\n",
            "models/gemini-2.0-pro-exp\n",
            "models/gemini-2.0-pro-exp-02-05\n",
            "models/gemini-exp-1206\n",
            "models/gemini-2.0-flash-thinking-exp-01-21\n",
            "models/gemini-2.0-flash-thinking-exp\n",
            "models/gemini-2.0-flash-thinking-exp-1219\n",
            "models/learnlm-1.5-pro-experimental\n",
            "models/gemma-3-1b-it\n",
            "models/gemma-3-4b-it\n",
            "models/gemma-3-12b-it\n",
            "models/gemma-3-27b-it\n",
            "models/embedding-001\n",
            "models/text-embedding-004\n",
            "models/gemini-embedding-exp-03-07\n",
            "models/gemini-embedding-exp\n",
            "models/aqa\n",
            "models/imagen-3.0-generate-002\n",
            "models/gemini-2.0-flash-live-001\n"
          ]
        }
      ],
      "execution_count": 11
    },
    {
      "cell_type": "markdown",
      "source": [
        "The [`models.list`](https://ai.google.dev/api/models#method:-models.list) response also returns additional information about the model's capabilities, like the token limits and supported parameters."
      ],
      "metadata": {
        "id": "rN49kSI54R1v"
      }
    },
    {
      "cell_type": "code",
      "source": [
        "from pprint import pprint\n",
        "\n",
        "for model in client.models.list():\n",
        "  if model.name == 'models/gemini-2.0-flash':\n",
        "    pprint(model.to_json_dict())\n",
        "    break"
      ],
      "metadata": {
        "id": "k7JJ1K6j4Rl8",
        "trusted": true,
        "execution": {
          "iopub.status.busy": "2025-04-12T06:59:00.027948Z",
          "iopub.execute_input": "2025-04-12T06:59:00.028355Z",
          "iopub.status.idle": "2025-04-12T06:59:00.26014Z",
          "shell.execute_reply.started": "2025-04-12T06:59:00.028321Z",
          "shell.execute_reply": "2025-04-12T06:59:00.259033Z"
        },
        "outputId": "1f33dc75-57d2-42f2-db67-5e931ceee976",
        "colab": {
          "base_uri": "https://localhost:8080/"
        }
      },
      "outputs": [
        {
          "output_type": "stream",
          "name": "stdout",
          "text": [
            "{'description': 'Gemini 2.0 Flash',\n",
            " 'display_name': 'Gemini 2.0 Flash',\n",
            " 'input_token_limit': 1048576,\n",
            " 'name': 'models/gemini-2.0-flash',\n",
            " 'output_token_limit': 8192,\n",
            " 'supported_actions': ['generateContent', 'countTokens'],\n",
            " 'tuned_model_info': {},\n",
            " 'version': '2.0'}\n"
          ]
        }
      ],
      "execution_count": 12
    },
    {
      "cell_type": "markdown",
      "source": [
        "## Explore generation parameters\n",
        "\n"
      ],
      "metadata": {
        "id": "5rU_UBlZdooM"
      }
    },
    {
      "cell_type": "markdown",
      "source": [
        "### Output length\n",
        "\n",
        "When generating text with an LLM, the output length affects cost and performance. Generating more tokens increases computation, leading to higher energy consumption, latency, and cost.\n",
        "\n",
        "To stop the model from generating tokens past a limit, you can specify the `max_output_tokens` parameter when using the Gemini API. Specifying this parameter does not influence the generation of the output tokens, so the output will not become more stylistically or textually succinct, but it will stop generating tokens once the specified length is reached. Prompt engineering may be required to generate a more complete output for your given limit."
      ],
      "metadata": {
        "id": "G7NfEizeipbW"
      }
    },
    {
      "cell_type": "code",
      "source": [
        "from google.genai import types\n",
        "\n",
        "short_config = types.GenerateContentConfig(max_output_tokens=200)\n",
        "\n",
        "response = client.models.generate_content(\n",
        "    model='gemini-2.0-flash',\n",
        "    config=short_config,\n",
        "    contents='Write a 1000 word essay on the importance of olives in modern society.')\n",
        "\n",
        "print(response.text)"
      ],
      "metadata": {
        "id": "qVf23JsIi9ma",
        "trusted": true,
        "execution": {
          "iopub.status.busy": "2025-04-12T07:27:07.055935Z",
          "iopub.execute_input": "2025-04-12T07:27:07.056329Z",
          "iopub.status.idle": "2025-04-12T07:27:08.684581Z",
          "shell.execute_reply.started": "2025-04-12T07:27:07.056295Z",
          "shell.execute_reply": "2025-04-12T07:27:08.683555Z"
        },
        "outputId": "4b5d1c6d-53e4-4e95-f337-fb30dcaa6b7b",
        "colab": {
          "base_uri": "https://localhost:8080/"
        }
      },
      "outputs": [
        {
          "output_type": "stream",
          "name": "stdout",
          "text": [
            "## The Humble Olive: A Cornerstone of Modern Society\n",
            "\n",
            "The olive, a small, unassuming fruit, has been a cornerstone of Mediterranean culture for millennia. Beyond its historical significance, however, the olive and its derivatives continue to play a surprisingly vital role in modern society. Its impact stretches far beyond the culinary realm, influencing agriculture, health, economics, and even cultural identity. From the ubiquitous olive oil found in kitchens worldwide to the briny snack enjoyed at cocktail parties, the olive's presence is a testament to its enduring value and adaptability in a rapidly changing world.\n",
            "\n",
            "One of the most significant contributions of the olive to modern society is its impact on health and nutrition. Olive oil, particularly extra virgin olive oil (EVOO), has become a symbol of a healthy Mediterranean diet, renowned for its cardiovascular benefits. Rich in monounsaturated fats, EVOO helps lower LDL cholesterol (the \"bad\" cholesterol) and raise HDL cholesterol (the \"good\" cholesterol), reducing the risk of heart disease.\n"
          ]
        }
      ],
      "execution_count": 13
    },
    {
      "cell_type": "code",
      "source": [
        "response = client.models.generate_content(\n",
        "    model='gemini-2.0-flash',\n",
        "    config=short_config,\n",
        "    contents='Write a short poem on the importance of olives in modern society.')\n",
        "\n",
        "print(response.text)"
      ],
      "metadata": {
        "id": "W-3kR2F5kdMR",
        "trusted": true,
        "execution": {
          "iopub.status.busy": "2025-04-12T07:00:23.261035Z",
          "iopub.execute_input": "2025-04-12T07:00:23.261954Z",
          "iopub.status.idle": "2025-04-12T07:00:24.357722Z",
          "shell.execute_reply.started": "2025-04-12T07:00:23.261917Z",
          "shell.execute_reply": "2025-04-12T07:00:24.356665Z"
        },
        "outputId": "2fbcc11a-2391-4565-e412-7e77de9789dc",
        "colab": {
          "base_uri": "https://localhost:8080/"
        }
      },
      "outputs": [
        {
          "output_type": "stream",
          "name": "stdout",
          "text": [
            "From ancient groves to modern plate,\n",
            "The olive yields, a verdant fate.\n",
            "In oil it flows, a healthy stream,\n",
            "On pizzas dots, a vibrant gleam.\n",
            "\n",
            "Tapenade spreads, a savory art,\n",
            "A symbol old, a brand new start.\n",
            "So raise a glass, to humble fruit,\n",
            "The olive's reign, beyond dispute.\n",
            "\n"
          ]
        }
      ],
      "execution_count": 14
    },
    {
      "cell_type": "markdown",
      "source": [
        "Explore with your own prompts. Try a prompt with a restrictive output limit and then adjust the prompt to work within that limit."
      ],
      "metadata": {
        "id": "3ZhDSLB6lqqB"
      }
    },
    {
      "cell_type": "markdown",
      "source": [
        "### Temperature\n",
        "\n",
        "Temperature controls the degree of randomness in token selection. Higher temperatures result in a higher number of candidate tokens from which the next output token is selected, and can produce more diverse results, while lower temperatures have the opposite effect, such that a temperature of 0 results in greedy decoding, selecting the most probable token at each step.\n",
        "\n",
        "Temperature doesn't provide any guarantees of randomness, but it can be used to \"nudge\" the output somewhat."
      ],
      "metadata": {
        "id": "alx-WaAvir_9"
      }
    },
    {
      "cell_type": "code",
      "source": [
        "high_temp_config = types.GenerateContentConfig(temperature=2.0)\n",
        "\n",
        "\n",
        "for _ in range(5):\n",
        "  response = client.models.generate_content(\n",
        "      model='gemini-2.0-flash',\n",
        "      config=high_temp_config,\n",
        "      contents='Pick a random colour... (respond in a single word)')\n",
        "\n",
        "  if response.text:\n",
        "    print(response.text, '-' * 25)"
      ],
      "metadata": {
        "id": "SHraGMzqnZqt",
        "trusted": true,
        "execution": {
          "iopub.status.busy": "2025-04-12T07:01:08.698551Z",
          "iopub.execute_input": "2025-04-12T07:01:08.698942Z",
          "iopub.status.idle": "2025-04-12T07:01:10.841651Z",
          "shell.execute_reply.started": "2025-04-12T07:01:08.698908Z",
          "shell.execute_reply": "2025-04-12T07:01:10.8406Z"
        },
        "outputId": "a8e69829-faa7-4dc6-ce63-2817157526b9",
        "colab": {
          "base_uri": "https://localhost:8080/"
        }
      },
      "outputs": [
        {
          "output_type": "stream",
          "name": "stdout",
          "text": [
            "Turquoise\n",
            " -------------------------\n",
            "Turquoise\n",
            " -------------------------\n",
            "Turquoise\n",
            " -------------------------\n",
            "Mauve\n",
            " -------------------------\n",
            "Turquoise\n",
            " -------------------------\n"
          ]
        }
      ],
      "execution_count": 15
    },
    {
      "cell_type": "markdown",
      "source": [
        "Now try the same prompt with temperature set to zero. Note that the output is not completely deterministic, as other parameters affect token selection, but the results will tend to be more stable."
      ],
      "metadata": {
        "id": "z3J4pCTuof7e"
      }
    },
    {
      "cell_type": "code",
      "source": [
        "low_temp_config = types.GenerateContentConfig(temperature=0.0)\n",
        "\n",
        "for _ in range(5):\n",
        "  response = client.models.generate_content(\n",
        "      model='gemini-2.0-flash',\n",
        "      config=low_temp_config,\n",
        "      contents='Pick a random colour... (respond in a single word)')\n",
        "\n",
        "  if response.text:\n",
        "    print(response.text, '-' * 25)"
      ],
      "metadata": {
        "id": "clymkWv-PfUZ",
        "trusted": true,
        "execution": {
          "iopub.status.busy": "2025-04-12T07:01:17.715229Z",
          "iopub.execute_input": "2025-04-12T07:01:17.716033Z",
          "iopub.status.idle": "2025-04-12T07:01:19.681477Z",
          "shell.execute_reply.started": "2025-04-12T07:01:17.715965Z",
          "shell.execute_reply": "2025-04-12T07:01:19.680454Z"
        },
        "outputId": "1e87f19b-eb9f-40af-c7ac-18c9afb25a04",
        "colab": {
          "base_uri": "https://localhost:8080/"
        }
      },
      "outputs": [
        {
          "output_type": "stream",
          "name": "stdout",
          "text": [
            "Azure\n",
            " -------------------------\n",
            "Azure\n",
            " -------------------------\n",
            "Azure\n",
            " -------------------------\n",
            "Azure\n",
            " -------------------------\n",
            "Azure\n",
            " -------------------------\n"
          ]
        }
      ],
      "execution_count": 16
    },
    {
      "cell_type": "markdown",
      "source": [
        "### Top-P\n",
        "\n",
        "Like temperature, the top-P parameter is also used to control the diversity of the model's output.\n",
        "\n",
        "Top-P defines the probability threshold that, once cumulatively exceeded, tokens stop being selected as candidates. A top-P of 0 is typically equivalent to greedy decoding, and a top-P of 1 typically selects every token in the model's vocabulary.\n",
        "\n",
        "You may also see top-K referenced in LLM literature. Top-K is not configurable in the Gemini 2.0 series of models, but can be changed in older models. Top-K is a positive integer that defines the number of most probable tokens from which to select the output token. A top-K of 1 selects a single token, performing greedy decoding.\n",
        "\n",
        "\n",
        "Run this example a number of times, change the settings and observe the change in output."
      ],
      "metadata": {
        "id": "St5nt3vzitsZ"
      }
    },
    {
      "cell_type": "code",
      "source": [
        "model_config = types.GenerateContentConfig(\n",
        "    # These are the default values for gemini-2.0-flash.\n",
        "    temperature=1.0,\n",
        "    top_p=0.95,\n",
        ")\n",
        "\n",
        "story_prompt = \"You are a creative writer. Write a short story in 50 words about a cat who goes on an adventure.\"\n",
        "response = client.models.generate_content(\n",
        "    model='gemini-2.0-flash',\n",
        "    config=model_config,\n",
        "    contents=story_prompt)\n",
        "\n",
        "print(response.text)"
      ],
      "metadata": {
        "id": "lPlzpEavUV8F",
        "trusted": true,
        "execution": {
          "iopub.status.busy": "2025-04-12T07:28:15.042966Z",
          "iopub.execute_input": "2025-04-12T07:28:15.043394Z",
          "iopub.status.idle": "2025-04-12T07:28:16.167878Z",
          "shell.execute_reply.started": "2025-04-12T07:28:15.043356Z",
          "shell.execute_reply": "2025-04-12T07:28:16.166797Z"
        },
        "outputId": "6ebd0c0b-cdbf-492d-ae39-f3733e2dfe45",
        "colab": {
          "base_uri": "https://localhost:8080/"
        }
      },
      "outputs": [
        {
          "output_type": "stream",
          "name": "stdout",
          "text": [
            "Jasper, a ginger tabby, slipped out the window. The world exploded with scent and sound! He stalked butterflies in sun-drenched meadows, battled rogue squirrels in ancient oaks, and finally, weary but triumphant, returned home. The windowsill winked, welcoming its adventurous feline back to sweet, predictable slumber.\n",
            "\n"
          ]
        }
      ],
      "execution_count": 17
    },
    {
      "cell_type": "markdown",
      "source": [
        "## Prompting\n",
        "\n",
        "This section contains some prompts from the chapter for you to try out directly in the API. Try changing the text here to see how each prompt performs with different instructions, more examples, or any other changes you can think of."
      ],
      "metadata": {
        "id": "rMrYs1koY6DX"
      }
    },
    {
      "cell_type": "markdown",
      "source": [
        "### Zero-shot\n",
        "\n",
        "Zero-shot prompts are prompts that describe the request for the model directly.\n",
        "\n",
        "<table align=left>\n",
        "  <td>\n",
        "    <a target=\"_blank\" href=\"https://aistudio.google.com/prompts/1gzKKgDHwkAvexG5Up0LMtl1-6jKMKe4g\"><img src=\"https://ai.google.dev/site-assets/images/marketing/home/icon-ais.png\" style=\"height: 24px\" height=24/> Open in AI Studio</a>\n",
        "  </td>\n",
        "</table>"
      ],
      "metadata": {
        "id": "hhj_tQidZJP7"
      }
    },
    {
      "cell_type": "code",
      "source": [
        "model_config = types.GenerateContentConfig(\n",
        "    temperature=0.1,\n",
        "    top_p=1,\n",
        "    max_output_tokens=5,\n",
        ")\n",
        "\n",
        "zero_shot_prompt = \"\"\"Classify movie reviews as POSITIVE, NEUTRAL or NEGATIVE.\n",
        "Review: \"Her\" is a disturbing study revealing the direction\n",
        "humanity is headed if AI is allowed to keep evolving,\n",
        "unchecked. I wish there were more movies like this masterpiece.\n",
        "Sentiment: \"\"\"\n",
        "\n",
        "response = client.models.generate_content(\n",
        "    model='gemini-2.0-flash',\n",
        "    config=model_config,\n",
        "    contents=zero_shot_prompt)\n",
        "\n",
        "print(response.text)"
      ],
      "metadata": {
        "id": "1_t-cwnDZzbH",
        "trusted": true,
        "execution": {
          "iopub.status.busy": "2025-04-12T07:28:51.186164Z",
          "iopub.execute_input": "2025-04-12T07:28:51.18654Z",
          "iopub.status.idle": "2025-04-12T07:28:51.751375Z",
          "shell.execute_reply.started": "2025-04-12T07:28:51.186505Z",
          "shell.execute_reply": "2025-04-12T07:28:51.750094Z"
        },
        "outputId": "a649e00b-26c4-447f-c050-69805b96b745",
        "colab": {
          "base_uri": "https://localhost:8080/"
        }
      },
      "outputs": [
        {
          "output_type": "stream",
          "name": "stdout",
          "text": [
            "POSITIVE\n",
            "\n"
          ]
        }
      ],
      "execution_count": 18
    },
    {
      "cell_type": "markdown",
      "source": [
        "#### Enum mode\n",
        "\n",
        "The models are trained to generate text, and while the Gemini 2.0 models are great at following instructions, other models can sometimes produce more text than you may wish for. In the preceding example, the model will output the label, but sometimes it can include a preceding \"Sentiment\" label, and without an output token limit, it may also add explanatory text afterwards. See [this prompt in AI Studio](https://aistudio.google.com/prompts/1gzKKgDHwkAvexG5Up0LMtl1-6jKMKe4g) for an example.\n",
        "\n",
        "The Gemini API has an [Enum mode](https://github.com/google-gemini/cookbook/blob/main/quickstarts/Enum.ipynb) feature that allows you to constrain the output to a fixed set of values."
      ],
      "metadata": {
        "id": "3b5568bdeb11"
      }
    },
    {
      "cell_type": "code",
      "source": [
        "import enum\n",
        "\n",
        "class Sentiment(enum.Enum):\n",
        "    POSITIVE = \"positive\"\n",
        "    NEUTRAL = \"neutral\"\n",
        "    NEGATIVE = \"negative\"\n",
        "\n",
        "\n",
        "response = client.models.generate_content(\n",
        "    model='gemini-2.0-flash',\n",
        "    config=types.GenerateContentConfig(\n",
        "        response_mime_type=\"text/x.enum\",\n",
        "        response_schema=Sentiment\n",
        "    ),\n",
        "    contents=zero_shot_prompt)\n",
        "\n",
        "print(response.text)"
      ],
      "metadata": {
        "id": "ad118a56c598",
        "trusted": true,
        "execution": {
          "iopub.status.busy": "2025-04-12T07:30:17.439605Z",
          "iopub.execute_input": "2025-04-12T07:30:17.440643Z",
          "iopub.status.idle": "2025-04-12T07:30:18.02354Z",
          "shell.execute_reply.started": "2025-04-12T07:30:17.440598Z",
          "shell.execute_reply": "2025-04-12T07:30:18.022651Z"
        },
        "outputId": "9e7a9907-9c19-4641-ffcb-35ae91b2b6c0",
        "colab": {
          "base_uri": "https://localhost:8080/"
        }
      },
      "outputs": [
        {
          "output_type": "stream",
          "name": "stdout",
          "text": [
            "positive\n"
          ]
        }
      ],
      "execution_count": 19
    },
    {
      "cell_type": "markdown",
      "source": [
        "When using constrained output like an enum, the Python SDK will attempt to convert the model's text response into a Python object automatically. It's stored in the `response.parsed` field."
      ],
      "metadata": {
        "id": "oggjscyLb-Cb"
      }
    },
    {
      "cell_type": "code",
      "source": [
        "enum_response = response.parsed\n",
        "print(enum_response)\n",
        "print(type(enum_response))"
      ],
      "metadata": {
        "trusted": true,
        "execution": {
          "iopub.status.busy": "2025-03-31T10:05:19.166944Z",
          "iopub.execute_input": "2025-03-31T10:05:19.167261Z",
          "iopub.status.idle": "2025-03-31T10:05:19.173273Z",
          "shell.execute_reply.started": "2025-03-31T10:05:19.167229Z",
          "shell.execute_reply": "2025-03-31T10:05:19.171617Z"
        },
        "id": "ze_UUQxLb-Cb",
        "colab": {
          "base_uri": "https://localhost:8080/"
        },
        "outputId": "8629aae3-fb34-4b9c-d2b4-8e71337c77c8"
      },
      "outputs": [
        {
          "output_type": "stream",
          "name": "stdout",
          "text": [
            "Sentiment.POSITIVE\n",
            "<enum 'Sentiment'>\n"
          ]
        }
      ],
      "execution_count": 20
    },
    {
      "cell_type": "markdown",
      "source": [
        "### One-shot and few-shot\n",
        "\n",
        "Providing an example of the expected response is known as a \"one-shot\" prompt. When you provide multiple examples, it is a \"few-shot\" prompt.\n",
        "\n",
        "<table align=left>\n",
        "  <td>\n",
        "    <a target=\"_blank\" href=\"https://aistudio.google.com/prompts/1jjWkjUSoMXmLvMJ7IzADr_GxHPJVV2bg\"><img src=\"https://ai.google.dev/site-assets/images/marketing/home/icon-ais.png\" style=\"height: 24px\" height=24/> Open in AI Studio</a>\n",
        "  </td>\n",
        "</table>\n"
      ],
      "metadata": {
        "id": "0udiSwNbv45W"
      }
    },
    {
      "cell_type": "code",
      "source": [
        "few_shot_prompt = \"\"\"Parse a customer's pizza order into valid JSON:\n",
        "\n",
        "EXAMPLE:\n",
        "I want a small pizza with cheese, tomato sauce, and pepperoni.\n",
        "JSON Response:\n",
        "```\n",
        "{\n",
        "\"size\": \"small\",\n",
        "\"type\": \"normal\",\n",
        "\"ingredients\": [\"cheese\", \"tomato sauce\", \"pepperoni\"]\n",
        "}\n",
        "```\n",
        "\n",
        "EXAMPLE:\n",
        "Can I get a large pizza with tomato sauce, basil and mozzarella\n",
        "JSON Response:\n",
        "```\n",
        "{\n",
        "\"size\": \"large\",\n",
        "\"type\": \"normal\",\n",
        "\"ingredients\": [\"tomato sauce\", \"basil\", \"mozzarella\"]\n",
        "}\n",
        "```\n",
        "\n",
        "ORDER:\n",
        "\"\"\"\n",
        "\n",
        "customer_order = \"Give me a large with cheese & pineapple\"\n",
        "\n",
        "response = client.models.generate_content(\n",
        "    model='gemini-2.0-flash',\n",
        "    config=types.GenerateContentConfig(\n",
        "        temperature=0.1,\n",
        "        top_p=1,\n",
        "        max_output_tokens=250,\n",
        "    ),\n",
        "    contents=[few_shot_prompt, customer_order])\n",
        "\n",
        "print(response.text)"
      ],
      "metadata": {
        "id": "hd4mVUukwOKZ",
        "trusted": true,
        "execution": {
          "iopub.status.busy": "2025-04-12T07:33:14.918186Z",
          "iopub.execute_input": "2025-04-12T07:33:14.919249Z",
          "iopub.status.idle": "2025-04-12T07:33:15.564781Z",
          "shell.execute_reply.started": "2025-04-12T07:33:14.919204Z",
          "shell.execute_reply": "2025-04-12T07:33:15.563727Z"
        },
        "outputId": "3070d7ad-8165-485f-f3ce-e82cb3c6b676",
        "colab": {
          "base_uri": "https://localhost:8080/"
        }
      },
      "outputs": [
        {
          "output_type": "stream",
          "name": "stdout",
          "text": [
            "```json\n",
            "{\n",
            "\"size\": \"large\",\n",
            "\"type\": \"normal\",\n",
            "\"ingredients\": [\"cheese\", \"pineapple\"]\n",
            "}\n",
            "```\n",
            "\n"
          ]
        }
      ],
      "execution_count": 21
    },
    {
      "cell_type": "markdown",
      "source": [
        "#### JSON mode\n",
        "\n",
        "To provide control over the schema, and to ensure that you only receive JSON (with no other text or markdown), you can use the Gemini API's [JSON mode](https://github.com/google-gemini/cookbook/blob/main/quickstarts/JSON_mode.ipynb). This forces the model to constrain decoding, such that token selection is guided by the supplied schema."
      ],
      "metadata": {
        "id": "021293096f08"
      }
    },
    {
      "cell_type": "code",
      "source": [
        "import typing_extensions as typing\n",
        "\n",
        "class PizzaOrder(typing.TypedDict):\n",
        "    size: str\n",
        "    ingredients: list[str]\n",
        "    type: str\n",
        "\n",
        "\n",
        "response = client.models.generate_content(\n",
        "    model='gemini-2.0-flash',\n",
        "    config=types.GenerateContentConfig(\n",
        "        temperature=0.1,\n",
        "        response_mime_type=\"application/json\",\n",
        "        response_schema=PizzaOrder,\n",
        "    ),\n",
        "    contents=\"Can I have a large dessert pizza with apple and chocolate\")\n",
        "\n",
        "print(response.text)"
      ],
      "metadata": {
        "id": "50fbf0260912",
        "trusted": true,
        "execution": {
          "iopub.status.busy": "2025-04-12T07:34:47.226241Z",
          "iopub.execute_input": "2025-04-12T07:34:47.226635Z",
          "iopub.status.idle": "2025-04-12T07:34:47.905175Z",
          "shell.execute_reply.started": "2025-04-12T07:34:47.226598Z",
          "shell.execute_reply": "2025-04-12T07:34:47.904078Z"
        },
        "outputId": "0ee9b04d-c8d9-45f7-957b-ee4e7d3b23c2",
        "colab": {
          "base_uri": "https://localhost:8080/"
        }
      },
      "outputs": [
        {
          "output_type": "stream",
          "name": "stdout",
          "text": [
            "{\n",
            "  \"size\": \"large\",\n",
            "  \"ingredients\": [\"apple\", \"chocolate\"],\n",
            "  \"type\": \"dessert\"\n",
            "}\n"
          ]
        }
      ],
      "execution_count": 22
    },
    {
      "cell_type": "markdown",
      "source": [
        "### Chain of Thought (CoT)\n",
        "\n",
        "Direct prompting on LLMs can return answers quickly and (in terms of output token usage) efficiently, but they can be prone to hallucination. The answer may \"look\" correct (in terms of language and syntax) but is incorrect in terms of factuality and reasoning.\n",
        "\n",
        "Chain-of-Thought prompting is a technique where you instruct the model to output intermediate reasoning steps, and it typically gets better results, especially when combined with few-shot examples. It is worth noting that this technique doesn't completely eliminate hallucinations, and that it tends to cost more to run, due to the increased token count.\n",
        "\n",
        "Models like the Gemini family are trained to be \"chatty\" or \"thoughtful\" and will provide reasoning steps without prompting, so for this simple example you can ask the model to be more direct in the prompt to force a non-reasoning response. Try re-running this step if the model gets lucky and gets the answer correct on the first try."
      ],
      "metadata": {
        "id": "4a93e338e57c"
      }
    },
    {
      "cell_type": "code",
      "source": [
        "prompt = \"\"\"When I was 4 years old, my partner was 3 times my age. Now, I\n",
        "am 20 years old. How old is my partner? Return the answer directly.\"\"\"\n",
        "\n",
        "response = client.models.generate_content(\n",
        "    model='gemini-2.0-flash',\n",
        "    contents=prompt)\n",
        "\n",
        "print(response.text)"
      ],
      "metadata": {
        "id": "5715555db1c1",
        "trusted": true,
        "execution": {
          "iopub.status.busy": "2025-04-12T07:36:17.612973Z",
          "iopub.execute_input": "2025-04-12T07:36:17.614139Z",
          "iopub.status.idle": "2025-04-12T07:36:18.109131Z",
          "shell.execute_reply.started": "2025-04-12T07:36:17.614094Z",
          "shell.execute_reply": "2025-04-12T07:36:18.10804Z"
        },
        "outputId": "e275afef-1abe-4c1d-a370-186a5863a5eb",
        "colab": {
          "base_uri": "https://localhost:8080/"
        }
      },
      "outputs": [
        {
          "output_type": "stream",
          "name": "stdout",
          "text": [
            "48\n",
            "\n"
          ]
        }
      ],
      "execution_count": 23
    },
    {
      "cell_type": "markdown",
      "source": [
        "Now try the same approach, but indicate to the model that it should \"think step by step\"."
      ],
      "metadata": {
        "id": "e12b19677bfd"
      }
    },
    {
      "cell_type": "code",
      "source": [
        "prompt = \"\"\"When I was 4 years old, my partner was 3 times my age. Now,\n",
        "I am 20 years old. How old is my partner? Let's think step by step.\"\"\"\n",
        "\n",
        "response = client.models.generate_content(\n",
        "    model='gemini-2.0-flash',\n",
        "    contents=prompt)\n",
        "\n",
        "Markdown(response.text)"
      ],
      "metadata": {
        "id": "ffd7536a481f",
        "trusted": true,
        "execution": {
          "iopub.status.busy": "2025-04-12T07:36:24.688763Z",
          "iopub.execute_input": "2025-04-12T07:36:24.689165Z",
          "iopub.status.idle": "2025-04-12T07:36:25.873441Z",
          "shell.execute_reply.started": "2025-04-12T07:36:24.689128Z",
          "shell.execute_reply": "2025-04-12T07:36:25.872099Z"
        },
        "outputId": "ae410527-6e38-4da6-c937-ba11ab6ca4fa",
        "colab": {
          "base_uri": "https://localhost:8080/",
          "height": 171
        }
      },
      "outputs": [
        {
          "output_type": "execute_result",
          "data": {
            "text/plain": [
              "<IPython.core.display.Markdown object>"
            ],
            "text/markdown": "Here's how to solve the problem step-by-step:\n\n1. **Find the age difference:** When you were 4, your partner was 3 times your age, meaning they were 4 * 3 = 12 years old.\n\n2. **Calculate the age difference:** The age difference between you and your partner is 12 - 4 = 8 years.\n\n3. **Determine the partner's current age:** Since the age difference remains constant, your partner is always 8 years older than you. Now that you are 20, your partner is 20 + 8 = 28 years old.\n\n**Therefore, your partner is 28 years old.**\n"
          },
          "metadata": {},
          "execution_count": 24
        }
      ],
      "execution_count": 24
    },
    {
      "cell_type": "markdown",
      "source": [
        "### ReAct: Reason and act\n",
        "\n",
        "In this example you will run a ReAct prompt directly in the Gemini API and perform the searching steps yourself. As this prompt follows a well-defined structure, there are frameworks available that wrap the prompt into easier-to-use APIs that make tool calls automatically, such as the LangChain example from the \"Prompting\" whitepaper.\n",
        "\n",
        "To try this out with the Wikipedia search engine, check out the [Searching Wikipedia with ReAct](https://github.com/google-gemini/cookbook/blob/main/examples/Search_Wikipedia_using_ReAct.ipynb) cookbook example.\n",
        "\n",
        "\n",
        "> Note: The prompt and in-context examples used here are from [https://github.com/ysymyth/ReAct](https://github.com/ysymyth/ReAct) which is published under an [MIT license](https://opensource.org/licenses/MIT), Copyright (c) 2023 Shunyu Yao.\n",
        "\n",
        "<table align=left>\n",
        "  <td>\n",
        "    <a target=\"_blank\" href=\"https://aistudio.google.com/prompts/18oo63Lwosd-bQ6Ay51uGogB3Wk3H8XMO\"><img src=\"https://ai.google.dev/site-assets/images/marketing/home/icon-ais.png\" style=\"height: 24px\" height=24/> Open in AI Studio</a>\n",
        "  </td>\n",
        "</table>\n"
      ],
      "metadata": {
        "id": "oiLgBQJj0V53"
      }
    },
    {
      "cell_type": "code",
      "source": [
        "model_instructions = \"\"\"\n",
        "Solve a question answering task with interleaving Thought, Action, Observation steps. Thought can reason about the current situation,\n",
        "Observation is understanding relevant information from an Action's output and Action can be one of three types:\n",
        " (1) <search>entity</search>, which searches the exact entity on Wikipedia and returns the first paragraph if it exists. If not, it\n",
        "     will return some similar entities to search and you can try to search the information from those topics.\n",
        " (2) <lookup>keyword</lookup>, which returns the next sentence containing keyword in the current context. This only does exact matches,\n",
        "     so keep your searches short.\n",
        " (3) <finish>answer</finish>, which returns the answer and finishes the task.\n",
        "\"\"\"\n",
        "\n",
        "example1 = \"\"\"Question\n",
        "Musician and satirist Allie Goertz wrote a song about the \"The Simpsons\" character Milhouse, who Matt Groening named after who?\n",
        "\n",
        "Thought 1\n",
        "The question simplifies to \"The Simpsons\" character Milhouse is named after who. I only need to search Milhouse and find who it is named after.\n",
        "\n",
        "Action 1\n",
        "<search>Milhouse</search>\n",
        "\n",
        "Observation 1\n",
        "Milhouse Mussolini Van Houten is a recurring character in the Fox animated television series The Simpsons voiced by Pamela Hayden and created by Matt Groening.\n",
        "\n",
        "Thought 2\n",
        "The paragraph does not tell who Milhouse is named after, maybe I can look up \"named after\".\n",
        "\n",
        "Action 2\n",
        "<lookup>named after</lookup>\n",
        "\n",
        "Observation 2\n",
        "Milhouse was named after U.S. president Richard Nixon, whose middle name was Milhous.\n",
        "\n",
        "Thought 3\n",
        "Milhouse was named after U.S. president Richard Nixon, so the answer is Richard Nixon.\n",
        "\n",
        "Action 3\n",
        "<finish>Richard Nixon</finish>\n",
        "\"\"\"\n",
        "\n",
        "example2 = \"\"\"Question\n",
        "What is the elevation range for the area that the eastern sector of the Colorado orogeny extends into?\n",
        "\n",
        "Thought 1\n",
        "I need to search Colorado orogeny, find the area that the eastern sector of the Colorado orogeny extends into, then find the elevation range of the area.\n",
        "\n",
        "Action 1\n",
        "<search>Colorado orogeny</search>\n",
        "\n",
        "Observation 1\n",
        "The Colorado orogeny was an episode of mountain building (an orogeny) in Colorado and surrounding areas.\n",
        "\n",
        "Thought 2\n",
        "It does not mention the eastern sector. So I need to look up eastern sector.\n",
        "\n",
        "Action 2\n",
        "<lookup>eastern sector</lookup>\n",
        "\n",
        "Observation 2\n",
        "The eastern sector extends into the High Plains and is called the Central Plains orogeny.\n",
        "\n",
        "Thought 3\n",
        "The eastern sector of Colorado orogeny extends into the High Plains. So I need to search High Plains and find its elevation range.\n",
        "\n",
        "Action 3\n",
        "<search>High Plains</search>\n",
        "\n",
        "Observation 3\n",
        "High Plains refers to one of two distinct land regions\n",
        "\n",
        "Thought 4\n",
        "I need to instead search High Plains (United States).\n",
        "\n",
        "Action 4\n",
        "<search>High Plains (United States)</search>\n",
        "\n",
        "Observation 4\n",
        "The High Plains are a subregion of the Great Plains. From east to west, the High Plains rise in elevation from around 1,800 to 7,000 ft (550 to 2,130m).\n",
        "\n",
        "Thought 5\n",
        "High Plains rise in elevation from around 1,800 to 7,000 ft, so the answer is 1,800 to 7,000 ft.\n",
        "\n",
        "Action 5\n",
        "<finish>1,800 to 7,000 ft</finish>\n",
        "\"\"\"\n",
        "\n",
        "# Come up with more examples yourself, or take a look through https://github.com/ysymyth/ReAct/"
      ],
      "metadata": {
        "id": "cBgyNJ5z0VSs",
        "trusted": true,
        "execution": {
          "iopub.status.busy": "2025-04-12T07:41:02.991816Z",
          "iopub.execute_input": "2025-04-12T07:41:02.99278Z",
          "iopub.status.idle": "2025-04-12T07:41:02.999351Z",
          "shell.execute_reply.started": "2025-04-12T07:41:02.99272Z",
          "shell.execute_reply": "2025-04-12T07:41:02.998245Z"
        }
      },
      "outputs": [],
      "execution_count": 25
    },
    {
      "cell_type": "markdown",
      "source": [
        "To capture a single step at a time, while ignoring any hallucinated Observation steps, you will use `stop_sequences` to end the generation process. The steps are `Thought`, `Action`, `Observation`, in that order."
      ],
      "metadata": {
        "id": "C3wbfstjTgey"
      }
    },
    {
      "cell_type": "code",
      "source": [
        "question = \"\"\"Question\n",
        "Who was the youngest author listed on the transformers NLP paper?\n",
        "\"\"\"\n",
        "\n",
        "# You will perform the Action; so generate up to, but not including, the Observation.\n",
        "react_config = types.GenerateContentConfig(\n",
        "    stop_sequences=[\"\\nObservation\"],\n",
        "    system_instruction=model_instructions + example1 + example2,\n",
        ")\n",
        "\n",
        "# Create a chat that has the model instructions and examples pre-seeded.\n",
        "react_chat = client.chats.create(\n",
        "    model='gemini-2.0-flash',\n",
        "    config=react_config,\n",
        ")\n",
        "\n",
        "resp = react_chat.send_message(question)\n",
        "print(resp.text)"
      ],
      "metadata": {
        "id": "8mxrXRkRTdXm",
        "trusted": true,
        "execution": {
          "iopub.status.busy": "2025-04-12T07:41:33.25027Z",
          "iopub.execute_input": "2025-04-12T07:41:33.25098Z",
          "iopub.status.idle": "2025-04-12T07:41:33.976219Z",
          "shell.execute_reply.started": "2025-04-12T07:41:33.250935Z",
          "shell.execute_reply": "2025-04-12T07:41:33.975008Z"
        },
        "outputId": "5997be5d-f58b-417a-d632-b28f261af780",
        "colab": {
          "base_uri": "https://localhost:8080/"
        }
      },
      "outputs": [
        {
          "output_type": "stream",
          "name": "stdout",
          "text": [
            "Thought 1\n",
            "I need to find the transformers NLP paper and identify the authors. Then, find the youngest among them.\n",
            "\n",
            "Action 1\n",
            "<search>transformers NLP paper authors</search>\n",
            "\n"
          ]
        }
      ],
      "execution_count": 26
    },
    {
      "cell_type": "markdown",
      "source": [
        "Now you can perform this research yourself and supply it back to the model."
      ],
      "metadata": {
        "id": "aW2PIdLbVv3l"
      }
    },
    {
      "cell_type": "code",
      "source": [
        "observation = \"\"\"Observation 1\n",
        "[1706.03762] Attention Is All You Need\n",
        "Ashish Vaswani, Noam Shazeer, Niki Parmar, Jakob Uszkoreit, Llion Jones, Aidan N. Gomez, Lukasz Kaiser, Illia Polosukhin\n",
        "We propose a new simple network architecture, the Transformer, based solely on attention mechanisms, dispensing with recurrence and convolutions entirely.\n",
        "\"\"\"\n",
        "resp = react_chat.send_message(observation)\n",
        "print(resp.text)"
      ],
      "metadata": {
        "id": "mLMc0DZaV9g2",
        "trusted": true,
        "execution": {
          "iopub.status.busy": "2025-04-12T07:42:16.163482Z",
          "iopub.execute_input": "2025-04-12T07:42:16.163872Z",
          "iopub.status.idle": "2025-04-12T07:42:17.008848Z",
          "shell.execute_reply.started": "2025-04-12T07:42:16.163834Z",
          "shell.execute_reply": "2025-04-12T07:42:17.007812Z"
        },
        "outputId": "9159cbd4-6439-4425-8338-02c7c2f74dc0",
        "colab": {
          "base_uri": "https://localhost:8080/"
        }
      },
      "outputs": [
        {
          "output_type": "stream",
          "name": "stdout",
          "text": [
            "Thought 2\n",
            "Now I have the authors of the paper: Ashish Vaswani, Noam Shazeer, Niki Parmar, Jakob Uszkoreit, Llion Jones, Aidan N. Gomez, Lukasz Kaiser, Illia Polosukhin. I need to find the age of each of these people and then identify the youngest one. This will likely require multiple searches. Let's start with the first author, Ashish Vaswani.\n",
            "\n",
            "Action 2\n",
            "<search>Ashish Vaswani age</search>\n",
            "\n"
          ]
        }
      ],
      "execution_count": 27
    },
    {
      "cell_type": "markdown",
      "source": [
        "This process repeats until the `<finish>` action is reached. You can continue running this yourself if you like, or try the [Wikipedia example](https://github.com/google-gemini/cookbook/blob/main/examples/Search_Wikipedia_using_ReAct.ipynb) to see a fully automated ReAct system at work."
      ],
      "metadata": {
        "id": "bo0tzf4nX6dA"
      }
    },
    {
      "cell_type": "markdown",
      "source": [
        "## Thinking mode\n",
        "\n",
        "The experiemental Gemini Flash 2.0 \"Thinking\" model has been trained to generate the \"thinking process\" the model goes through as part of its response. As a result, the Flash Thinking model is capable of stronger reasoning capabilities in its responses.\n",
        "\n",
        "Using a \"thinking mode\" model can provide you with high-quality responses without needing specialised prompting like the previous approaches. One reason this technique is effective is that you induce the model to generate relevant information (\"brainstorming\", or \"thoughts\") that is then used as part of the context in which the final response is generated.\n",
        "\n",
        "Note that when you use the API, you get the final response from the model, but the thoughts are not captured. To see the intermediate thoughts, try out [the thinking mode model in AI Studio](https://aistudio.google.com/prompts/new_chat?model=gemini-2.0-flash-thinking-exp-01-21).\n",
        "\n",
        "<table align=left>\n",
        "  <td>\n",
        "    <a target=\"_blank\" href=\"https://aistudio.google.com/prompts/1Z991SV7lZZZqioOiqIUPv9a9ix-ws4zk\"><img src=\"https://ai.google.dev/site-assets/images/marketing/home/icon-ais.png\" style=\"height: 24px\" height=24/> Open in AI Studio</a>\n",
        "  </td>\n",
        "</table>"
      ],
      "metadata": {
        "id": "ouO5wGnqb-Cg"
      }
    },
    {
      "cell_type": "code",
      "source": [
        "import io\n",
        "from IPython.display import Markdown, clear_output\n",
        "\n",
        "\n",
        "response = client.models.generate_content_stream(\n",
        "    model='gemini-2.0-flash-thinking-exp',\n",
        "    contents='Who was the youngest author listed on the transformers NLP paper?',\n",
        ")\n",
        "\n",
        "buf = io.StringIO()\n",
        "for chunk in response:\n",
        "    buf.write(chunk.text)\n",
        "    # Display the response as it is streamed\n",
        "    print(chunk.text, end='')\n",
        "\n",
        "# And then render the finished response as formatted markdown.\n",
        "clear_output()\n",
        "Markdown(buf.getvalue())"
      ],
      "metadata": {
        "trusted": true,
        "execution": {
          "iopub.status.busy": "2025-04-13T04:22:30.669778Z",
          "iopub.execute_input": "2025-04-13T04:22:30.670544Z",
          "iopub.status.idle": "2025-04-13T04:22:37.046659Z",
          "shell.execute_reply.started": "2025-04-13T04:22:30.670502Z",
          "shell.execute_reply": "2025-04-13T04:22:37.045671Z"
        },
        "id": "iofYKsIEb-Ch",
        "outputId": "a7a88f4b-6a9d-45cc-f2b4-45ba53ec02a0",
        "colab": {
          "base_uri": "https://localhost:8080/",
          "height": 69
        }
      },
      "outputs": [
        {
          "output_type": "execute_result",
          "data": {
            "text/plain": [
              "<IPython.core.display.Markdown object>"
            ],
            "text/markdown": "The youngest author listed on the \"Attention is All You Need\" paper (the foundational paper for Transformers in NLP) is **Aidan N. Gomez**.\n\nHe was born in 1995, making him the youngest author among the eight listed on the paper."
          },
          "metadata": {},
          "execution_count": 28
        }
      ],
      "execution_count": 28
    },
    {
      "cell_type": "markdown",
      "source": [
        "## Code prompting"
      ],
      "metadata": {
        "id": "jPiZ_eIIaVPt"
      }
    },
    {
      "cell_type": "markdown",
      "source": [
        "### Generating code\n",
        "\n",
        "The Gemini family of models can be used to generate code, configuration and scripts. Generating code can be helpful when learning to code, learning a new language or for rapidly generating a first draft.\n",
        "\n",
        "It's important to be aware that since LLMs can make mistakes, and can repeat training data, it's essential to read and test your code first, and comply with any relevant licenses.\n",
        "\n",
        "<table align=left>\n",
        "  <td>\n",
        "    <a target=\"_blank\" href=\"https://aistudio.google.com/prompts/1YX71JGtzDjXQkgdes8bP6i3oH5lCRKxv\"><img src=\"https://ai.google.dev/site-assets/images/marketing/home/icon-ais.png\" style=\"height: 24px\" height=24/> Open in AI Studio</a>\n",
        "  </td>\n",
        "</table>"
      ],
      "metadata": {
        "id": "ZinKamwXeR6C"
      }
    },
    {
      "cell_type": "code",
      "source": [
        "# The Gemini models love to talk, so it helps to specify they stick to the code if that\n",
        "# is all that you want.\n",
        "code_prompt = \"\"\"\n",
        "Write a Python function to calculate the factorial of a number. No explanation, provide only the code.\n",
        "\"\"\"\n",
        "\n",
        "response = client.models.generate_content(\n",
        "    model='gemini-2.0-flash',\n",
        "    config=types.GenerateContentConfig(\n",
        "        temperature=1,\n",
        "        top_p=1,\n",
        "        max_output_tokens=1024,\n",
        "    ),\n",
        "    contents=code_prompt)\n",
        "\n",
        "Markdown(response.text)"
      ],
      "metadata": {
        "id": "fOQP9pqmeUO1",
        "trusted": true,
        "execution": {
          "iopub.status.busy": "2025-04-13T04:25:26.059878Z",
          "iopub.execute_input": "2025-04-13T04:25:26.060296Z",
          "iopub.status.idle": "2025-04-13T04:25:26.721068Z",
          "shell.execute_reply.started": "2025-04-13T04:25:26.06026Z",
          "shell.execute_reply": "2025-04-13T04:25:26.719583Z"
        },
        "outputId": "c1ce3c6a-7517-4bc2-c8ce-b64ab8d9b467",
        "colab": {
          "base_uri": "https://localhost:8080/",
          "height": 255
        }
      },
      "outputs": [
        {
          "output_type": "execute_result",
          "data": {
            "text/plain": [
              "<IPython.core.display.Markdown object>"
            ],
            "text/markdown": "```python\ndef factorial(n):\n  \"\"\"\n  Calculates the factorial of a number.\n\n  Args:\n    n: The number to calculate the factorial of.\n\n  Returns:\n    The factorial of the number.\n  \"\"\"\n  if n == 0:\n    return 1\n  else:\n    return n * factorial(n-1)\n```\n"
          },
          "metadata": {},
          "execution_count": 29
        }
      ],
      "execution_count": 29
    },
    {
      "cell_type": "markdown",
      "source": [
        "### Code execution\n",
        "\n",
        "The Gemini API can automatically run generated code too, and will return the output.\n",
        "\n",
        "<table align=left>\n",
        "  <td>\n",
        "    <a target=\"_blank\" href=\"https://aistudio.google.com/prompts/11veFr_VYEwBWcLkhNLr-maCG0G8sS_7Z\"><img src=\"https://ai.google.dev/site-assets/images/marketing/home/icon-ais.png\" style=\"height: 24px\" height=24/> Open in AI Studio</a>\n",
        "  </td>\n",
        "</table>"
      ],
      "metadata": {
        "id": "wlBMWSFhgVRQ"
      }
    },
    {
      "cell_type": "code",
      "source": [
        "from pprint import pprint\n",
        "\n",
        "config = types.GenerateContentConfig(\n",
        "    tools=[types.Tool(code_execution=types.ToolCodeExecution())],\n",
        ")\n",
        "\n",
        "code_exec_prompt = \"\"\"\n",
        "Generate the first 14 odd prime numbers, then calculate their sum.\n",
        "\"\"\"\n",
        "\n",
        "response = client.models.generate_content(\n",
        "    model='gemini-2.0-flash',\n",
        "    config=config,\n",
        "    contents=code_exec_prompt)\n",
        "\n",
        "for part in response.candidates[0].content.parts:\n",
        "  pprint(part.to_json_dict())\n",
        "  print(\"-----\")"
      ],
      "metadata": {
        "id": "jT3OfWYfhjRL",
        "trusted": true,
        "execution": {
          "iopub.status.busy": "2025-04-13T04:26:44.314873Z",
          "iopub.execute_input": "2025-04-13T04:26:44.31526Z",
          "iopub.status.idle": "2025-04-13T04:26:46.43834Z",
          "shell.execute_reply.started": "2025-04-13T04:26:44.315226Z",
          "shell.execute_reply": "2025-04-13T04:26:46.43724Z"
        },
        "outputId": "d8c4d5dd-af44-4bf8-89e2-70fb9a0b3ccb",
        "colab": {
          "base_uri": "https://localhost:8080/"
        }
      },
      "outputs": [
        {
          "output_type": "stream",
          "name": "stdout",
          "text": [
            "{'text': 'Okay, I can do that. First, I will generate the first 14 odd prime '\n",
            "         'numbers. Remember that a prime number is a number greater than 1 '\n",
            "         'that has only two divisors: 1 and itself. The first few primes are '\n",
            "         '2, 3, 5, 7, 11, and so on. I will exclude 2 since the request is for '\n",
            "         'odd prime numbers. Then, I will sum these numbers using python.\\n'\n",
            "         '\\n'}\n",
            "-----\n",
            "{'executable_code': {'code': 'primes = [3, 5, 7, 11, 13, 17, 19, 23, 29, 31, '\n",
            "                             '37, 41, 43, 47]\\n'\n",
            "                             'sum_of_primes = sum(primes)\\n'\n",
            "                             \"print(f'{primes=}')\\n\"\n",
            "                             \"print(f'{sum_of_primes=}')\\n\",\n",
            "                     'language': 'PYTHON'}}\n",
            "-----\n",
            "{'code_execution_result': {'outcome': 'OUTCOME_OK',\n",
            "                           'output': 'primes=[3, 5, 7, 11, 13, 17, 19, 23, 29, '\n",
            "                                     '31, 37, 41, 43, 47]\\n'\n",
            "                                     'sum_of_primes=326\\n'}}\n",
            "-----\n",
            "{'text': 'The first 14 odd prime numbers are 3, 5, 7, 11, 13, 17, 19, 23, 29, '\n",
            "         '31, 37, 41, 43, and 47. Their sum is 326.\\n'}\n",
            "-----\n"
          ]
        }
      ],
      "execution_count": 30
    },
    {
      "cell_type": "markdown",
      "source": [
        "This response contains multiple parts, including an opening and closing text part that represent regular responses, an `executable_code` part that represents generated code and a `code_execution_result` part that represents the results from running the generated code.\n",
        "\n",
        "You can explore them individually."
      ],
      "metadata": {
        "id": "ZspT1GSkjG6d"
      }
    },
    {
      "cell_type": "code",
      "source": [
        "for part in response.candidates[0].content.parts:\n",
        "    if part.text:\n",
        "        display(Markdown(part.text))\n",
        "    elif part.executable_code:\n",
        "        display(Markdown(f'```python\\n{part.executable_code.code}\\n```'))\n",
        "    elif part.code_execution_result:\n",
        "        if part.code_execution_result.outcome != 'OUTCOME_OK':\n",
        "            display(Markdown(f'## Status {part.code_execution_result.outcome}'))\n",
        "\n",
        "        display(Markdown(f'```\\n{part.code_execution_result.output}\\n```'))"
      ],
      "metadata": {
        "trusted": true,
        "execution": {
          "iopub.status.busy": "2025-04-13T04:27:40.24508Z",
          "iopub.execute_input": "2025-04-13T04:27:40.24593Z",
          "iopub.status.idle": "2025-04-13T04:27:40.258825Z",
          "shell.execute_reply.started": "2025-04-13T04:27:40.245888Z",
          "shell.execute_reply": "2025-04-13T04:27:40.257724Z"
        },
        "id": "CC32GgMXb-Cj",
        "outputId": "055dbd73-2a69-4b47-f3dd-7fd996ec5972",
        "colab": {
          "base_uri": "https://localhost:8080/",
          "height": 211
        }
      },
      "outputs": [
        {
          "output_type": "display_data",
          "data": {
            "text/plain": [
              "<IPython.core.display.Markdown object>"
            ],
            "text/markdown": "Okay, I can do that. First, I will generate the first 14 odd prime numbers. Remember that a prime number is a number greater than 1 that has only two divisors: 1 and itself. The first few primes are 2, 3, 5, 7, 11, and so on. I will exclude 2 since the request is for odd prime numbers. Then, I will sum these numbers using python.\n\n"
          },
          "metadata": {}
        },
        {
          "output_type": "display_data",
          "data": {
            "text/plain": [
              "<IPython.core.display.Markdown object>"
            ],
            "text/markdown": "```python\nprimes = [3, 5, 7, 11, 13, 17, 19, 23, 29, 31, 37, 41, 43, 47]\nsum_of_primes = sum(primes)\nprint(f'{primes=}')\nprint(f'{sum_of_primes=}')\n\n```"
          },
          "metadata": {}
        },
        {
          "output_type": "display_data",
          "data": {
            "text/plain": [
              "<IPython.core.display.Markdown object>"
            ],
            "text/markdown": "```\nprimes=[3, 5, 7, 11, 13, 17, 19, 23, 29, 31, 37, 41, 43, 47]\nsum_of_primes=326\n\n```"
          },
          "metadata": {}
        },
        {
          "output_type": "display_data",
          "data": {
            "text/plain": [
              "<IPython.core.display.Markdown object>"
            ],
            "text/markdown": "The first 14 odd prime numbers are 3, 5, 7, 11, 13, 17, 19, 23, 29, 31, 37, 41, 43, and 47. Their sum is 326.\n"
          },
          "metadata": {}
        }
      ],
      "execution_count": 31
    },
    {
      "cell_type": "markdown",
      "source": [
        "### Explaining code\n",
        "\n",
        "The Gemini family of models can explain code to you too. In this example, you pass a [bash script](https://github.com/magicmonty/bash-git-prompt) and ask some questions.\n",
        "\n",
        "<table align=left>\n",
        "  <td>\n",
        "    <a target=\"_blank\" href=\"https://aistudio.google.com/prompts/1N7LGzWzCYieyOf_7bAG4plrmkpDNmUyb\"><img src=\"https://ai.google.dev/site-assets/images/marketing/home/icon-ais.png\" style=\"height: 24px\" height=24/> Open in AI Studio</a>\n",
        "  </td>\n",
        "</table>"
      ],
      "metadata": {
        "id": "1gUX8QzCj4d5"
      }
    },
    {
      "cell_type": "code",
      "source": [
        "file_contents = !curl https://raw.githubusercontent.com/magicmonty/bash-git-prompt/refs/heads/master/gitprompt.sh\n",
        "\n",
        "explain_prompt = f\"\"\"\n",
        "Please explain what this file does at a very high level. What is it, and why would I use it?\n",
        "\n",
        "```\n",
        "{file_contents}\n",
        "```\n",
        "\"\"\"\n",
        "\n",
        "response = client.models.generate_content(\n",
        "    model='gemini-2.0-flash',\n",
        "    contents=explain_prompt)\n",
        "\n",
        "Markdown(response.text)"
      ],
      "metadata": {
        "id": "7_jPMMoxkIEb",
        "trusted": true,
        "execution": {
          "iopub.status.busy": "2025-04-13T04:28:07.629806Z",
          "iopub.execute_input": "2025-04-13T04:28:07.630181Z",
          "iopub.status.idle": "2025-04-13T04:28:10.562751Z",
          "shell.execute_reply.started": "2025-04-13T04:28:07.630147Z",
          "shell.execute_reply": "2025-04-13T04:28:10.561689Z"
        },
        "outputId": "770a8008-e04c-443b-97c7-90cdafc34049",
        "colab": {
          "base_uri": "https://localhost:8080/",
          "height": 286
        }
      },
      "outputs": [
        {
          "output_type": "execute_result",
          "data": {
            "text/plain": [
              "<IPython.core.display.Markdown object>"
            ],
            "text/markdown": "This file is a **Bash script that enhances your command-line prompt to display Git repository information**.  It's often called `bash-git-prompt` or something similar.\n\nHere's a breakdown:\n\n*   **What it does:** It modifies your command prompt to show details about the Git repository you're currently in, such as:\n    *   The current branch\n    *   Whether there are uncommitted changes (staged, unstaged, untracked)\n    *   If your branch is ahead or behind the remote branch\n    *   Stash status\n\n*   **Why you'd use it:**\n    *   **Convenience:**  Quickly see the state of your Git repository without having to type `git status` all the time.\n    *   **Improved Workflow:**  Makes it easier to keep track of your changes and avoid accidentally committing incorrect files.\n    *   **Customization:** It's highly customizable, allowing you to change the colors, symbols, and the information displayed.\n\nIn essence, this script gives you a visual, real-time status of your Git repository directly in your command prompt.\n"
          },
          "metadata": {},
          "execution_count": 32
        }
      ],
      "execution_count": 32
    },
    {
      "cell_type": "markdown",
      "source": [
        "## Learn more\n",
        "\n",
        "To learn more about prompting in depth:\n",
        "\n",
        "* Check out the whitepaper issued with today's content,\n",
        "* Try out the apps listed at the top of this notebook ([TextFX](https://textfx.withgoogle.com/), [SQL Talk](https://sql-talk-r5gdynozbq-uc.a.run.app/) and [NotebookLM](https://notebooklm.google/)),\n",
        "* Read the [Introduction to Prompting](https://ai.google.dev/gemini-api/docs/prompting-intro) from the Gemini API docs,\n",
        "* Explore the Gemini API's [prompt gallery](https://ai.google.dev/gemini-api/prompts) and try them out in AI Studio,\n",
        "* Check out the Gemini API cookbook for [inspirational examples](https://github.com/google-gemini/cookbook/blob/main/examples/) and [educational quickstarts](https://github.com/google-gemini/cookbook/blob/main/quickstarts/).\n",
        "\n",
        "Be sure to check out the codelabs on day 3 too, where you will explore some more advanced prompting with code execution.\n",
        "\n",
        "And please share anything exciting you have tried in the Discord!\n",
        "\n",
        "*- [Mark McD](https://linktr.ee/markmcd)*"
      ],
      "metadata": {
        "id": "2a8266d97ce5"
      }
    }
  ]
}