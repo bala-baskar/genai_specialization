{
  "metadata": {
    "kernelspec": {
      "name": "python3",
      "display_name": "Python 3",
      "language": "python"
    },
    "language_info": {
      "name": "python",
      "version": "3.10.14",
      "mimetype": "text/x-python",
      "codemirror_mode": {
        "name": "ipython",
        "version": 3
      },
      "pygments_lexer": "ipython3",
      "nbconvert_exporter": "python",
      "file_extension": ".py"
    },
    "colab": {
      "provenance": [],
      "include_colab_link": true
    },
    "kaggle": {
      "accelerator": "none",
      "dataSources": [],
      "dockerImageVersionId": 30786,
      "isInternetEnabled": true,
      "language": "python",
      "sourceType": "notebook",
      "isGpuEnabled": false
    }
  },
  "nbformat_minor": 0,
  "nbformat": 4,
  "cells": [
    {
      "cell_type": "markdown",
      "metadata": {
        "id": "view-in-github",
        "colab_type": "text"
      },
      "source": [
        "<a href=\"https://colab.research.google.com/github/bala-baskar/genai_specialization/blob/main/kaggle_genai_course/codes/Day_4_Google_Search_grounding.ipynb\" target=\"_parent\"><img src=\"https://colab.research.google.com/assets/colab-badge.svg\" alt=\"Open In Colab\"/></a>"
      ]
    },
    {
      "cell_type": "markdown",
      "source": [
        "##### Copyright 2025 Google LLC."
      ],
      "metadata": {
        "id": "kokPyXQaY3xI"
      }
    },
    {
      "cell_type": "code",
      "source": [
        "# @title Licensed under the Apache License, Version 2.0 (the \"License\");\n",
        "# you may not use this file except in compliance with the License.\n",
        "# You may obtain a copy of the License at\n",
        "#\n",
        "# https://www.apache.org/licenses/LICENSE-2.0\n",
        "#\n",
        "# Unless required by applicable law or agreed to in writing, software\n",
        "# distributed under the License is distributed on an \"AS IS\" BASIS,\n",
        "# WITHOUT WARRANTIES OR CONDITIONS OF ANY KIND, either express or implied.\n",
        "# See the License for the specific language governing permissions and\n",
        "# limitations under the License."
      ],
      "metadata": {
        "cellView": "form",
        "id": "StB_cTIkY1ZG",
        "jupyter": {
          "source_hidden": true
        },
        "trusted": true,
        "execution": {
          "iopub.status.busy": "2025-04-03T09:58:12.317175Z",
          "iopub.execute_input": "2025-04-03T09:58:12.317555Z",
          "iopub.status.idle": "2025-04-03T09:58:12.340015Z",
          "shell.execute_reply.started": "2025-04-03T09:58:12.317509Z",
          "shell.execute_reply": "2025-04-03T09:58:12.338893Z"
        }
      },
      "outputs": [],
      "execution_count": null
    },
    {
      "cell_type": "markdown",
      "source": [
        "# Day 4 - Google Search grounding with the Gemini API\n",
        "\n",
        "Welcome back to the Kaggle 5-day Generative AI course!\n",
        "\n",
        "In this optional notebook, you will use [Google Search](https://google.com/) results with the Gemini API in a technique called grounding, where the model is connected to verifiable sources of information. Using search grounding is similar to using the RAG system you implemented earlier in the week, but the Gemini API automates a lot of it for you. The model generates Google Search queries and invokes the searches automatically, retrieving relevant data from Google's index of the web and providing links to search suggestions that support the query, so your users can verify the sources.\n",
        "\n",
        "## New in Gemini 2.0\n",
        "\n",
        "Gemini 2.0 Flash provides a generous Google Search quota as part of the [free tier](https://ai.google.dev/pricing). If you switch models back to 1.5, you will need to [enable billing](https://aistudio.google.com/apikey) to use Grounding with Google Search, or you can [try it out in AI Studio](https://aistudio.google.com/). See the [earlier versions of this notebook](https://www.kaggle.com/code/markishere/day-4-google-search-grounding?scriptVersionId=207458162) for guidance."
      ],
      "metadata": {
        "id": "q-mcOl0JY8Xg"
      }
    },
    {
      "cell_type": "markdown",
      "source": [
        "## Optional: Use Google AI Studio\n",
        "\n",
        "If you wish to try out grounding with Google Search, follow this section to try it out using the AI Studio interface. Or skip ahead to the `API` section to try the feature here in your notebook.\n",
        "\n",
        "### Open AI Studio\n",
        "\n",
        "Start by going to [AI Studio](https://aistudio.google.com/prompts/new_chat). You should be in the \"New chat\" interface.\n",
        "\n",
        "Search Grounding is best with `gemini-2.0-flash`, but try out `gemini-1.5-flash` too.\n",
        "\n",
        "![New chat in AI Studio](https://storage.googleapis.com/generativeai-downloads/kaggle/ais-newchat.png)\n",
        "\n",
        "### Ask a question\n",
        "\n",
        "Now enter a prompt into the chat interface. Try asking something that is timely and might require recent information to answer, like a recent sport score. For this query, grounding will be **disabled** by default.\n",
        "\n",
        "This screenshow shows the response for `What were the top halloween costumes this year?`. Every execution will be different but typically the model talks about 2023, and hedges its responses saying it doesn't have access to specific information resulting in a general comment, rather than specific answers.\n",
        "\n",
        "![Sample question-answer pair without grounding](https://storage.googleapis.com/generativeai-downloads/kaggle/cricket-ungrounded.png)\n",
        "\n",
        "### Enable grounding\n",
        "\n",
        "On the right-hand sidebar, under the `Tools` section. Find and enable the `Grounding` option.\n",
        "\n",
        "![Enable grounding button](https://storage.googleapis.com/generativeai-downloads/kaggle/enable-grounding.png)\n",
        "\n",
        "Now re-run your question by hovering over the user prompt in the chat history, and pressing the Gemini ✨ icon to re-run your prompt.\n",
        "\n",
        "![Re-run prompt button](https://storage.googleapis.com/generativeai-downloads/kaggle/re-run-button.png)\n",
        "\n",
        "You should now see a response generated that references sources from Google Search.\n",
        "\n",
        "![Response with grounded sources from Google!](https://storage.googleapis.com/generativeai-downloads/kaggle/cricket-grounded.png)\n",
        "\n",
        "\n",
        "### Try your own queries\n",
        "\n",
        "Explore this interface and try some other queries. Share what works well in the [Discord](https://discord.com/channels/1101210829807956100/1303438361117069363)! You can start from [this blank template](https://aistudio.google.com/app/prompts/1FZtxKLFZIJ1p_0rICu8K2CNIF1tkAnf4) that has search grounding enabled.\n",
        "\n",
        "The remaining steps require an API key with billing enabled. They are not required to complete this course; if you have tried grounding in AI Studio you are done for this notebook."
      ],
      "metadata": {
        "id": "w6Whk3vpMV1s"
      }
    },
    {
      "cell_type": "markdown",
      "source": [
        "## Use the API\n",
        "\n",
        "Start by installing and importing the Gemini API Python SDK."
      ],
      "metadata": {
        "id": "Qcyq976Gbwpo"
      }
    },
    {
      "cell_type": "code",
      "source": [
        "# Uninstall packages from Kaggle base image that are not needed.\n",
        "# !pip uninstall -qy jupyterlab jupyterlab-lsp\n",
        "# Install the google-genai SDK for this codelab.\n",
        "!pip install -qU 'google-genai==1.7.0'"
      ],
      "metadata": {
        "id": "1ZLC4ORSbqme",
        "trusted": true,
        "execution": {
          "iopub.status.busy": "2025-04-03T09:58:12.342823Z",
          "iopub.execute_input": "2025-04-03T09:58:12.3433Z",
          "iopub.status.idle": "2025-04-03T09:58:30.65952Z",
          "shell.execute_reply.started": "2025-04-03T09:58:12.343251Z",
          "shell.execute_reply": "2025-04-03T09:58:30.658231Z"
        },
        "colab": {
          "base_uri": "https://localhost:8080/"
        },
        "outputId": "75b3564a-fdf8-492b-ad6e-089d5558f533"
      },
      "outputs": [
        {
          "output_type": "stream",
          "name": "stdout",
          "text": [
            "\u001b[?25l   \u001b[90m━━━━━━━━━━━━━━━━━━━━━━━━━━━━━━━━━━━━━━━━\u001b[0m \u001b[32m0.0/144.7 kB\u001b[0m \u001b[31m?\u001b[0m eta \u001b[36m-:--:--\u001b[0m\r\u001b[2K   \u001b[90m━━━━━━━━━━━━━━━━━━━━━━━━━━━━━━━━━━━━━━━━\u001b[0m \u001b[32m144.7/144.7 kB\u001b[0m \u001b[31m4.9 MB/s\u001b[0m eta \u001b[36m0:00:00\u001b[0m\n",
            "\u001b[?25h"
          ]
        }
      ],
      "execution_count": 1
    },
    {
      "cell_type": "code",
      "source": [
        "from google import genai\n",
        "from google.genai import types\n",
        "\n",
        "from IPython.display import Markdown, HTML, display\n",
        "\n",
        "genai.__version__"
      ],
      "metadata": {
        "id": "FNkHtOAmbt2B",
        "trusted": true,
        "execution": {
          "iopub.status.busy": "2025-04-03T09:58:30.661065Z",
          "iopub.execute_input": "2025-04-03T09:58:30.661416Z",
          "iopub.status.idle": "2025-04-03T09:58:31.952191Z",
          "shell.execute_reply.started": "2025-04-03T09:58:30.661383Z",
          "shell.execute_reply": "2025-04-03T09:58:31.951108Z"
        },
        "colab": {
          "base_uri": "https://localhost:8080/",
          "height": 35
        },
        "outputId": "638821b8-6d9c-46af-a915-2b50e88c949a"
      },
      "outputs": [
        {
          "output_type": "execute_result",
          "data": {
            "text/plain": [
              "'1.7.0'"
            ],
            "application/vnd.google.colaboratory.intrinsic+json": {
              "type": "string"
            }
          },
          "metadata": {},
          "execution_count": 2
        }
      ],
      "execution_count": 2
    },
    {
      "cell_type": "markdown",
      "source": [
        "### Set up your API key\n",
        "\n",
        "To run the following cell, your API key must be stored it in a [Kaggle secret](https://www.kaggle.com/discussions/product-feedback/114053) named `GOOGLE_API_KEY`.\n",
        "\n",
        "If you don't already have an API key, you can grab one from [AI Studio](https://aistudio.google.com/app/apikey). You can find [detailed instructions in the docs](https://ai.google.dev/gemini-api/docs/api-key).\n",
        "\n",
        "To make the key available through Kaggle secrets, choose `Secrets` from the `Add-ons` menu and follow the instructions to add your key or enable it for this notebook."
      ],
      "metadata": {
        "id": "_NO9cdffb4KR"
      }
    },
    {
      "cell_type": "code",
      "source": [
        "from google.colab import userdata\n",
        "GOOGLE_API_KEY =  userdata.get('GOOGLE_API_KEY')\n",
        "client = genai.Client(api_key=GOOGLE_API_KEY)"
      ],
      "metadata": {
        "id": "8NAmACYHb5DK",
        "trusted": true,
        "execution": {
          "iopub.status.busy": "2025-04-03T09:58:31.953579Z",
          "iopub.execute_input": "2025-04-03T09:58:31.954128Z",
          "iopub.status.idle": "2025-04-03T09:58:32.184023Z",
          "shell.execute_reply.started": "2025-04-03T09:58:31.954086Z",
          "shell.execute_reply": "2025-04-03T09:58:32.182796Z"
        }
      },
      "outputs": [],
      "execution_count": 4
    },
    {
      "cell_type": "markdown",
      "source": [
        "### Automated retry"
      ],
      "metadata": {
        "id": "NC8E903-MV1u"
      }
    },
    {
      "cell_type": "code",
      "source": [
        "# Define a retry policy. The model might make multiple consecutive calls automatically\n",
        "# for a complex query, this ensures the client retries if it hits quota limits.\n",
        "from google.api_core import retry\n",
        "\n",
        "is_retriable = lambda e: (isinstance(e, genai.errors.APIError) and e.code in {429, 503})\n",
        "\n",
        "if not hasattr(genai.models.Models.generate_content, '__wrapped__'):\n",
        "  genai.models.Models.generate_content = retry.Retry(\n",
        "      predicate=is_retriable)(genai.models.Models.generate_content)"
      ],
      "metadata": {
        "trusted": true,
        "execution": {
          "iopub.status.busy": "2025-04-03T09:58:32.185293Z",
          "iopub.execute_input": "2025-04-03T09:58:32.185642Z",
          "iopub.status.idle": "2025-04-03T09:58:32.361998Z",
          "shell.execute_reply.started": "2025-04-03T09:58:32.18559Z",
          "shell.execute_reply": "2025-04-03T09:58:32.361142Z"
        },
        "id": "qdv3yKPWMV1v"
      },
      "outputs": [],
      "execution_count": 5
    },
    {
      "cell_type": "markdown",
      "source": [
        "## Use search grounding\n",
        "\n",
        "### Model support\n",
        "\n",
        "Search grounding is available in a limited set of models. Find a model that supports it on [the models page](https://ai.google.dev/gemini-api/docs/models/gemini).\n",
        "\n",
        "In this guide, you'll use `gemini-2.0-flash`."
      ],
      "metadata": {
        "id": "Rvre6fOrcHi2"
      }
    },
    {
      "cell_type": "markdown",
      "source": [
        "### Make a request\n",
        "\n",
        "To enable search grounding, you specify it as a tool: `google_search`. Like other tools, this is supplied as a parameter in `GenerateContentConfig`, and can be passed to `generate_content` calls as well as `chats.create` (for all chat turns) or `chat.send_message` (for specific turns).\n",
        "\n",
        "\n",
        "<table align=left>\n",
        "  <td>\n",
        "    <a target=\"_blank\" href=\"https://aistudio.google.com/app/prompts/1GTkO-gH4vd6G7LpBJ6Ay7U1OaJer7yDD\"><img src=\"https://ai.google.dev/site-assets/images/marketing/home/icon-ais.png\" style=\"height: 24px\" height=24/> Open in AI Studio</a>\n",
        "  </td>\n",
        "</table>"
      ],
      "metadata": {
        "id": "HW5RVNUierrQ"
      }
    },
    {
      "cell_type": "code",
      "source": [
        "# Ask for information without search grounding.\n",
        "response = client.models.generate_content(\n",
        "    model='gemini-2.0-flash',\n",
        "    contents=\"When and where is Billie Eilish's next concert?\")\n",
        "\n",
        "Markdown(response.text)"
      ],
      "metadata": {
        "id": "JZmdaOlVfCgd",
        "trusted": true,
        "execution": {
          "iopub.status.busy": "2025-04-03T09:58:32.363299Z",
          "iopub.execute_input": "2025-04-03T09:58:32.363783Z",
          "iopub.status.idle": "2025-04-03T09:58:33.200317Z",
          "shell.execute_reply.started": "2025-04-03T09:58:32.363749Z",
          "shell.execute_reply": "2025-04-03T09:58:33.199271Z"
        },
        "colab": {
          "base_uri": "https://localhost:8080/",
          "height": 143
        },
        "outputId": "29811db5-ad16-486f-f096-deb34d47dcb3"
      },
      "outputs": [
        {
          "output_type": "execute_result",
          "data": {
            "text/plain": [
              "<IPython.core.display.Markdown object>"
            ],
            "text/markdown": "As of today, September 27, 2024, Billie Eilish does not have any upcoming concerts scheduled that have been officially announced. Her \"HIT ME HARD AND SOFT: THE TOUR\" concluded in Dublin, Ireland on July 27th, 2024.\n\nThe best place to stay updated on any future concert announcements is to check:\n\n*   **Billie Eilish's official website:** billieeilish.com\n*   **Billie Eilish's official social media accounts:** Instagram, Twitter, Facebook\n*   **Ticketmaster and other major ticketing websites:** These sites are usually the first to list official concert dates."
          },
          "metadata": {},
          "execution_count": 6
        }
      ],
      "execution_count": 6
    },
    {
      "cell_type": "markdown",
      "source": [
        "Now try with grounding enabled.\n",
        "\n",
        "<table align=left>\n",
        "  <td>\n",
        "    <a target=\"_blank\" href=\"https://aistudio.google.com/prompts/14lDR0VjSni6BEUCZUBqj5PzTn3J194Th\"><img src=\"https://ai.google.dev/site-assets/images/marketing/home/icon-ais.png\" style=\"height: 24px\" height=24/> Open in AI Studio</a>\n",
        "  </td>\n",
        "</table>"
      ],
      "metadata": {
        "id": "S5UnAGOrMV1w"
      }
    },
    {
      "cell_type": "code",
      "source": [
        "# And now re-run the same query with search grounding enabled.\n",
        "config_with_search = types.GenerateContentConfig(\n",
        "    tools=[types.Tool(google_search=types.GoogleSearch())],\n",
        ")\n",
        "\n",
        "def query_with_grounding():\n",
        "    response = client.models.generate_content(\n",
        "        model='gemini-2.0-flash',\n",
        "        contents=\"When and where is Billie Eilish's next concert?\",\n",
        "        config=config_with_search,\n",
        "    )\n",
        "    return response.candidates[0]\n",
        "\n",
        "\n",
        "rc = query_with_grounding()\n",
        "Markdown(rc.content.parts[0].text)"
      ],
      "metadata": {
        "id": "i7jqG3nww6kU",
        "trusted": true,
        "execution": {
          "iopub.status.busy": "2025-04-03T10:06:10.714532Z",
          "iopub.execute_input": "2025-04-03T10:06:10.714952Z",
          "iopub.status.idle": "2025-04-03T10:06:12.996772Z",
          "shell.execute_reply.started": "2025-04-03T10:06:10.714915Z",
          "shell.execute_reply": "2025-04-03T10:06:12.995712Z"
        },
        "colab": {
          "base_uri": "https://localhost:8080/",
          "height": 46
        },
        "outputId": "6a709f74-da0f-4e04-f9e5-2dde8bc172b4"
      },
      "outputs": [
        {
          "output_type": "execute_result",
          "data": {
            "text/plain": [
              "<IPython.core.display.Markdown object>"
            ],
            "text/markdown": "Billie Eilish's next concert is on **Wednesday, April 23, 2025, at the Avicii Arena in Stockholm, Sweden.**\n"
          },
          "metadata": {},
          "execution_count": 7
        }
      ],
      "execution_count": 7
    },
    {
      "cell_type": "markdown",
      "source": [
        "### Response metadata\n",
        "\n",
        "When search grounding is used, the model returns extra metadata that includes links to search suggestions, supporting documents and information on how the supporting documents were used.\n",
        "\n",
        "Each \"grounding chunk\" represents information retrieved from Google Search that was used in the grounded generation request. Following the URI will take you to the source."
      ],
      "metadata": {
        "id": "SJc_0FFBgoiJ"
      }
    },
    {
      "cell_type": "code",
      "source": [
        "while not rc.grounding_metadata.grounding_supports or not rc.grounding_metadata.grounding_chunks:\n",
        "    # If incomplete grounding data was returned, retry.\n",
        "    rc = query_with_grounding()\n",
        "\n",
        "chunks = rc.grounding_metadata.grounding_chunks\n",
        "for chunk in chunks:\n",
        "    print(f'{chunk.web.title}: {chunk.web.uri}')"
      ],
      "metadata": {
        "id": "2P7IYMcvxtcy",
        "trusted": true,
        "execution": {
          "iopub.status.busy": "2025-04-03T10:06:16.348495Z",
          "iopub.execute_input": "2025-04-03T10:06:16.348902Z",
          "iopub.status.idle": "2025-04-03T10:06:16.355194Z",
          "shell.execute_reply.started": "2025-04-03T10:06:16.348868Z",
          "shell.execute_reply": "2025-04-03T10:06:16.354002Z"
        },
        "colab": {
          "base_uri": "https://localhost:8080/"
        },
        "outputId": "e33583b4-da86-43c2-a858-67892412018e"
      },
      "outputs": [
        {
          "output_type": "stream",
          "name": "stdout",
          "text": [
            "billieeilishtours2025.com: https://vertexaisearch.cloud.google.com/grounding-api-redirect/AWQVqALbm_2pse1PZ9f5zpoNSRPb8NEKzQ4cgBPbdO6PTN8y_j7IrhD85itIwzyeU50vUlTamW4sE_4liglegwID__wlWRzGOfefOJhnzmskL33ad31V4UUPRv16Dx5f\n",
            "ticketmaster.com: https://vertexaisearch.cloud.google.com/grounding-api-redirect/AWQVqAIA_xir_DHvvOTA3nXf8Ef8XwDR5Io4M_TavXUb8U4XnFQ8q3Jmw5zEMMEZII9z-BcMmhR4qqmSrPwSnXXYMTYsib_SPkvGuN9UjULILRzpAfLhioPzM8fHyZ0PZk2YfE0cAFEm2xMHMakEBJx-gy3qIreVaiI2U1iEnw==\n",
            "ticketmaster.co.uk: https://vertexaisearch.cloud.google.com/grounding-api-redirect/AWQVqAI5RXnvGDa5yLa1UKyjOGoDarthW-D4lAltP6pywfUzP3lZROdRCuMNv2JZQCe9WU-cDdU1cNkQrT-gNI-UQgeHAdz2KwlTmBEv3fPHIgdgGy4f2PPlcobv9nkgC92gpBhuWYaND4Ip7zECWPGSNunTrOlmvXTKU6lwGUmD\n",
            "livenation.me: https://vertexaisearch.cloud.google.com/grounding-api-redirect/AWQVqALCpCKvsMdeTZDaktEyrRH1-p8EjGA3Q-ONw97uslRWoXUuxYVNF0X4wTjQf1BNJ13-QoiReabjSJp-EaZXk6xKwYv7TbTtqgEM0ByJI0fAbCjA-CHfWs4KApAT54YwoOo9EqSyeXnnesHgADIeIUsBXFVu\n"
          ]
        }
      ],
      "execution_count": 8
    },
    {
      "cell_type": "markdown",
      "source": [
        "As part of the response, there is a standalone styled HTML content block that you use to link back to relevant search suggestions related to the generation."
      ],
      "metadata": {
        "id": "ziYb2Fkjzwwx"
      }
    },
    {
      "cell_type": "code",
      "source": [
        "HTML(rc.grounding_metadata.search_entry_point.rendered_content)"
      ],
      "metadata": {
        "id": "DQAgIGJmfxqC",
        "trusted": true,
        "execution": {
          "iopub.status.busy": "2025-04-03T09:51:45.325784Z",
          "iopub.status.idle": "2025-04-03T09:51:45.326372Z",
          "shell.execute_reply.started": "2025-04-03T09:51:45.326076Z",
          "shell.execute_reply": "2025-04-03T09:51:45.326106Z"
        },
        "colab": {
          "base_uri": "https://localhost:8080/",
          "height": 65
        },
        "outputId": "79772e5e-e1c8-4bab-8061-9a53af4aa849"
      },
      "outputs": [
        {
          "output_type": "execute_result",
          "data": {
            "text/plain": [
              "<IPython.core.display.HTML object>"
            ],
            "text/html": [
              "<style>\n",
              ".container {\n",
              "  align-items: center;\n",
              "  border-radius: 8px;\n",
              "  display: flex;\n",
              "  font-family: Google Sans, Roboto, sans-serif;\n",
              "  font-size: 14px;\n",
              "  line-height: 20px;\n",
              "  padding: 8px 12px;\n",
              "}\n",
              ".chip {\n",
              "  display: inline-block;\n",
              "  border: solid 1px;\n",
              "  border-radius: 16px;\n",
              "  min-width: 14px;\n",
              "  padding: 5px 16px;\n",
              "  text-align: center;\n",
              "  user-select: none;\n",
              "  margin: 0 8px;\n",
              "  -webkit-tap-highlight-color: transparent;\n",
              "}\n",
              ".carousel {\n",
              "  overflow: auto;\n",
              "  scrollbar-width: none;\n",
              "  white-space: nowrap;\n",
              "  margin-right: -12px;\n",
              "}\n",
              ".headline {\n",
              "  display: flex;\n",
              "  margin-right: 4px;\n",
              "}\n",
              ".gradient-container {\n",
              "  position: relative;\n",
              "}\n",
              ".gradient {\n",
              "  position: absolute;\n",
              "  transform: translate(3px, -9px);\n",
              "  height: 36px;\n",
              "  width: 9px;\n",
              "}\n",
              "@media (prefers-color-scheme: light) {\n",
              "  .container {\n",
              "    background-color: #fafafa;\n",
              "    box-shadow: 0 0 0 1px #0000000f;\n",
              "  }\n",
              "  .headline-label {\n",
              "    color: #1f1f1f;\n",
              "  }\n",
              "  .chip {\n",
              "    background-color: #ffffff;\n",
              "    border-color: #d2d2d2;\n",
              "    color: #5e5e5e;\n",
              "    text-decoration: none;\n",
              "  }\n",
              "  .chip:hover {\n",
              "    background-color: #f2f2f2;\n",
              "  }\n",
              "  .chip:focus {\n",
              "    background-color: #f2f2f2;\n",
              "  }\n",
              "  .chip:active {\n",
              "    background-color: #d8d8d8;\n",
              "    border-color: #b6b6b6;\n",
              "  }\n",
              "  .logo-dark {\n",
              "    display: none;\n",
              "  }\n",
              "  .gradient {\n",
              "    background: linear-gradient(90deg, #fafafa 15%, #fafafa00 100%);\n",
              "  }\n",
              "}\n",
              "@media (prefers-color-scheme: dark) {\n",
              "  .container {\n",
              "    background-color: #1f1f1f;\n",
              "    box-shadow: 0 0 0 1px #ffffff26;\n",
              "  }\n",
              "  .headline-label {\n",
              "    color: #fff;\n",
              "  }\n",
              "  .chip {\n",
              "    background-color: #2c2c2c;\n",
              "    border-color: #3c4043;\n",
              "    color: #fff;\n",
              "    text-decoration: none;\n",
              "  }\n",
              "  .chip:hover {\n",
              "    background-color: #353536;\n",
              "  }\n",
              "  .chip:focus {\n",
              "    background-color: #353536;\n",
              "  }\n",
              "  .chip:active {\n",
              "    background-color: #464849;\n",
              "    border-color: #53575b;\n",
              "  }\n",
              "  .logo-light {\n",
              "    display: none;\n",
              "  }\n",
              "  .gradient {\n",
              "    background: linear-gradient(90deg, #1f1f1f 15%, #1f1f1f00 100%);\n",
              "  }\n",
              "}\n",
              "</style>\n",
              "<div class=\"container\">\n",
              "  <div class=\"headline\">\n",
              "    <svg class=\"logo-light\" width=\"18\" height=\"18\" viewBox=\"9 9 35 35\" fill=\"none\" xmlns=\"http://www.w3.org/2000/svg\">\n",
              "      <path fill-rule=\"evenodd\" clip-rule=\"evenodd\" d=\"M42.8622 27.0064C42.8622 25.7839 42.7525 24.6084 42.5487 23.4799H26.3109V30.1568H35.5897C35.1821 32.3041 33.9596 34.1222 32.1258 35.3448V39.6864H37.7213C40.9814 36.677 42.8622 32.2571 42.8622 27.0064V27.0064Z\" fill=\"#4285F4\"/>\n",
              "      <path fill-rule=\"evenodd\" clip-rule=\"evenodd\" d=\"M26.3109 43.8555C30.9659 43.8555 34.8687 42.3195 37.7213 39.6863L32.1258 35.3447C30.5898 36.3792 28.6306 37.0061 26.3109 37.0061C21.8282 37.0061 18.0195 33.9811 16.6559 29.906H10.9194V34.3573C13.7563 39.9841 19.5712 43.8555 26.3109 43.8555V43.8555Z\" fill=\"#34A853\"/>\n",
              "      <path fill-rule=\"evenodd\" clip-rule=\"evenodd\" d=\"M16.6559 29.8904C16.3111 28.8559 16.1074 27.7588 16.1074 26.6146C16.1074 25.4704 16.3111 24.3733 16.6559 23.3388V18.8875H10.9194C9.74388 21.2072 9.06992 23.8247 9.06992 26.6146C9.06992 29.4045 9.74388 32.022 10.9194 34.3417L15.3864 30.8621L16.6559 29.8904V29.8904Z\" fill=\"#FBBC05\"/>\n",
              "      <path fill-rule=\"evenodd\" clip-rule=\"evenodd\" d=\"M26.3109 16.2386C28.85 16.2386 31.107 17.1164 32.9095 18.8091L37.8466 13.8719C34.853 11.082 30.9659 9.3736 26.3109 9.3736C19.5712 9.3736 13.7563 13.245 10.9194 18.8875L16.6559 23.3388C18.0195 19.2636 21.8282 16.2386 26.3109 16.2386V16.2386Z\" fill=\"#EA4335\"/>\n",
              "    </svg>\n",
              "    <svg class=\"logo-dark\" width=\"18\" height=\"18\" viewBox=\"0 0 48 48\" xmlns=\"http://www.w3.org/2000/svg\">\n",
              "      <circle cx=\"24\" cy=\"23\" fill=\"#FFF\" r=\"22\"/>\n",
              "      <path d=\"M33.76 34.26c2.75-2.56 4.49-6.37 4.49-11.26 0-.89-.08-1.84-.29-3H24.01v5.99h8.03c-.4 2.02-1.5 3.56-3.07 4.56v.75l3.91 2.97h.88z\" fill=\"#4285F4\"/>\n",
              "      <path d=\"M15.58 25.77A8.845 8.845 0 0 0 24 31.86c1.92 0 3.62-.46 4.97-1.31l4.79 3.71C31.14 36.7 27.65 38 24 38c-5.93 0-11.01-3.4-13.45-8.36l.17-1.01 4.06-2.85h.8z\" fill=\"#34A853\"/>\n",
              "      <path d=\"M15.59 20.21a8.864 8.864 0 0 0 0 5.58l-5.03 3.86c-.98-2-1.53-4.25-1.53-6.64 0-2.39.55-4.64 1.53-6.64l1-.22 3.81 2.98.22 1.08z\" fill=\"#FBBC05\"/>\n",
              "      <path d=\"M24 14.14c2.11 0 4.02.75 5.52 1.98l4.36-4.36C31.22 9.43 27.81 8 24 8c-5.93 0-11.01 3.4-13.45 8.36l5.03 3.85A8.86 8.86 0 0 1 24 14.14z\" fill=\"#EA4335\"/>\n",
              "    </svg>\n",
              "    <div class=\"gradient-container\"><div class=\"gradient\"></div></div>\n",
              "  </div>\n",
              "  <div class=\"carousel\">\n",
              "    <a class=\"chip\" href=\"https://vertexaisearch.cloud.google.com/grounding-api-redirect/AWQVqALaPU_5KfiPoeyOm-G89_eVUtogybqNMKXPMzYszIKCq7YQeneUlAAxKNEHoDQo0NkT_lyWqclyRTgbBZYpdpbw0D2H_WybTVa2UMw_qPEkzjqs2sleR9CIlkrHJGgw6pogUeZ5MWQ-ExsJa6lZ36IH6lg0iplBrPUOhE_y7JPgbTDYP4Z2r95Hg-clhmpNnFaC5-BzT80vZyF1K0wHIfD1QPXFfA==\">Billie Eilish concert schedule 2025</a>\n",
              "  </div>\n",
              "</div>\n"
            ]
          },
          "metadata": {},
          "execution_count": 9
        }
      ],
      "execution_count": 9
    },
    {
      "cell_type": "markdown",
      "source": [
        "The `grounding_supports` in the metadata provide a way for you to correlate the grounding chunks used to the generated output text."
      ],
      "metadata": {
        "id": "pJpqJopp0H0M"
      }
    },
    {
      "cell_type": "code",
      "source": [
        "from pprint import pprint\n",
        "\n",
        "supports = rc.grounding_metadata.grounding_supports\n",
        "for support in supports:\n",
        "    pprint(support.to_json_dict())"
      ],
      "metadata": {
        "id": "sHg9Yq9U0r89",
        "trusted": true,
        "execution": {
          "iopub.status.busy": "2025-04-03T10:06:19.447653Z",
          "iopub.execute_input": "2025-04-03T10:06:19.448041Z",
          "iopub.status.idle": "2025-04-03T10:06:19.455269Z",
          "shell.execute_reply.started": "2025-04-03T10:06:19.448006Z",
          "shell.execute_reply": "2025-04-03T10:06:19.454225Z"
        },
        "colab": {
          "base_uri": "https://localhost:8080/"
        },
        "outputId": "f5cf8e95-a442-421d-ba4e-2ea50c8e8e2a"
      },
      "outputs": [
        {
          "output_type": "stream",
          "name": "stdout",
          "text": [
            "{'confidence_scores': [0.62555945, 0.6526257, 0.6331428, 0.87482506],\n",
            " 'grounding_chunk_indices': [0, 1, 2, 3],\n",
            " 'segment': {'end_index': 186,\n",
            "             'start_index': 123,\n",
            "             'text': '*   **Stockholm, Sweden:** April 23 & 24, 2025, at '\n",
            "                     'Avicii Arena'}}\n",
            "{'confidence_scores': [0.623212, 0.635396, 0.9518325],\n",
            " 'grounding_chunk_indices': [0, 2, 3],\n",
            " 'segment': {'end_index': 239,\n",
            "             'start_index': 187,\n",
            "             'text': '*   **Oslo, Norway:** April 26, 2025, at Unity Arena'}}\n",
            "{'confidence_scores': [0.61769396, 0.61278635, 0.90728784],\n",
            " 'grounding_chunk_indices': [0, 2, 3],\n",
            " 'segment': {'end_index': 304,\n",
            "             'start_index': 240,\n",
            "             'text': '*   **København, Denmark:** April 28 & 29, 2025, at '\n",
            "                     'Royal Arena'}}\n",
            "{'confidence_scores': [0.62970287, 0.6377165, 0.87587047],\n",
            " 'grounding_chunk_indices': [0, 2, 3],\n",
            " 'segment': {'end_index': 357,\n",
            "             'start_index': 305,\n",
            "             'text': '*   **Hannover, Germany:** May 2, 2025, at ZAG Arena'}}\n",
            "{'confidence_scores': [0.6217113],\n",
            " 'grounding_chunk_indices': [2],\n",
            " 'segment': {'end_index': 423,\n",
            "             'start_index': 358,\n",
            "             'text': '*   **Amsterdam, Netherlands:** May 4, 5 & 7, 2025, at '\n",
            "                     'Ziggo Dome'}}\n",
            "{'confidence_scores': [0.6164344, 0.63064814, 0.92038643],\n",
            " 'grounding_chunk_indices': [0, 2, 3],\n",
            " 'segment': {'end_index': 475,\n",
            "             'start_index': 424,\n",
            "             'text': '*   **Berlin, Germany:** May 9, 2025, at Uber Arena'}}\n",
            "{'confidence_scores': [0.61802626, 0.62988544, 0.9418641],\n",
            " 'grounding_chunk_indices': [0, 2, 3],\n",
            " 'segment': {'end_index': 535,\n",
            "             'start_index': 476,\n",
            "             'text': '*   **Köln, Germany:** May 29 & 30, 2025, at LANXESS '\n",
            "                     'arena'}}\n",
            "{'confidence_scores': [0.6290532],\n",
            " 'grounding_chunk_indices': [2],\n",
            " 'segment': {'end_index': 587,\n",
            "             'start_index': 536,\n",
            "             'text': '*   **Glasgow, UK:** July 7 & 8, 2025, at OVO Hydro'}}\n",
            "{'confidence_scores': [0.63503885],\n",
            " 'grounding_chunk_indices': [2],\n",
            " 'segment': {'end_index': 653,\n",
            "             'start_index': 588,\n",
            "             'text': '*   **London, UK:** July 10, 11, 13, 14, 16 & 17, 2025, '\n",
            "                     'at The O2'}}\n",
            "{'confidence_scores': [0.7837746],\n",
            " 'grounding_chunk_indices': [2],\n",
            " 'segment': {'end_index': 708,\n",
            "             'start_index': 654,\n",
            "             'text': '*   **Dublin, Ireland:** July 26 & 27, 2025, at 3Arena'}}\n"
          ]
        }
      ],
      "execution_count": 10
    },
    {
      "cell_type": "markdown",
      "source": [
        "These supports can be used to highlight text in the response, or build tables of footnotes."
      ],
      "metadata": {
        "id": "wkQAGyi87FGn"
      }
    },
    {
      "cell_type": "code",
      "source": [
        "import io\n",
        "\n",
        "markdown_buffer = io.StringIO()\n",
        "\n",
        "# Print the text with footnote markers.\n",
        "markdown_buffer.write(\"Supported text:\\n\\n\")\n",
        "for support in supports:\n",
        "    markdown_buffer.write(\" * \")\n",
        "    markdown_buffer.write(\n",
        "        rc.content.parts[0].text[support.segment.start_index : support.segment.end_index]\n",
        "    )\n",
        "\n",
        "    for i in support.grounding_chunk_indices:\n",
        "        chunk = chunks[i].web\n",
        "        markdown_buffer.write(f\"<sup>[{i+1}]</sup>\")\n",
        "\n",
        "    markdown_buffer.write(\"\\n\\n\")\n",
        "\n",
        "\n",
        "# And print the footnotes.\n",
        "markdown_buffer.write(\"Citations:\\n\\n\")\n",
        "for i, chunk in enumerate(chunks, start=1):\n",
        "    markdown_buffer.write(f\"{i}. [{chunk.web.title}]({chunk.web.uri})\\n\")\n",
        "\n",
        "\n",
        "Markdown(markdown_buffer.getvalue())"
      ],
      "metadata": {
        "id": "9_dEINt43C62",
        "trusted": true,
        "execution": {
          "iopub.status.busy": "2025-04-03T10:06:21.640644Z",
          "iopub.execute_input": "2025-04-03T10:06:21.641418Z",
          "iopub.status.idle": "2025-04-03T10:06:21.650514Z",
          "shell.execute_reply.started": "2025-04-03T10:06:21.641377Z",
          "shell.execute_reply": "2025-04-03T10:06:21.64942Z"
        },
        "colab": {
          "base_uri": "https://localhost:8080/",
          "height": 449
        },
        "outputId": "d4ab7d8f-357d-486a-ee71-d587e9e7d57d"
      },
      "outputs": [
        {
          "output_type": "execute_result",
          "data": {
            "text/plain": [
              "<IPython.core.display.Markdown object>"
            ],
            "text/markdown": "Supported text:\n\n * *   **Stockholm, Sweden:** April 23 & 24, 2025, at Avicii Arena<sup>[1]</sup><sup>[2]</sup><sup>[3]</sup><sup>[4]</sup>\n\n * *   **Oslo, Norway:** April 26, 2025, at Unity Arena<sup>[1]</sup><sup>[3]</sup><sup>[4]</sup>\n\n * *   **København, Denmark:** April 28 & 29, 2025, at Royal Arena\n<sup>[1]</sup><sup>[3]</sup><sup>[4]</sup>\n\n *    **Hannover, Germany:** May 2, 2025, at ZAG Arena\n<sup>[1]</sup><sup>[3]</sup><sup>[4]</sup>\n\n *    **Amsterdam, Netherlands:** May 4, 5 & 7, 2025, at Ziggo Dome\n<sup>[3]</sup>\n\n *    **Berlin, Germany:** May 9, 2025, at Uber Arena\n<sup>[1]</sup><sup>[3]</sup><sup>[4]</sup>\n\n *    **Köln, Germany:** May 29 & 30, 2025, at LANXESS arena\n*<sup>[1]</sup><sup>[3]</sup><sup>[4]</sup>\n\n *   **Glasgow, UK:** July 7 & 8, 2025, at OVO Hydro\n*<sup>[3]</sup>\n\n *   **London, UK:** July 10, 11, 13, 14, 16 & 17, 2025, at The O2\n*<sup>[3]</sup>\n\n *   **Dublin, Ireland:** July 26 & 27, 2025, at 3Arena\n\n<sup>[3]</sup>\n\nCitations:\n\n1. [billieeilishtours2025.com](https://vertexaisearch.cloud.google.com/grounding-api-redirect/AWQVqALbm_2pse1PZ9f5zpoNSRPb8NEKzQ4cgBPbdO6PTN8y_j7IrhD85itIwzyeU50vUlTamW4sE_4liglegwID__wlWRzGOfefOJhnzmskL33ad31V4UUPRv16Dx5f)\n2. [ticketmaster.com](https://vertexaisearch.cloud.google.com/grounding-api-redirect/AWQVqAIA_xir_DHvvOTA3nXf8Ef8XwDR5Io4M_TavXUb8U4XnFQ8q3Jmw5zEMMEZII9z-BcMmhR4qqmSrPwSnXXYMTYsib_SPkvGuN9UjULILRzpAfLhioPzM8fHyZ0PZk2YfE0cAFEm2xMHMakEBJx-gy3qIreVaiI2U1iEnw==)\n3. [ticketmaster.co.uk](https://vertexaisearch.cloud.google.com/grounding-api-redirect/AWQVqAI5RXnvGDa5yLa1UKyjOGoDarthW-D4lAltP6pywfUzP3lZROdRCuMNv2JZQCe9WU-cDdU1cNkQrT-gNI-UQgeHAdz2KwlTmBEv3fPHIgdgGy4f2PPlcobv9nkgC92gpBhuWYaND4Ip7zECWPGSNunTrOlmvXTKU6lwGUmD)\n4. [livenation.me](https://vertexaisearch.cloud.google.com/grounding-api-redirect/AWQVqALCpCKvsMdeTZDaktEyrRH1-p8EjGA3Q-ONw97uslRWoXUuxYVNF0X4wTjQf1BNJ13-QoiReabjSJp-EaZXk6xKwYv7TbTtqgEM0ByJI0fAbCjA-CHfWs4KApAT54YwoOo9EqSyeXnnesHgADIeIUsBXFVu)\n"
          },
          "metadata": {},
          "execution_count": 11
        }
      ],
      "execution_count": 11
    },
    {
      "cell_type": "markdown",
      "source": [
        "## Search with tools\n",
        "\n",
        "In this example, you'll use enable the Google Search grounding tool and the code generation tool across two steps. In the first step, the model will use Google Search to find the requested information and then in the follow-up question, it generates code to plot the results.\n",
        "\n",
        "This usage includes textual, visual and code parts, so first define a function to help visualise these."
      ],
      "metadata": {
        "id": "Q6nZHe_RMV1z"
      }
    },
    {
      "cell_type": "code",
      "source": [
        "from IPython.display import display, Image, Markdown\n",
        "\n",
        "def show_response(response):\n",
        "    for p in response.candidates[0].content.parts:\n",
        "        if p.text:\n",
        "            display(Markdown(p.text))\n",
        "        elif p.inline_data:\n",
        "            display(Image(p.inline_data.data))\n",
        "        else:\n",
        "            print(p.to_json_dict())\n",
        "\n",
        "        display(Markdown('----'))"
      ],
      "metadata": {
        "trusted": true,
        "execution": {
          "iopub.status.busy": "2025-04-03T10:06:32.135955Z",
          "iopub.execute_input": "2025-04-03T10:06:32.137085Z",
          "iopub.status.idle": "2025-04-03T10:06:32.144267Z",
          "shell.execute_reply.started": "2025-04-03T10:06:32.137025Z",
          "shell.execute_reply": "2025-04-03T10:06:32.143171Z"
        },
        "id": "YdbiNgRkMV1z"
      },
      "outputs": [],
      "execution_count": 12
    },
    {
      "cell_type": "markdown",
      "source": [
        "Now start a chat asking for some information. Here you provide the Google Search tool so that the model can look up data from Google's Search index."
      ],
      "metadata": {
        "id": "HIWAfVz-MV1z"
      }
    },
    {
      "cell_type": "code",
      "source": [
        "config_with_search = types.GenerateContentConfig(\n",
        "    tools=[types.Tool(google_search=types.GoogleSearch())],\n",
        "    temperature=0.0,\n",
        ")\n",
        "\n",
        "chat = client.chats.create(model='gemini-2.0-flash')\n",
        "\n",
        "response = chat.send_message(\n",
        "    message=\"What were the medal tallies, by top-10 countries, for the 2024 olympics?\",\n",
        "    config=config_with_search,\n",
        ")\n",
        "\n",
        "show_response(response)"
      ],
      "metadata": {
        "trusted": true,
        "execution": {
          "iopub.status.busy": "2025-04-03T10:06:57.31514Z",
          "iopub.execute_input": "2025-04-03T10:06:57.31568Z",
          "iopub.status.idle": "2025-04-03T10:06:59.731547Z",
          "shell.execute_reply.started": "2025-04-03T10:06:57.315631Z",
          "shell.execute_reply": "2025-04-03T10:06:59.730267Z"
        },
        "id": "_O8uPDhcMV1z",
        "colab": {
          "base_uri": "https://localhost:8080/",
          "height": 247
        },
        "outputId": "1e0e97bd-958a-40e0-b38c-f72117568190"
      },
      "outputs": [
        {
          "output_type": "display_data",
          "data": {
            "text/plain": [
              "<IPython.core.display.Markdown object>"
            ],
            "text/markdown": "Here are the top 10 countries by medal tally at the Paris 2024 Olympics, as of August 12, 2024:\n\n1.  United States of America: 126 (40 Gold, 44 Silver, 42 Bronze)\n2.  People's Republic of China: 91 (40 Gold, 27 Silver, 24 Bronze)\n3.  Japan: 45 (20 Gold, 12 Silver, 13 Bronze)\n4.  Australia: 53 (18 Gold, 19 Silver, 16 Bronze)\n5.  France: 64 (16 Gold, 26 Silver, 22 Bronze)\n6.  Netherlands: 34 (15 Gold, 7 Silver, 12 Bronze)\n7.  Great Britain: 65 (14 Gold, 22 Silver, 29 Bronze)\n8.  Republic of Korea: 32 (13 Gold, 9 Silver, 10 Bronze)\n9.  Italy: 40 (12 Gold, 13 Silver, 15 Bronze)\n10. Germany: 33 (12 Gold, 13 Silver, 8 Bronze)"
          },
          "metadata": {}
        },
        {
          "output_type": "display_data",
          "data": {
            "text/plain": [
              "<IPython.core.display.Markdown object>"
            ],
            "text/markdown": "----"
          },
          "metadata": {}
        }
      ],
      "execution_count": 13
    },
    {
      "cell_type": "markdown",
      "source": [
        "Continuing the chat, now ask the model to convert the data into a chart. The `code_execution` tool is able to generate code to draw charts, execute that code and return the image. You can see the executed code in the `executable_code` part of the response.\n",
        "\n",
        "Combining results from Google Search with tools like live plotting can enable very powerful use cases that require very little code to run."
      ],
      "metadata": {
        "id": "V9f0P9YrMV10"
      }
    },
    {
      "cell_type": "code",
      "source": [
        "config_with_code = types.GenerateContentConfig(\n",
        "    tools=[types.Tool(code_execution=types.ToolCodeExecution())],\n",
        "    temperature=0.0,\n",
        ")\n",
        "\n",
        "response = chat.send_message(\n",
        "    message=\"Now plot this as a seaborn chart. Break out the medals too.\",\n",
        "    config=config_with_code,\n",
        ")\n",
        "\n",
        "show_response(response)"
      ],
      "metadata": {
        "trusted": true,
        "execution": {
          "iopub.status.busy": "2025-04-03T10:06:59.73333Z",
          "iopub.execute_input": "2025-04-03T10:06:59.733656Z",
          "iopub.status.idle": "2025-04-03T10:07:04.594013Z",
          "shell.execute_reply.started": "2025-04-03T10:06:59.733624Z",
          "shell.execute_reply": "2025-04-03T10:07:04.592928Z"
        },
        "id": "oppQBdreMV10",
        "colab": {
          "base_uri": "https://localhost:8080/",
          "height": 73
        },
        "outputId": "93239024-dd31-413b-c859-deb8ced010f7"
      },
      "outputs": [
        {
          "output_type": "display_data",
          "data": {
            "text/plain": [
              "<IPython.core.display.Markdown object>"
            ],
            "text/markdown": "I apologize for the repeated response. It seems I am stuck in a loop. I have already provided the Seaborn chart visualizing the medal distribution for the top 10 countries. I am ready for your next question.\n"
          },
          "metadata": {}
        },
        {
          "output_type": "display_data",
          "data": {
            "text/plain": [
              "<IPython.core.display.Markdown object>"
            ],
            "text/markdown": "----"
          },
          "metadata": {}
        }
      ],
      "execution_count": 16
    },
    {
      "cell_type": "markdown",
      "source": [
        "## Further reading\n",
        "\n",
        "When using search grounding, there are some specific requirements that you must follow, including when and how to show search suggestions, and how to use the grounding links.  Be sure to read and follow the details in the [search grounding capability guide](https://ai.google.dev/gemini-api/docs/grounding) and the [search suggestions guide](https://ai.google.dev/gemini-api/docs/grounding/search-suggestions).\n",
        "\n",
        "Also check out some more compelling examples of using search grounding with the Live API in the [cookbook](https://github.com/google-gemini/cookbook/), like [this example that uses Google Maps to plot Search results on a map](https://github.com/google-gemini/cookbook/blob/main/examples/LiveAPI_plotting_and_mapping.ipynb) in an audio conversation, or [this example](https://github.com/google-gemini/cookbook/blob/main/examples/Search_grounding_for_research_report.ipynb) that builds a comprehensive research report.\n",
        "\n",
        "*- [Mark McD](https://linktr.ee/markmcd)*"
      ],
      "metadata": {
        "id": "Cp7gvdM-zOf0"
      }
    }
  ]
}